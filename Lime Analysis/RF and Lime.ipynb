{
 "cells": [
  {
   "cell_type": "code",
   "execution_count": 1,
   "metadata": {},
   "outputs": [],
   "source": [
    "import pandas as pd\n",
    "import numpy as np\n",
    "import seaborn as sns\n",
    "import os\n",
    "import pdb\n",
    "import matplotlib.pyplot as plt\n",
    "%matplotlib inline\n",
    "\n",
    "from importlib import reload\n",
    "\n",
    "import tree_utils\n",
    "reload(tree_utils)\n",
    "from tree_utils import *\n"
   ]
  },
  {
   "cell_type": "code",
   "execution_count": 2,
   "metadata": {},
   "outputs": [
    {
     "name": "stderr",
     "output_type": "stream",
     "text": [
      "/home/malcolm/Documents/aps_failure/clean_data1.py:9: SettingWithCopyWarning: \n",
      "A value is trying to be set on a copy of a slice from a DataFrame\n",
      "\n",
      "See the caveats in the documentation: http://pandas.pydata.org/pandas-docs/stable/indexing.html#indexing-view-versus-copy\n",
      "  data_raw.drop(large_pct_na, axis = 1, inplace= True)\n"
     ]
    },
    {
     "name": "stdout",
     "output_type": "stream",
     "text": [
      "Beginning to drop na's and nan's... this may take a while \n",
      "Finished replacing....\n",
      "Shape before: (10000, 143)\n",
      "Shape after: (10000, 142)\n"
     ]
    },
    {
     "data": {
      "text/plain": [
       "0    1\n",
       "1    1\n",
       "2    1\n",
       "3    1\n",
       "4    1\n",
       "Name: class, dtype: int64"
      ]
     },
     "execution_count": 2,
     "metadata": {},
     "output_type": "execute_result"
    }
   ],
   "source": [
    "data_raw = pd.read_csv(\"aps_failure_training_set.csv\", skiprows = 20)\n",
    "\n",
    "# Try to understand data\n",
    "data_raw.shape\n",
    "data_raw.head()\n",
    "\n",
    "data_raw_small  = data_raw.iloc[0:10000,:]\n",
    "\n",
    "#data_raw_small.apply(pd.value_counts)[\"na\"]\n",
    "\n",
    "from clean_data1 import clean_data\n",
    "X, Y = clean_data(data_raw_small)\n",
    "\n",
    "Y.value_counts(normalize=True)\n",
    "\n",
    "# Y = Y.apply(lambda x: 1 if x ==\"neg\" else 0)\n",
    "Y.head()\n"
   ]
  },
  {
   "cell_type": "code",
   "execution_count": 3,
   "metadata": {},
   "outputs": [
    {
     "data": {
      "text/html": [
       "<div>\n",
       "<style scoped>\n",
       "    .dataframe tbody tr th:only-of-type {\n",
       "        vertical-align: middle;\n",
       "    }\n",
       "\n",
       "    .dataframe tbody tr th {\n",
       "        vertical-align: top;\n",
       "    }\n",
       "\n",
       "    .dataframe thead th {\n",
       "        text-align: right;\n",
       "    }\n",
       "</style>\n",
       "<table border=\"1\" class=\"dataframe\">\n",
       "  <thead>\n",
       "    <tr style=\"text-align: right;\">\n",
       "      <th></th>\n",
       "      <th>Full</th>\n",
       "      <th>Test</th>\n",
       "      <th>Train</th>\n",
       "    </tr>\n",
       "  </thead>\n",
       "  <tbody>\n",
       "    <tr>\n",
       "      <th>1</th>\n",
       "      <td>0.9805</td>\n",
       "      <td>0.9824</td>\n",
       "      <td>0.979867</td>\n",
       "    </tr>\n",
       "    <tr>\n",
       "      <th>0</th>\n",
       "      <td>0.0195</td>\n",
       "      <td>0.0176</td>\n",
       "      <td>0.020133</td>\n",
       "    </tr>\n",
       "  </tbody>\n",
       "</table>\n",
       "</div>"
      ],
      "text/plain": [
       "     Full    Test     Train\n",
       "1  0.9805  0.9824  0.979867\n",
       "0  0.0195  0.0176  0.020133"
      ]
     },
     "execution_count": 3,
     "metadata": {},
     "output_type": "execute_result"
    }
   ],
   "source": [
    "from sklearn.model_selection import train_test_split\n",
    "X_train, X_test, y_train, y_test = train_test_split(X,Y, test_size = 0.25, random_state = 1)\n",
    "\n",
    "compare_samples = pd.DataFrame({\"Train\":y_train.value_counts(normalize=True),\n",
    "\"Test\": y_test.value_counts(normalize=True),\n",
    "\"Full\":Y.value_counts(normalize=True)})\n",
    "\n",
    "compare_samples"
   ]
  },
  {
   "cell_type": "markdown",
   "metadata": {},
   "source": [
    "### Begin Random Forest Analysis "
   ]
  },
  {
   "cell_type": "code",
   "execution_count": 4,
   "metadata": {},
   "outputs": [],
   "source": [
    "from sklearn.ensemble import RandomForestClassifier"
   ]
  },
  {
   "cell_type": "code",
   "execution_count": 5,
   "metadata": {},
   "outputs": [
    {
     "name": "stdout",
     "output_type": "stream",
     "text": [
      "          Pred_0  Pred_1\n",
      "Actual_0     148       3\n",
      "Actual_1     267    7082\n"
     ]
    },
    {
     "data": {
      "text/plain": [
       "0.556"
      ]
     },
     "execution_count": 5,
     "metadata": {},
     "output_type": "execute_result"
    }
   ],
   "source": [
    "rf_params = {\"n_estimators\" : 40, \"max_depth\":4, \"random_state\":4, \"class_weight\":{1:10, 0:500}}\n",
    "\n",
    "estimator = RandomForestClassifier(**rf_params)\n",
    "estimator.fit(X_train, y_train)\n",
    "\n",
    "estimator.score(X_train, y_train)\n",
    "preds1 = estimator.predict(X_train)\n",
    "\n",
    "custom_score_aps(y_train, preds1)"
   ]
  },
  {
   "cell_type": "code",
   "execution_count": 6,
   "metadata": {},
   "outputs": [
    {
     "name": "stdout",
     "output_type": "stream",
     "text": [
      "          Pred_0  Pred_1\n",
      "Actual_0      40       4\n",
      "Actual_1     105    2351\n"
     ]
    },
    {
     "data": {
      "image/png": "[encoded data removed]",
      "text/plain": [
       "<Figure size 432x288 with 1 Axes>"
      ]
     },
     "metadata": {},
     "output_type": "display_data"
    },
    {
     "name": "stdout",
     "output_type": "stream",
     "text": [
      "          Pred_0  Pred_1\n",
      "Actual_0      40       4\n",
      "Actual_1     105    2351\n"
     ]
    },
    {
     "data": {
      "text/plain": [
       "1.22"
      ]
     },
     "execution_count": 6,
     "metadata": {},
     "output_type": "execute_result"
    }
   ],
   "source": [
    "preds_test = estimator.predict(X_test)\n",
    "custom_score_aps(y_test, preds_test)\n",
    "\n",
    "len(estimator.feature_importances_)\n",
    "\n",
    "# Feature importance stuff\n",
    "feat_imp = pd.DataFrame(estimator.feature_importances_, index = X_train.columns, columns = [\"Feat_Importance\"])\n",
    "\n",
    "feat_imp2 = get_cum_feat_imp(feat_imp)\n",
    "plot_cum_feat_imp(feat_imp2)\n",
    "custom_score_aps(y_test, preds_test)\n"
   ]
  },
  {
   "cell_type": "code",
   "execution_count": 7,
   "metadata": {},
   "outputs": [
    {
     "name": "stdout",
     "output_type": "stream",
     "text": [
      "27\n",
      "43\n"
     ]
    },
    {
     "data": {
      "text/html": [
       "<div>\n",
       "<style scoped>\n",
       "    .dataframe tbody tr th:only-of-type {\n",
       "        vertical-align: middle;\n",
       "    }\n",
       "\n",
       "    .dataframe tbody tr th {\n",
       "        vertical-align: top;\n",
       "    }\n",
       "\n",
       "    .dataframe thead th {\n",
       "        text-align: right;\n",
       "    }\n",
       "</style>\n",
       "<table border=\"1\" class=\"dataframe\">\n",
       "  <thead>\n",
       "    <tr style=\"text-align: right;\">\n",
       "      <th></th>\n",
       "      <th>Feat_Importance</th>\n",
       "    </tr>\n",
       "  </thead>\n",
       "  <tbody>\n",
       "    <tr>\n",
       "      <th>aa_000</th>\n",
       "      <td>0.117367</td>\n",
       "    </tr>\n",
       "    <tr>\n",
       "      <th>ag_002</th>\n",
       "      <td>0.002832</td>\n",
       "    </tr>\n",
       "    <tr>\n",
       "      <th>ag_003</th>\n",
       "      <td>0.008399</td>\n",
       "    </tr>\n",
       "    <tr>\n",
       "      <th>ag_004</th>\n",
       "      <td>0.006861</td>\n",
       "    </tr>\n",
       "    <tr>\n",
       "      <th>ah_000</th>\n",
       "      <td>0.062258</td>\n",
       "    </tr>\n",
       "  </tbody>\n",
       "</table>\n",
       "</div>"
      ],
      "text/plain": [
       "        Feat_Importance\n",
       "aa_000         0.117367\n",
       "ag_002         0.002832\n",
       "ag_003         0.008399\n",
       "ag_004         0.006861\n",
       "ah_000         0.062258"
      ]
     },
     "execution_count": 7,
     "metadata": {},
     "output_type": "execute_result"
    }
   ],
   "source": [
    "cum_cutoff = 0.90\n",
    "indiv_cutoff = 0.002\n",
    "high_imp_feats1 = feat_imp2[feat_imp2[\"Cum_Imp\"] < cum_cutoff]\n",
    "print(len(high_imp_feats1))\n",
    "high_imp_feats2 = feat_imp[feat_imp[\"Feat_Importance\"] > indiv_cutoff]\n",
    "print(len(high_imp_feats2))\n",
    "high_imp_feats2.head()\n",
    "# high_imp_feats1.to_csv(\"High_Importance_27vars.csv\", index = False)\n",
    "# high_imp_feats2.to_csv(\"High_Importance_43vars.csv\", index = False)"
   ]
  },
  {
   "cell_type": "code",
   "execution_count": null,
   "metadata": {},
   "outputs": [],
   "source": []
  },
  {
   "cell_type": "code",
   "execution_count": null,
   "metadata": {},
   "outputs": [],
   "source": []
  },
  {
   "cell_type": "markdown",
   "metadata": {},
   "source": [
    "## Let's build a smaller Random Forest"
   ]
  },
  {
   "cell_type": "code",
   "execution_count": 8,
   "metadata": {},
   "outputs": [],
   "source": [
    "X_train_small = X_train[high_imp_feats2.index]\n",
    "X_test_small = X_test[high_imp_feats2.index]"
   ]
  },
  {
   "cell_type": "code",
   "execution_count": 9,
   "metadata": {},
   "outputs": [
    {
     "name": "stdout",
     "output_type": "stream",
     "text": [
      "          Pred_0  Pred_1\n",
      "Actual_0     148       3\n",
      "Actual_1     253    7096\n"
     ]
    },
    {
     "data": {
      "text/plain": [
       "0.5373333333333333"
      ]
     },
     "execution_count": 9,
     "metadata": {},
     "output_type": "execute_result"
    }
   ],
   "source": [
    "small_est = RandomForestClassifier(**rf_params)\n",
    "small_est.fit(X_train_small, y_train)\n",
    "\n",
    "small_est.score(X_train_small, y_train)\n",
    "preds2 = small_est.predict(X_train_small)\n",
    "\n",
    "custom_score_aps(y_train, preds2)\n"
   ]
  },
  {
   "cell_type": "code",
   "execution_count": 74,
   "metadata": {},
   "outputs": [
    {
     "name": "stdout",
     "output_type": "stream",
     "text": [
      "          Pred_0  Pred_1\n",
      "Actual_0     148       3\n",
      "Actual_1     253    7096\n"
     ]
    },
    {
     "data": {
      "text/plain": [
       "4030"
      ]
     },
     "execution_count": 74,
     "metadata": {},
     "output_type": "execute_result"
    }
   ],
   "source": [
    "custom_score_aps(y_train, preds2, pct=False)\n"
   ]
  },
  {
   "cell_type": "code",
   "execution_count": 10,
   "metadata": {},
   "outputs": [
    {
     "name": "stdout",
     "output_type": "stream",
     "text": [
      "          Pred_0  Pred_1\n",
      "Actual_0      40       4\n",
      "Actual_1     106    2350\n"
     ]
    },
    {
     "data": {
      "image/png": "[encoded data removed]",
      "text/plain": [
       "<Figure size 432x288 with 1 Axes>"
      ]
     },
     "metadata": {},
     "output_type": "display_data"
    },
    {
     "name": "stdout",
     "output_type": "stream",
     "text": [
      "          Pred_0  Pred_1\n",
      "Actual_0      40       4\n",
      "Actual_1     106    2350\n"
     ]
    },
    {
     "data": {
      "text/plain": [
       "1.224"
      ]
     },
     "execution_count": 10,
     "metadata": {},
     "output_type": "execute_result"
    }
   ],
   "source": [
    "preds_test2 = small_est.predict(X_test_small)\n",
    "custom_score_aps(y_test, preds_test2)\n",
    "\n",
    "len(estimator.feature_importances_)\n",
    "\n",
    "# Feature importance stuff\n",
    "feat_imp_small = pd.DataFrame(small_est.feature_importances_, index = X_train_small.columns, columns = [\"Feat_Importance\"])\n",
    "\n",
    "feat_imp_small2 = get_cum_feat_imp(feat_imp_small)\n",
    "plot_cum_feat_imp(feat_imp_small2)\n",
    "custom_score_aps(y_test, preds_test2)\n"
   ]
  },
  {
   "cell_type": "markdown",
   "metadata": {},
   "source": [
    "### Begin examining correlations "
   ]
  },
  {
   "cell_type": "code",
   "execution_count": 11,
   "metadata": {},
   "outputs": [],
   "source": [
    "corr_df_raw = pd.concat([X_train_small, y_train], axis = 1)"
   ]
  },
  {
   "cell_type": "code",
   "execution_count": 12,
   "metadata": {},
   "outputs": [
    {
     "data": {
      "text/plain": [
       "(7500, 44)"
      ]
     },
     "execution_count": 12,
     "metadata": {},
     "output_type": "execute_result"
    }
   ],
   "source": [
    "corr_df_raw.shape"
   ]
  },
  {
   "cell_type": "code",
   "execution_count": 13,
   "metadata": {},
   "outputs": [
    {
     "data": {
      "text/html": [
       "<div>\n",
       "<style scoped>\n",
       "    .dataframe tbody tr th:only-of-type {\n",
       "        vertical-align: middle;\n",
       "    }\n",
       "\n",
       "    .dataframe tbody tr th {\n",
       "        vertical-align: top;\n",
       "    }\n",
       "\n",
       "    .dataframe thead th {\n",
       "        text-align: right;\n",
       "    }\n",
       "</style>\n",
       "<table border=\"1\" class=\"dataframe\">\n",
       "  <thead>\n",
       "    <tr style=\"text-align: right;\">\n",
       "      <th></th>\n",
       "      <th>aa_000</th>\n",
       "      <th>ag_002</th>\n",
       "      <th>ag_003</th>\n",
       "      <th>ag_004</th>\n",
       "      <th>ah_000</th>\n",
       "      <th>al_000</th>\n",
       "      <th>am_0</th>\n",
       "      <th>ao_000</th>\n",
       "      <th>ap_000</th>\n",
       "      <th>aq_000</th>\n",
       "      <th>...</th>\n",
       "      <th>cs_002</th>\n",
       "      <th>cs_003</th>\n",
       "      <th>cs_004</th>\n",
       "      <th>cs_006</th>\n",
       "      <th>de_000</th>\n",
       "      <th>dn_000</th>\n",
       "      <th>dt_000</th>\n",
       "      <th>ee_000</th>\n",
       "      <th>ee_001</th>\n",
       "      <th>class</th>\n",
       "    </tr>\n",
       "  </thead>\n",
       "  <tbody>\n",
       "    <tr>\n",
       "      <th>651</th>\n",
       "      <td>10</td>\n",
       "      <td>0</td>\n",
       "      <td>0</td>\n",
       "      <td>96</td>\n",
       "      <td>1580</td>\n",
       "      <td>0</td>\n",
       "      <td>0</td>\n",
       "      <td>17758</td>\n",
       "      <td>12208</td>\n",
       "      <td>470</td>\n",
       "      <td>...</td>\n",
       "      <td>18</td>\n",
       "      <td>10</td>\n",
       "      <td>180</td>\n",
       "      <td>1240</td>\n",
       "      <td>100</td>\n",
       "      <td>166</td>\n",
       "      <td>16</td>\n",
       "      <td>2976</td>\n",
       "      <td>1356</td>\n",
       "      <td>1</td>\n",
       "    </tr>\n",
       "    <tr>\n",
       "      <th>6560</th>\n",
       "      <td>409078</td>\n",
       "      <td>0</td>\n",
       "      <td>0</td>\n",
       "      <td>49444</td>\n",
       "      <td>13926286</td>\n",
       "      <td>660374</td>\n",
       "      <td>1198326</td>\n",
       "      <td>17536714</td>\n",
       "      <td>9891218</td>\n",
       "      <td>5651258</td>\n",
       "      <td>...</td>\n",
       "      <td>898036</td>\n",
       "      <td>174704</td>\n",
       "      <td>1096546</td>\n",
       "      <td>402</td>\n",
       "      <td>78</td>\n",
       "      <td>369890</td>\n",
       "      <td>12116</td>\n",
       "      <td>951194</td>\n",
       "      <td>530612</td>\n",
       "      <td>0</td>\n",
       "    </tr>\n",
       "    <tr>\n",
       "      <th>8974</th>\n",
       "      <td>91842</td>\n",
       "      <td>0</td>\n",
       "      <td>26116</td>\n",
       "      <td>586288</td>\n",
       "      <td>2955026</td>\n",
       "      <td>9966</td>\n",
       "      <td>14856</td>\n",
       "      <td>4528178</td>\n",
       "      <td>815134</td>\n",
       "      <td>439354</td>\n",
       "      <td>...</td>\n",
       "      <td>263454</td>\n",
       "      <td>347792</td>\n",
       "      <td>229642</td>\n",
       "      <td>1534732</td>\n",
       "      <td>106</td>\n",
       "      <td>41594</td>\n",
       "      <td>44760</td>\n",
       "      <td>758946</td>\n",
       "      <td>793972</td>\n",
       "      <td>1</td>\n",
       "    </tr>\n",
       "    <tr>\n",
       "      <th>2348</th>\n",
       "      <td>39896</td>\n",
       "      <td>0</td>\n",
       "      <td>0</td>\n",
       "      <td>115690</td>\n",
       "      <td>1139312</td>\n",
       "      <td>258</td>\n",
       "      <td>512</td>\n",
       "      <td>2130364</td>\n",
       "      <td>595560</td>\n",
       "      <td>145176</td>\n",
       "      <td>...</td>\n",
       "      <td>153534</td>\n",
       "      <td>129636</td>\n",
       "      <td>235872</td>\n",
       "      <td>136718</td>\n",
       "      <td>376</td>\n",
       "      <td>12458</td>\n",
       "      <td>7032</td>\n",
       "      <td>488442</td>\n",
       "      <td>247256</td>\n",
       "      <td>1</td>\n",
       "    </tr>\n",
       "    <tr>\n",
       "      <th>5670</th>\n",
       "      <td>98196</td>\n",
       "      <td>0</td>\n",
       "      <td>2258</td>\n",
       "      <td>184106</td>\n",
       "      <td>3254412</td>\n",
       "      <td>5400</td>\n",
       "      <td>8126</td>\n",
       "      <td>5347704</td>\n",
       "      <td>933460</td>\n",
       "      <td>398896</td>\n",
       "      <td>...</td>\n",
       "      <td>304416</td>\n",
       "      <td>398720</td>\n",
       "      <td>393604</td>\n",
       "      <td>681178</td>\n",
       "      <td>102</td>\n",
       "      <td>41540</td>\n",
       "      <td>44460</td>\n",
       "      <td>694408</td>\n",
       "      <td>1298672</td>\n",
       "      <td>1</td>\n",
       "    </tr>\n",
       "  </tbody>\n",
       "</table>\n",
       "<p>5 rows × 44 columns</p>\n",
       "</div>"
      ],
      "text/plain": [
       "      aa_000 ag_002 ag_003  ag_004    ah_000  al_000     am_0    ao_000  \\\n",
       "651       10      0      0      96      1580       0        0     17758   \n",
       "6560  409078      0      0   49444  13926286  660374  1198326  17536714   \n",
       "8974   91842      0  26116  586288   2955026    9966    14856   4528178   \n",
       "2348   39896      0      0  115690   1139312     258      512   2130364   \n",
       "5670   98196      0   2258  184106   3254412    5400     8126   5347704   \n",
       "\n",
       "       ap_000   aq_000  ...   cs_002  cs_003   cs_004   cs_006 de_000  dn_000  \\\n",
       "651     12208      470  ...       18      10      180     1240    100     166   \n",
       "6560  9891218  5651258  ...   898036  174704  1096546      402     78  369890   \n",
       "8974   815134   439354  ...   263454  347792   229642  1534732    106   41594   \n",
       "2348   595560   145176  ...   153534  129636   235872   136718    376   12458   \n",
       "5670   933460   398896  ...   304416  398720   393604   681178    102   41540   \n",
       "\n",
       "     dt_000  ee_000   ee_001 class  \n",
       "651      16    2976     1356     1  \n",
       "6560  12116  951194   530612     0  \n",
       "8974  44760  758946   793972     1  \n",
       "2348   7032  488442   247256     1  \n",
       "5670  44460  694408  1298672     1  \n",
       "\n",
       "[5 rows x 44 columns]"
      ]
     },
     "execution_count": 13,
     "metadata": {},
     "output_type": "execute_result"
    }
   ],
   "source": [
    "corr_df_raw.head()"
   ]
  },
  {
   "cell_type": "code",
   "execution_count": 14,
   "metadata": {},
   "outputs": [],
   "source": [
    "corr = corr_df_raw.applymap(np.float64).corr()"
   ]
  },
  {
   "cell_type": "code",
   "execution_count": 15,
   "metadata": {},
   "outputs": [
    {
     "data": {
      "text/plain": [
       "<matplotlib.axes._subplots.AxesSubplot at 0x7bb948d7b9b0>"
      ]
     },
     "execution_count": 15,
     "metadata": {},
     "output_type": "execute_result"
    }
   ],
   "source": [
    "# Generate a mask for the upper triangle\n",
    "mask = np.zeros_like(corr, dtype=np.bool)\n",
    "mask[np.triu_indices_from(mask)] = True\n",
    "\n",
    "# Set up the matplotlib figure\n",
    "f, ax = plt.subplots(figsize=(11, 9))\n",
    "\n",
    "# Generate a custom diverging colormap\n",
    "cmap = sns.diverging_palette(220, 10, as_cmap=True)\n",
    "\n",
    "# Draw the heatmap with the mask and correct aspect ratio\n",
    "sns.heatmap(corr, mask=mask, cmap=cmap, vmax=.3, center=0,\n",
    "            square=True, linewidths=.5, cbar_kws={\"shrink\": .5})\n"
   ]
  },
  {
   "cell_type": "code",
   "execution_count": 16,
   "metadata": {
    "scrolled": true
   },
   "outputs": [
    {
     "data": {
      "image/png": "[encoded data removed]",
      "text/plain": [
       "<Figure size 792x648 with 2 Axes>"
      ]
     },
     "metadata": {},
     "output_type": "display_data"
    }
   ],
   "source": [
    "plt.show()"
   ]
  },
  {
   "cell_type": "code",
   "execution_count": 17,
   "metadata": {
    "scrolled": true
   },
   "outputs": [
    {
     "data": {
      "text/plain": [
       "aa_000   -0.597615\n",
       "ag_002   -0.308480\n",
       "ag_003   -0.432553\n",
       "ag_004   -0.381792\n",
       "ah_000   -0.561489\n",
       "al_000   -0.444962\n",
       "am_0     -0.429586\n",
       "ao_000   -0.552920\n",
       "ap_000   -0.545780\n",
       "aq_000   -0.570137\n",
       "au_000   -0.105877\n",
       "ax_000   -0.207901\n",
       "az_000   -0.177001\n",
       "ba_000   -0.447897\n",
       "ba_001   -0.438734\n",
       "ba_002   -0.426786\n",
       "bb_000   -0.573661\n",
       "be_000   -0.248461\n",
       "bg_000   -0.557961\n",
       "bh_000   -0.528486\n",
       "bj_000   -0.562229\n",
       "bs_000   -0.198826\n",
       "bt_000   -0.590391\n",
       "bu_000   -0.568838\n",
       "bv_000   -0.568838\n",
       "cc_000   -0.523180\n",
       "ci_000   -0.595626\n",
       "cj_000   -0.351247\n",
       "ck_000   -0.465113\n",
       "cn_001   -0.382298\n",
       "cn_002   -0.349071\n",
       "cn_007   -0.211151\n",
       "cp_000   -0.212898\n",
       "cq_000   -0.568838\n",
       "cs_002   -0.391677\n",
       "cs_003   -0.383735\n",
       "cs_004   -0.425193\n",
       "cs_006   -0.247903\n",
       "de_000   -0.227309\n",
       "dn_000   -0.518883\n",
       "dt_000   -0.425018\n",
       "ee_000   -0.427670\n",
       "ee_001   -0.365178\n",
       "class     1.000000\n",
       "Name: class, dtype: float64"
      ]
     },
     "execution_count": 17,
     "metadata": {},
     "output_type": "execute_result"
    }
   ],
   "source": [
    "corr[\"class\"]"
   ]
  },
  {
   "cell_type": "code",
   "execution_count": 18,
   "metadata": {},
   "outputs": [
    {
     "data": {
      "text/html": [
       "<div>\n",
       "<style scoped>\n",
       "    .dataframe tbody tr th:only-of-type {\n",
       "        vertical-align: middle;\n",
       "    }\n",
       "\n",
       "    .dataframe tbody tr th {\n",
       "        vertical-align: top;\n",
       "    }\n",
       "\n",
       "    .dataframe thead th {\n",
       "        text-align: right;\n",
       "    }\n",
       "</style>\n",
       "<table border=\"1\" class=\"dataframe\">\n",
       "  <thead>\n",
       "    <tr style=\"text-align: right;\">\n",
       "      <th></th>\n",
       "      <th>Feat_Importance</th>\n",
       "      <th>Cum_Imp</th>\n",
       "      <th>Diff_Feat_Imp</th>\n",
       "    </tr>\n",
       "  </thead>\n",
       "  <tbody>\n",
       "    <tr>\n",
       "      <th>ck_000</th>\n",
       "      <td>0.115872</td>\n",
       "      <td>0.115872</td>\n",
       "      <td>0.335787</td>\n",
       "    </tr>\n",
       "    <tr>\n",
       "      <th>ci_000</th>\n",
       "      <td>0.105243</td>\n",
       "      <td>0.221115</td>\n",
       "      <td>0.335787</td>\n",
       "    </tr>\n",
       "    <tr>\n",
       "      <th>bu_000</th>\n",
       "      <td>0.104472</td>\n",
       "      <td>0.325587</td>\n",
       "      <td>0.024198</td>\n",
       "    </tr>\n",
       "    <tr>\n",
       "      <th>dn_000</th>\n",
       "      <td>0.072832</td>\n",
       "      <td>0.398419</td>\n",
       "      <td>1.000000</td>\n",
       "    </tr>\n",
       "    <tr>\n",
       "      <th>bt_000</th>\n",
       "      <td>0.065317</td>\n",
       "      <td>0.463736</td>\n",
       "      <td>0.237381</td>\n",
       "    </tr>\n",
       "  </tbody>\n",
       "</table>\n",
       "</div>"
      ],
      "text/plain": [
       "        Feat_Importance   Cum_Imp  Diff_Feat_Imp\n",
       "ck_000         0.115872  0.115872       0.335787\n",
       "ci_000         0.105243  0.221115       0.335787\n",
       "bu_000         0.104472  0.325587       0.024198\n",
       "dn_000         0.072832  0.398419       1.000000\n",
       "bt_000         0.065317  0.463736       0.237381"
      ]
     },
     "execution_count": 18,
     "metadata": {},
     "output_type": "execute_result"
    }
   ],
   "source": [
    "feat_imp_small2.head()"
   ]
  },
  {
   "cell_type": "code",
   "execution_count": 19,
   "metadata": {},
   "outputs": [],
   "source": [
    "feats_corr = feat_imp_small2.join(corr[\"class\"])"
   ]
  },
  {
   "cell_type": "code",
   "execution_count": 20,
   "metadata": {},
   "outputs": [
    {
     "data": {
      "text/html": [
       "<div>\n",
       "<style scoped>\n",
       "    .dataframe tbody tr th:only-of-type {\n",
       "        vertical-align: middle;\n",
       "    }\n",
       "\n",
       "    .dataframe tbody tr th {\n",
       "        vertical-align: top;\n",
       "    }\n",
       "\n",
       "    .dataframe thead th {\n",
       "        text-align: right;\n",
       "    }\n",
       "</style>\n",
       "<table border=\"1\" class=\"dataframe\">\n",
       "  <thead>\n",
       "    <tr style=\"text-align: right;\">\n",
       "      <th></th>\n",
       "      <th>Feat_Importance</th>\n",
       "      <th>Cum_Imp</th>\n",
       "      <th>Diff_Feat_Imp</th>\n",
       "      <th>class</th>\n",
       "    </tr>\n",
       "  </thead>\n",
       "  <tbody>\n",
       "    <tr>\n",
       "      <th>aa_000</th>\n",
       "      <td>0.041254</td>\n",
       "      <td>0.671203</td>\n",
       "      <td>0.075613</td>\n",
       "      <td>-0.597615</td>\n",
       "    </tr>\n",
       "    <tr>\n",
       "      <th>ci_000</th>\n",
       "      <td>0.105243</td>\n",
       "      <td>0.221115</td>\n",
       "      <td>0.335787</td>\n",
       "      <td>-0.595626</td>\n",
       "    </tr>\n",
       "    <tr>\n",
       "      <th>bt_000</th>\n",
       "      <td>0.065317</td>\n",
       "      <td>0.463736</td>\n",
       "      <td>0.237381</td>\n",
       "      <td>-0.590391</td>\n",
       "    </tr>\n",
       "    <tr>\n",
       "      <th>bb_000</th>\n",
       "      <td>0.021806</td>\n",
       "      <td>0.869180</td>\n",
       "      <td>0.054858</td>\n",
       "      <td>-0.573661</td>\n",
       "    </tr>\n",
       "    <tr>\n",
       "      <th>aq_000</th>\n",
       "      <td>0.002253</td>\n",
       "      <td>0.986552</td>\n",
       "      <td>0.011830</td>\n",
       "      <td>-0.570137</td>\n",
       "    </tr>\n",
       "    <tr>\n",
       "      <th>bv_000</th>\n",
       "      <td>0.025653</td>\n",
       "      <td>0.799102</td>\n",
       "      <td>0.037016</td>\n",
       "      <td>-0.568838</td>\n",
       "    </tr>\n",
       "    <tr>\n",
       "      <th>bu_000</th>\n",
       "      <td>0.104472</td>\n",
       "      <td>0.325587</td>\n",
       "      <td>0.024198</td>\n",
       "      <td>-0.568838</td>\n",
       "    </tr>\n",
       "  </tbody>\n",
       "</table>\n",
       "</div>"
      ],
      "text/plain": [
       "        Feat_Importance   Cum_Imp  Diff_Feat_Imp     class\n",
       "aa_000         0.041254  0.671203       0.075613 -0.597615\n",
       "ci_000         0.105243  0.221115       0.335787 -0.595626\n",
       "bt_000         0.065317  0.463736       0.237381 -0.590391\n",
       "bb_000         0.021806  0.869180       0.054858 -0.573661\n",
       "aq_000         0.002253  0.986552       0.011830 -0.570137\n",
       "bv_000         0.025653  0.799102       0.037016 -0.568838\n",
       "bu_000         0.104472  0.325587       0.024198 -0.568838"
      ]
     },
     "execution_count": 20,
     "metadata": {},
     "output_type": "execute_result"
    }
   ],
   "source": [
    "feats_corr.sort_values(by=\"class\").head(7)"
   ]
  },
  {
   "cell_type": "code",
   "execution_count": 21,
   "metadata": {},
   "outputs": [
    {
     "data": {
      "text/html": [
       "<div>\n",
       "<style scoped>\n",
       "    .dataframe tbody tr th:only-of-type {\n",
       "        vertical-align: middle;\n",
       "    }\n",
       "\n",
       "    .dataframe tbody tr th {\n",
       "        vertical-align: top;\n",
       "    }\n",
       "\n",
       "    .dataframe thead th {\n",
       "        text-align: right;\n",
       "    }\n",
       "</style>\n",
       "<table border=\"1\" class=\"dataframe\">\n",
       "  <thead>\n",
       "    <tr style=\"text-align: right;\">\n",
       "      <th></th>\n",
       "      <th>Feat_Importance</th>\n",
       "      <th>Cum_Imp</th>\n",
       "      <th>Diff_Feat_Imp</th>\n",
       "      <th>class</th>\n",
       "    </tr>\n",
       "  </thead>\n",
       "  <tbody>\n",
       "    <tr>\n",
       "      <th>de_000</th>\n",
       "      <td>0.006924</td>\n",
       "      <td>0.944182</td>\n",
       "      <td>0.004792</td>\n",
       "      <td>-0.227309</td>\n",
       "    </tr>\n",
       "    <tr>\n",
       "      <th>cp_000</th>\n",
       "      <td>0.006441</td>\n",
       "      <td>0.950623</td>\n",
       "      <td>0.015072</td>\n",
       "      <td>-0.212898</td>\n",
       "    </tr>\n",
       "    <tr>\n",
       "      <th>cn_007</th>\n",
       "      <td>0.002971</td>\n",
       "      <td>0.975823</td>\n",
       "      <td>0.003073</td>\n",
       "      <td>-0.211151</td>\n",
       "    </tr>\n",
       "    <tr>\n",
       "      <th>ax_000</th>\n",
       "      <td>0.002025</td>\n",
       "      <td>0.990767</td>\n",
       "      <td>0.005015</td>\n",
       "      <td>-0.207901</td>\n",
       "    </tr>\n",
       "    <tr>\n",
       "      <th>bs_000</th>\n",
       "      <td>0.000858</td>\n",
       "      <td>0.999262</td>\n",
       "      <td>0.009205</td>\n",
       "      <td>-0.198826</td>\n",
       "    </tr>\n",
       "    <tr>\n",
       "      <th>az_000</th>\n",
       "      <td>0.002634</td>\n",
       "      <td>0.984299</td>\n",
       "      <td>0.008496</td>\n",
       "      <td>-0.177001</td>\n",
       "    </tr>\n",
       "    <tr>\n",
       "      <th>au_000</th>\n",
       "      <td>0.001809</td>\n",
       "      <td>0.994558</td>\n",
       "      <td>0.005286</td>\n",
       "      <td>-0.105877</td>\n",
       "    </tr>\n",
       "  </tbody>\n",
       "</table>\n",
       "</div>"
      ],
      "text/plain": [
       "        Feat_Importance   Cum_Imp  Diff_Feat_Imp     class\n",
       "de_000         0.006924  0.944182       0.004792 -0.227309\n",
       "cp_000         0.006441  0.950623       0.015072 -0.212898\n",
       "cn_007         0.002971  0.975823       0.003073 -0.211151\n",
       "ax_000         0.002025  0.990767       0.005015 -0.207901\n",
       "bs_000         0.000858  0.999262       0.009205 -0.198826\n",
       "az_000         0.002634  0.984299       0.008496 -0.177001\n",
       "au_000         0.001809  0.994558       0.005286 -0.105877"
      ]
     },
     "execution_count": 21,
     "metadata": {},
     "output_type": "execute_result"
    }
   ],
   "source": [
    "feats_corr.sort_values(by=\"class\").tail(7)"
   ]
  },
  {
   "cell_type": "code",
   "execution_count": 22,
   "metadata": {},
   "outputs": [
    {
     "data": {
      "text/html": [
       "<div>\n",
       "<style scoped>\n",
       "    .dataframe tbody tr th:only-of-type {\n",
       "        vertical-align: middle;\n",
       "    }\n",
       "\n",
       "    .dataframe tbody tr th {\n",
       "        vertical-align: top;\n",
       "    }\n",
       "\n",
       "    .dataframe thead th {\n",
       "        text-align: right;\n",
       "    }\n",
       "</style>\n",
       "<table border=\"1\" class=\"dataframe\">\n",
       "  <thead>\n",
       "    <tr style=\"text-align: right;\">\n",
       "      <th></th>\n",
       "      <th>Feat_Importance</th>\n",
       "      <th>Cum_Imp</th>\n",
       "      <th>Diff_Feat_Imp</th>\n",
       "      <th>class</th>\n",
       "    </tr>\n",
       "  </thead>\n",
       "  <tbody>\n",
       "    <tr>\n",
       "      <th>ee_001</th>\n",
       "      <td>0.000738</td>\n",
       "      <td>1.000000</td>\n",
       "      <td>0.003607</td>\n",
       "      <td>-0.365178</td>\n",
       "    </tr>\n",
       "    <tr>\n",
       "      <th>bs_000</th>\n",
       "      <td>0.000858</td>\n",
       "      <td>0.999262</td>\n",
       "      <td>0.009205</td>\n",
       "      <td>-0.198826</td>\n",
       "    </tr>\n",
       "    <tr>\n",
       "      <th>be_000</th>\n",
       "      <td>0.001156</td>\n",
       "      <td>0.998403</td>\n",
       "      <td>0.003861</td>\n",
       "      <td>-0.248461</td>\n",
       "    </tr>\n",
       "    <tr>\n",
       "      <th>ba_002</th>\n",
       "      <td>0.001284</td>\n",
       "      <td>0.997247</td>\n",
       "      <td>0.003623</td>\n",
       "      <td>-0.426786</td>\n",
       "    </tr>\n",
       "    <tr>\n",
       "      <th>cs_006</th>\n",
       "      <td>0.001405</td>\n",
       "      <td>0.995963</td>\n",
       "      <td>0.012549</td>\n",
       "      <td>-0.247903</td>\n",
       "    </tr>\n",
       "    <tr>\n",
       "      <th>au_000</th>\n",
       "      <td>0.001809</td>\n",
       "      <td>0.994558</td>\n",
       "      <td>0.005286</td>\n",
       "      <td>-0.105877</td>\n",
       "    </tr>\n",
       "    <tr>\n",
       "      <th>cj_000</th>\n",
       "      <td>0.001982</td>\n",
       "      <td>0.992749</td>\n",
       "      <td>0.001161</td>\n",
       "      <td>-0.351247</td>\n",
       "    </tr>\n",
       "  </tbody>\n",
       "</table>\n",
       "</div>"
      ],
      "text/plain": [
       "        Feat_Importance   Cum_Imp  Diff_Feat_Imp     class\n",
       "ee_001         0.000738  1.000000       0.003607 -0.365178\n",
       "bs_000         0.000858  0.999262       0.009205 -0.198826\n",
       "be_000         0.001156  0.998403       0.003861 -0.248461\n",
       "ba_002         0.001284  0.997247       0.003623 -0.426786\n",
       "cs_006         0.001405  0.995963       0.012549 -0.247903\n",
       "au_000         0.001809  0.994558       0.005286 -0.105877\n",
       "cj_000         0.001982  0.992749       0.001161 -0.351247"
      ]
     },
     "execution_count": 22,
     "metadata": {},
     "output_type": "execute_result"
    }
   ],
   "source": [
    "feats_corr.sort_values(by=\"Feat_Importance\").head(7)"
   ]
  },
  {
   "cell_type": "code",
   "execution_count": null,
   "metadata": {},
   "outputs": [],
   "source": []
  },
  {
   "cell_type": "markdown",
   "metadata": {},
   "source": [
    "### Begin exploring Predictions before LIME"
   ]
  },
  {
   "cell_type": "raw",
   "metadata": {},
   "source": [
    "preds_prob_test_raw = small_est.predict_proba(X_test_small)\n",
    "preds_prob_test = pd.DataFrame([x[0] for x in preds_prob_test_raw], columns = [\"scores\"])\n",
    "X_test2 = X_test_small.applymap(float)\n",
    "quantiles = np.arange(0, 1.1, 0.1)\n",
    "pred_quantiles = preds_prob_test.quantile(quantiles)\n",
    "n_unique_score_tiles = pred_quantiles.nunique()\n",
    "bin_labels = np.arange(0,n_unique_score_tiles-1) \n",
    "preds_prob_test[\"quantiles\"]  = pd.qcut(preds_prob_test[\"scores\"], q = quantiles, labels = bin_labels, duplicates = 'drop')\n",
    "temp_preds = preds_prob_test[preds_prob_test.quantiles == 3]\n",
    "temp_preds.shape"
   ]
  },
  {
   "cell_type": "code",
   "execution_count": null,
   "metadata": {},
   "outputs": [],
   "source": []
  },
  {
   "cell_type": "code",
   "execution_count": 92,
   "metadata": {},
   "outputs": [],
   "source": [
    "def add_quantile_to_data(data, estimator, quantiles = np.arange(0, 1.1, 0.1), pred_number = 0):\n",
    "    \"\"\"\n",
    "    Takes data and an estmiator and returns the scores and the score tiles \n",
    "\n",
    "    Inputs: \n",
    "        data (pandas df): should match the estimator \n",
    "        estimator\n",
    "    \n",
    "    \n",
    "    \"\"\"\n",
    "    \n",
    "    try:\n",
    "        if estimator.n_features_ != data.shape[1]:\n",
    "            print(\"NUmber of features in estimator is not equal to columns in dataframe\")\n",
    "    except AttributeError:\n",
    "        print(\"Estimator does not have n_feature as attribute\")\n",
    "        pass \n",
    "    \n",
    "    if type(data) != pd.DataFrame:\n",
    "        try:\n",
    "            data = pd.DataFrame(data)\n",
    "        except:\n",
    "            print(\"Could not turn data into data frame\")\n",
    "            pass\n",
    "    \n",
    "    # Generate Predictions \n",
    "    preds_prob_test_raw = estimator.predict_proba(data)\n",
    "    preds_prob_test = pd.DataFrame([x[pred_number] for x in preds_prob_test_raw], columns = [\"scores\"])\n",
    "    # Get quantiles \n",
    "    pred_quantiles = preds_prob_test.quantile(quantiles)\n",
    "    print(\"Quantiles:\\n\" ,pred_quantiles)\n",
    "    # Append quantile rank to scores \n",
    "    n_unique_score_tiles = pred_quantiles.nunique()\n",
    "    bin_labels = np.arange(0,n_unique_score_tiles-1) \n",
    "    preds_prob_test[\"quantiles\"]  = pd.qcut(preds_prob_test[\"scores\"], q = quantiles, labels = bin_labels, duplicates = 'drop')\n",
    "    preds_prob_test[\"quantiles\"] =  preds_prob_test[\"quantiles\"].apply(np.float)\n",
    "    \n",
    "    # Merge original data with scores \n",
    "    data_scores = data.join(preds_prob_test)\n",
    "    print(\"Final Shape: \", data_scores.shape)\n",
    "    return(data_scores)"
   ]
  },
  {
   "cell_type": "code",
   "execution_count": 24,
   "metadata": {
    "scrolled": true
   },
   "outputs": [
    {
     "name": "stdout",
     "output_type": "stream",
     "text": [
      "Quantiles:\n",
      "        scores\n",
      "0.0  0.001662\n",
      "0.1  0.002022\n",
      "0.2  0.002022\n",
      "0.3  0.002022\n",
      "0.4  0.002022\n",
      "0.5  0.002798\n",
      "0.6  0.007186\n",
      "0.7  0.008517\n",
      "0.8  0.027966\n",
      "0.9  0.133547\n",
      "1.0  0.979842\n"
     ]
    },
    {
     "ename": "ValueError",
     "evalue": "Buffer dtype mismatch, expected 'Python object' but got 'double'",
     "output_type": "error",
     "traceback": [
      "\u001b[0;31m---------------------------------------------------------------------------\u001b[0m",
      "\u001b[0;31mValueError\u001b[0m                                Traceback (most recent call last)",
      "\u001b[0;31mValueError\u001b[0m: Buffer dtype mismatch, expected 'Python object' but got 'double'"
     ]
    },
    {
     "name": "stdout",
     "output_type": "stream",
     "text": [
      "Final Shape:  (7500, 45)\n"
     ]
    },
    {
     "name": "stderr",
     "output_type": "stream",
     "text": [
      "Exception ignored in: 'pandas._libs.lib.is_bool_array'\n",
      "ValueError: Buffer dtype mismatch, expected 'Python object' but got 'double'\n"
     ]
    },
    {
     "data": {
      "text/html": [
       "<div>\n",
       "<style scoped>\n",
       "    .dataframe tbody tr th:only-of-type {\n",
       "        vertical-align: middle;\n",
       "    }\n",
       "\n",
       "    .dataframe tbody tr th {\n",
       "        vertical-align: top;\n",
       "    }\n",
       "\n",
       "    .dataframe thead th {\n",
       "        text-align: right;\n",
       "    }\n",
       "</style>\n",
       "<table border=\"1\" class=\"dataframe\">\n",
       "  <thead>\n",
       "    <tr style=\"text-align: right;\">\n",
       "      <th></th>\n",
       "      <th>count</th>\n",
       "      <th>mean</th>\n",
       "      <th>std</th>\n",
       "      <th>min</th>\n",
       "      <th>25%</th>\n",
       "      <th>50%</th>\n",
       "      <th>75%</th>\n",
       "      <th>max</th>\n",
       "    </tr>\n",
       "    <tr>\n",
       "      <th>quantiles</th>\n",
       "      <th></th>\n",
       "      <th></th>\n",
       "      <th></th>\n",
       "      <th></th>\n",
       "      <th></th>\n",
       "      <th></th>\n",
       "      <th></th>\n",
       "      <th></th>\n",
       "    </tr>\n",
       "  </thead>\n",
       "  <tbody>\n",
       "    <tr>\n",
       "      <th>0.0</th>\n",
       "      <td>2604.0</td>\n",
       "      <td>0.002022</td>\n",
       "      <td>4.337642e-19</td>\n",
       "      <td>0.002022</td>\n",
       "      <td>0.002022</td>\n",
       "      <td>0.002022</td>\n",
       "      <td>0.002022</td>\n",
       "      <td>0.002022</td>\n",
       "    </tr>\n",
       "    <tr>\n",
       "      <th>1.0</th>\n",
       "      <td>467.0</td>\n",
       "      <td>0.002798</td>\n",
       "      <td>0.000000e+00</td>\n",
       "      <td>0.002798</td>\n",
       "      <td>0.002798</td>\n",
       "      <td>0.002798</td>\n",
       "      <td>0.002798</td>\n",
       "      <td>0.002798</td>\n",
       "    </tr>\n",
       "    <tr>\n",
       "      <th>2.0</th>\n",
       "      <td>599.0</td>\n",
       "      <td>0.005942</td>\n",
       "      <td>1.524582e-03</td>\n",
       "      <td>0.003124</td>\n",
       "      <td>0.004708</td>\n",
       "      <td>0.007186</td>\n",
       "      <td>0.007186</td>\n",
       "      <td>0.007186</td>\n",
       "    </tr>\n",
       "    <tr>\n",
       "      <th>3.0</th>\n",
       "      <td>260.0</td>\n",
       "      <td>0.007703</td>\n",
       "      <td>3.624159e-04</td>\n",
       "      <td>0.007382</td>\n",
       "      <td>0.007382</td>\n",
       "      <td>0.007382</td>\n",
       "      <td>0.008159</td>\n",
       "      <td>0.008496</td>\n",
       "    </tr>\n",
       "    <tr>\n",
       "      <th>4.0</th>\n",
       "      <td>554.0</td>\n",
       "      <td>0.017076</td>\n",
       "      <td>5.994634e-03</td>\n",
       "      <td>0.008820</td>\n",
       "      <td>0.011610</td>\n",
       "      <td>0.015927</td>\n",
       "      <td>0.022896</td>\n",
       "      <td>0.027966</td>\n",
       "    </tr>\n",
       "    <tr>\n",
       "      <th>5.0</th>\n",
       "      <td>548.0</td>\n",
       "      <td>0.053904</td>\n",
       "      <td>2.377615e-02</td>\n",
       "      <td>0.028022</td>\n",
       "      <td>0.035744</td>\n",
       "      <td>0.046023</td>\n",
       "      <td>0.064340</td>\n",
       "      <td>0.132678</td>\n",
       "    </tr>\n",
       "    <tr>\n",
       "      <th>6.0</th>\n",
       "      <td>573.0</td>\n",
       "      <td>0.583083</td>\n",
       "      <td>3.004703e-01</td>\n",
       "      <td>0.134017</td>\n",
       "      <td>0.294451</td>\n",
       "      <td>0.553921</td>\n",
       "      <td>0.895359</td>\n",
       "      <td>0.979842</td>\n",
       "    </tr>\n",
       "  </tbody>\n",
       "</table>\n",
       "</div>"
      ],
      "text/plain": [
       "            count      mean           std       min       25%       50%  \\\n",
       "quantiles                                                                 \n",
       "0.0        2604.0  0.002022  4.337642e-19  0.002022  0.002022  0.002022   \n",
       "1.0         467.0  0.002798  0.000000e+00  0.002798  0.002798  0.002798   \n",
       "2.0         599.0  0.005942  1.524582e-03  0.003124  0.004708  0.007186   \n",
       "3.0         260.0  0.007703  3.624159e-04  0.007382  0.007382  0.007382   \n",
       "4.0         554.0  0.017076  5.994634e-03  0.008820  0.011610  0.015927   \n",
       "5.0         548.0  0.053904  2.377615e-02  0.028022  0.035744  0.046023   \n",
       "6.0         573.0  0.583083  3.004703e-01  0.134017  0.294451  0.553921   \n",
       "\n",
       "                75%       max  \n",
       "quantiles                      \n",
       "0.0        0.002022  0.002022  \n",
       "1.0        0.002798  0.002798  \n",
       "2.0        0.007186  0.007186  \n",
       "3.0        0.008159  0.008496  \n",
       "4.0        0.022896  0.027966  \n",
       "5.0        0.064340  0.132678  \n",
       "6.0        0.895359  0.979842  "
      ]
     },
     "execution_count": 24,
     "metadata": {},
     "output_type": "execute_result"
    }
   ],
   "source": [
    "X_train2 = X_train_small.applymap(float)\n",
    "X_test2 = X_test_small.applymap(float)\n",
    "train_score_data = add_quantile_to_data(X_train2, small_est)\n",
    "train_score_data.groupby(\"quantiles\")[\"scores\"].describe()"
   ]
  },
  {
   "cell_type": "markdown",
   "metadata": {},
   "source": [
    "We see that around 50% of the scores have a score around 0.002 or 0.2%  \n",
    "The highest tile of scores are at 0.21"
   ]
  },
  {
   "cell_type": "code",
   "execution_count": 25,
   "metadata": {},
   "outputs": [
    {
     "data": {
      "image/png": "[encoded data removed]",
      "text/plain": [
       "<Figure size 432x288 with 1 Axes>"
      ]
     },
     "metadata": {},
     "output_type": "display_data"
    }
   ],
   "source": [
    "train_score_data[\"scores\"].hist()\n",
    "plt.show()"
   ]
  },
  {
   "cell_type": "code",
   "execution_count": null,
   "metadata": {},
   "outputs": [],
   "source": []
  },
  {
   "cell_type": "code",
   "execution_count": null,
   "metadata": {},
   "outputs": [],
   "source": []
  },
  {
   "cell_type": "markdown",
   "metadata": {},
   "source": [
    "### Begin Using LIME "
   ]
  },
  {
   "cell_type": "code",
   "execution_count": 26,
   "metadata": {},
   "outputs": [],
   "source": [
    "import lime\n",
    "import lime.lime_tabular"
   ]
  },
  {
   "cell_type": "code",
   "execution_count": null,
   "metadata": {},
   "outputs": [],
   "source": []
  },
  {
   "cell_type": "code",
   "execution_count": 27,
   "metadata": {},
   "outputs": [],
   "source": [
    "# Remember that lime explainer needs values as float \n",
    "# explainer_low = lime.lime_tabular.LimeTabularExplainer(high_data, feature_names = X_train2.columns, \\\n",
    "#                                                       discretize_continuous= False)\n",
    "explainer = lime.lime_tabular.LimeTabularExplainer(X_train2.values, \\\n",
    "                                                   feature_names = X_train2.columns,\\\n",
    "                                                   class_names = y_train.unique(), discretize_continuous= False)\n"
   ]
  },
  {
   "cell_type": "code",
   "execution_count": 28,
   "metadata": {},
   "outputs": [],
   "source": [
    "# exp2 = explainer_low.explain_instance(high_data[0], small_est.predict_proba, num_features=5, num_samples=1000)\n",
    "# exp3 = explainer_low.explain_instance(low_data[0], small_est.predict_proba, num_features = 5, num_samples = 1000)\n",
    "# exp2.as_list()\n",
    "# exp3.as_list()"
   ]
  },
  {
   "cell_type": "code",
   "execution_count": null,
   "metadata": {},
   "outputs": [],
   "source": []
  },
  {
   "cell_type": "code",
   "execution_count": 29,
   "metadata": {},
   "outputs": [],
   "source": [
    "low_data = train_score_data[train_score_data[\"quantiles\"] == 1].drop([\"scores\", \"quantiles\"], axis =1).values\n",
    "high_data = train_score_data[train_score_data[\"quantiles\"] == 6].drop([\"scores\", \"quantiles\"], axis =1).values\n"
   ]
  },
  {
   "cell_type": "code",
   "execution_count": 30,
   "metadata": {},
   "outputs": [
    {
     "name": "stdout",
     "output_type": "stream",
     "text": [
      "High data shape: (573, 43)\n",
      "Low data shape: (467, 43)\n"
     ]
    }
   ],
   "source": [
    "print(\"High data shape:\", high_data.shape)\n",
    "print(\"Low data shape:\", low_data.shape)"
   ]
  },
  {
   "cell_type": "code",
   "execution_count": 31,
   "metadata": {
    "scrolled": true
   },
   "outputs": [
    {
     "data": {
      "image/png": "[encoded data removed]",
      "text/plain": [
       "<Figure size 432x288 with 1 Axes>"
      ]
     },
     "execution_count": 31,
     "metadata": {},
     "output_type": "execute_result"
    }
   ],
   "source": [
    "exp_l = explainer.explain_instance(low_data[0], small_est.predict_proba, num_features=10, num_samples = 2000)\n",
    "exp_l.as_pyplot_figure()"
   ]
  },
  {
   "cell_type": "code",
   "execution_count": null,
   "metadata": {},
   "outputs": [],
   "source": []
  },
  {
   "cell_type": "code",
   "execution_count": 32,
   "metadata": {},
   "outputs": [
    {
     "data": {
      "image/png": "[encoded data removed]",
      "text/plain": [
       "<Figure size 432x288 with 1 Axes>"
      ]
     },
     "execution_count": 32,
     "metadata": {},
     "output_type": "execute_result"
    }
   ],
   "source": [
    "exp_h = explainer.explain_instance(high_data[0], small_est.predict_proba, num_features=10, num_samples = 2000)\n",
    "exp_h.as_pyplot_figure()"
   ]
  },
  {
   "cell_type": "code",
   "execution_count": 33,
   "metadata": {},
   "outputs": [
    {
     "name": "stdout",
     "output_type": "stream",
     "text": [
      "Low observation Explainations: \n",
      " [('ck_000', -0.027435941760284566), ('aa_000', -0.01703445029455624), ('ci_000', -0.01625637160429996), ('de_000', -0.014867925811205449), ('cs_004', -0.013266999054586705), ('dn_000', -0.01291697009601665), ('cc_000', -0.01218256092039867), ('dt_000', -0.011123167328743522), ('bj_000', -0.010849140403673243), ('aq_000', -0.008665493020096055)]\n",
      "\n",
      "High observation Explainations: \n",
      " [('ck_000', -0.026808111557922), ('ci_000', -0.017010952938692668), ('aa_000', -0.016645411435252683), ('cc_000', -0.01537395833739034), ('bt_000', -0.012086556822532084), ('am_0', -0.011259817245777373), ('al_000', -0.01054668530960505), ('dt_000', -0.009862221354546726), ('ag_004', -0.008090989406965537), ('ao_000', -0.006931039419400301)]\n"
     ]
    }
   ],
   "source": [
    "print(\"Low observation Explainations: \\n\", exp_l.as_list())\n",
    "print(\"\\nHigh observation Explainations: \\n\", exp_h.as_list())"
   ]
  },
  {
   "cell_type": "code",
   "execution_count": 34,
   "metadata": {},
   "outputs": [],
   "source": [
    "def compare_explainations(exp1_full, exp2_full):\n",
    "    \n",
    "    def exp_df(exp):\n",
    "        exp1 = exp.as_list()\n",
    "        vars1 = {x[0]:x[1] for x in exp1}\n",
    "        demo1 = pd.DataFrame(exp1)\n",
    "        demo1.set_index(0, inplace = True)\n",
    "        demo1.columns = [\"coef\"]\n",
    "        return(demo1)\n",
    "    \n",
    "    demo1 = exp_df(exp1_full)\n",
    "    demo2 = exp_df(exp2_full)\n",
    "    \n",
    "    # Merge and aggregate\n",
    "    demo_all = demo1.join(demo2, how=\"outer\", lsuffix = \"_1\", rsuffix=\"_2\")\n",
    "    demo_all[\"diff\"] = demo_all[\"coef_1\"] - demo_all[\"coef_2\"]\n",
    "    demo_all[\"diff_o_avg\"] = demo_all[\"diff\"]/np.nanmean([demo_all[\"coef_1\"], demo_all[\"coef_2\"]])\n",
    "    n_solo_vars = demo_all[\"diff\"].isna().sum()\n",
    "    n_matched = demo_all.shape[0] - n_solo_vars\n",
    "    \n",
    "    # Outputs \n",
    "    print(\"Total size is: \", demo_all.shape[0])\n",
    "    print(\"Number of matched vars: \", n_matched)\n",
    "    print(\"Vars with only one match: \", n_solo_vars)\n",
    "\n",
    "    return(demo_all)\n"
   ]
  },
  {
   "cell_type": "code",
   "execution_count": 35,
   "metadata": {},
   "outputs": [
    {
     "name": "stdout",
     "output_type": "stream",
     "text": [
      "Total size is:  15\n",
      "Number of matched vars:  5\n",
      "Vars with only one match:  10\n"
     ]
    }
   ],
   "source": [
    "comp_exps = compare_explainations(exp_l, exp_h)"
   ]
  },
  {
   "cell_type": "code",
   "execution_count": 36,
   "metadata": {},
   "outputs": [
    {
     "data": {
      "text/html": [
       "<div>\n",
       "<style scoped>\n",
       "    .dataframe tbody tr th:only-of-type {\n",
       "        vertical-align: middle;\n",
       "    }\n",
       "\n",
       "    .dataframe tbody tr th {\n",
       "        vertical-align: top;\n",
       "    }\n",
       "\n",
       "    .dataframe thead th {\n",
       "        text-align: right;\n",
       "    }\n",
       "</style>\n",
       "<table border=\"1\" class=\"dataframe\">\n",
       "  <thead>\n",
       "    <tr style=\"text-align: right;\">\n",
       "      <th></th>\n",
       "      <th>coef_1</th>\n",
       "      <th>coef_2</th>\n",
       "      <th>diff</th>\n",
       "      <th>diff_o_avg</th>\n",
       "    </tr>\n",
       "    <tr>\n",
       "      <th>0</th>\n",
       "      <th></th>\n",
       "      <th></th>\n",
       "      <th></th>\n",
       "      <th></th>\n",
       "    </tr>\n",
       "  </thead>\n",
       "  <tbody>\n",
       "    <tr>\n",
       "      <th>aa_000</th>\n",
       "      <td>-0.017034</td>\n",
       "      <td>-0.016645</td>\n",
       "      <td>-0.000389</td>\n",
       "      <td>0.027867</td>\n",
       "    </tr>\n",
       "    <tr>\n",
       "      <th>cc_000</th>\n",
       "      <td>-0.012183</td>\n",
       "      <td>-0.015374</td>\n",
       "      <td>0.003191</td>\n",
       "      <td>-0.228598</td>\n",
       "    </tr>\n",
       "    <tr>\n",
       "      <th>ci_000</th>\n",
       "      <td>-0.016256</td>\n",
       "      <td>-0.017011</td>\n",
       "      <td>0.000755</td>\n",
       "      <td>-0.054050</td>\n",
       "    </tr>\n",
       "    <tr>\n",
       "      <th>ck_000</th>\n",
       "      <td>-0.027436</td>\n",
       "      <td>-0.026808</td>\n",
       "      <td>-0.000628</td>\n",
       "      <td>0.044971</td>\n",
       "    </tr>\n",
       "    <tr>\n",
       "      <th>dt_000</th>\n",
       "      <td>-0.011123</td>\n",
       "      <td>-0.009862</td>\n",
       "      <td>-0.001261</td>\n",
       "      <td>0.090321</td>\n",
       "    </tr>\n",
       "  </tbody>\n",
       "</table>\n",
       "</div>"
      ],
      "text/plain": [
       "          coef_1    coef_2      diff  diff_o_avg\n",
       "0                                               \n",
       "aa_000 -0.017034 -0.016645 -0.000389    0.027867\n",
       "cc_000 -0.012183 -0.015374  0.003191   -0.228598\n",
       "ci_000 -0.016256 -0.017011  0.000755   -0.054050\n",
       "ck_000 -0.027436 -0.026808 -0.000628    0.044971\n",
       "dt_000 -0.011123 -0.009862 -0.001261    0.090321"
      ]
     },
     "execution_count": 36,
     "metadata": {},
     "output_type": "execute_result"
    }
   ],
   "source": [
    "# Have matches in both datasets \n",
    "comp_exps.dropna(axis = 0)"
   ]
  },
  {
   "cell_type": "markdown",
   "metadata": {},
   "source": [
    "We can see there are some similarities between an observation in the high class and the low class.  \n",
    "Some of the variables are the same and the numbers are very similar and some of the less important variables are different and have varying significances.  \n",
    "It can be interesting to see how the variables and magnitude of the effect changes by tile "
   ]
  },
  {
   "cell_type": "code",
   "execution_count": null,
   "metadata": {},
   "outputs": [],
   "source": []
  },
  {
   "cell_type": "markdown",
   "metadata": {},
   "source": [
    "## Aggregate by Feature"
   ]
  },
  {
   "cell_type": "code",
   "execution_count": 37,
   "metadata": {},
   "outputs": [],
   "source": [
    "# Get explainations for an instance \n",
    "\n",
    "def get_top_feats(row, estimator, explainer, num_features = 5, num_samples=1000): \n",
    "    \"\"\"\n",
    "    Returns feature name and normalized coefficient from explainer \"explain instance\" \n",
    "\n",
    "    \"\"\"\n",
    "    exp1 = explainer.explain_instance(row, estimator.predict_proba, num_features=num_features, num_samples=num_samples)\n",
    "    feat_list = exp1.as_list()\n",
    "    get_name = lambda y: y[0].split()[0] # Incase you forget to discretize \n",
    "    feats = [(get_name(x), x[1]) for x in feat_list]\n",
    "#     feats = pd.Series({get_name(x): x[1] for x in feat_list })\n",
    "    \n",
    "    return(feats)\n"
   ]
  },
  {
   "cell_type": "code",
   "execution_count": 38,
   "metadata": {},
   "outputs": [
    {
     "name": "stdout",
     "output_type": "stream",
     "text": [
      "Number of low scores:  467\n",
      "Number of high scores:  573\n"
     ]
    }
   ],
   "source": [
    "print(\"Number of low scores: \", len(low_data))\n",
    "print(\"Number of high scores: \", len(high_data))"
   ]
  },
  {
   "cell_type": "code",
   "execution_count": 39,
   "metadata": {},
   "outputs": [],
   "source": [
    "# row_temp = high_data[1,:]\n",
    "# demo1 = pd.DataFrame(high_data.T[:,:3]).apply(lambda x: get_top_feats(x, small_est, explainer, num_samples=30), axis = 0)"
   ]
  },
  {
   "cell_type": "code",
   "execution_count": 42,
   "metadata": {},
   "outputs": [],
   "source": [
    "def get_feature_gb(feats_coef_list):\n",
    "    # Concatenate each explaination score into one dataframe \n",
    "    master_df_low = pd.DataFrame()\n",
    "    for exp in feats_coef_list:\n",
    "        temp_df = pd.DataFrame(exp)\n",
    "        master_df_low = pd.concat([master_df_low, temp_df], axis = 0)\n",
    "    master_df_low.columns = [\"Feature\",  \"Coefficient\"]\n",
    "    print(\"Df full shape: \", master_df_low.shape)\n",
    "    \n",
    "    low_feat_coef_gb = master_df_low.groupby(\"Feature\")\n",
    "#     low_feat_coef_gb.describe()\n",
    "#     cnt_mean_low = low_feat_coef_gb.apply(lambda x: (np.mean(x)[0], len(x)))\n",
    "#     cnt_mean_low.sort_values(\"count\", ascending = False).head()    \n",
    "    # Gather metrics from each \n",
    "    cnt_mean_low = master_df_low.groupby(\"Feature\").apply(lambda x: pd.Series({\"mean\": np.mean(x)[0],\n",
    "                                                                           \"count\":len(x), \n",
    "                                                                           \"abs_mean\":abs(np.mean(x)[0]), \n",
    "                                                                           \"mean_sign\":\"pos\" if np.mean(x)[0] > 0 else \"neg\" }))\n",
    "    cnt_mean_low.sort_values(\"count\", ascending=False, inplace = True)\n",
    "    print(cnt_mean_low.head())\n",
    "    return(cnt_mean_low)"
   ]
  },
  {
   "cell_type": "code",
   "execution_count": null,
   "metadata": {},
   "outputs": [],
   "source": []
  },
  {
   "cell_type": "code",
   "execution_count": 41,
   "metadata": {
    "scrolled": true
   },
   "outputs": [],
   "source": [
    "n_obs = 50\n",
    "high_score_feats = [get_top_feats(x, small_est, explainer) for x in high_data[:n_obs]]"
   ]
  },
  {
   "cell_type": "code",
   "execution_count": 43,
   "metadata": {},
   "outputs": [
    {
     "name": "stdout",
     "output_type": "stream",
     "text": [
      "Df full shape:  (250, 2)\n",
      "         abs_mean  count      mean mean_sign\n",
      "Feature                                     \n",
      "ck_000   0.028473     50 -0.028473       neg\n",
      "aa_000   0.016446     44 -0.016446       neg\n",
      "ci_000   0.015877     40 -0.015877       neg\n",
      "ag_002   0.014022     24 -0.014022       neg\n",
      "de_000   0.015116     23 -0.015116       neg\n"
     ]
    }
   ],
   "source": [
    "feat_gb = get_feature_gb(high_score_feats)"
   ]
  },
  {
   "cell_type": "code",
   "execution_count": 44,
   "metadata": {},
   "outputs": [
    {
     "name": "stdout",
     "output_type": "stream",
     "text": [
      "Df full shape:  (250, 2)\n",
      "         abs_mean  count      mean mean_sign\n",
      "Feature                                     \n",
      "ck_000   0.028472     50 -0.028472       neg\n",
      "aa_000   0.017096     45 -0.017096       neg\n",
      "ci_000   0.015666     41 -0.015666       neg\n",
      "ag_002   0.014573     27 -0.014573       neg\n",
      "de_000   0.015811     24 -0.015811       neg\n"
     ]
    }
   ],
   "source": [
    "n_obs = 50\n",
    "low_score_feats = [get_top_feats(x, small_est, explainer) for x in low_data[:n_obs]]\n",
    "feat_gb_low = get_feature_gb(low_score_feats)"
   ]
  },
  {
   "cell_type": "code",
   "execution_count": null,
   "metadata": {},
   "outputs": [],
   "source": []
  },
  {
   "cell_type": "markdown",
   "metadata": {},
   "source": [
    "## Linear Regression"
   ]
  },
  {
   "cell_type": "code",
   "execution_count": 61,
   "metadata": {},
   "outputs": [],
   "source": [
    "from sklearn.linear_model import LogisticRegression\n",
    "from sklearn.preprocessing import MinMaxScaler"
   ]
  },
  {
   "cell_type": "code",
   "execution_count": 70,
   "metadata": {},
   "outputs": [
    {
     "data": {
      "text/plain": [
       "LogisticRegression(C=1.0, class_weight={1: 10, 0: 500}, dual=False,\n",
       "          fit_intercept=True, intercept_scaling=1, max_iter=100,\n",
       "          multi_class='ovr', n_jobs=1, penalty='l2', random_state=None,\n",
       "          solver='liblinear', tol=0.0001, verbose=0, warm_start=False)"
      ]
     },
     "execution_count": 70,
     "metadata": {},
     "output_type": "execute_result"
    }
   ],
   "source": [
    "mm_scaler = MinMaxScaler().fit(X_train2)\n",
    "X_train_sc = mm_scaler.transform(X_train2)\n",
    "X_test_sc = mm_scaler.transform(X_test2)\n",
    "logreg = LogisticRegression(class_weight={1:10, 0:500})\n",
    "logreg.fit(X_train_sc, y_train)"
   ]
  },
  {
   "cell_type": "code",
   "execution_count": 66,
   "metadata": {},
   "outputs": [],
   "source": [
    "coefs = pd.Series(logreg.coef_[0], index = X_train2.columns).sort_values(ascending = False)"
   ]
  },
  {
   "cell_type": "code",
   "execution_count": 68,
   "metadata": {},
   "outputs": [
    {
     "data": {
      "text/plain": [
       "cn_002    13.390346\n",
       "bh_000    11.674381\n",
       "ba_002    11.372250\n",
       "bt_000     9.853592\n",
       "cn_007     7.670609\n",
       "dtype: float64"
      ]
     },
     "execution_count": 68,
     "metadata": {},
     "output_type": "execute_result"
    }
   ],
   "source": [
    "coefs.head()"
   ]
  },
  {
   "cell_type": "code",
   "execution_count": 71,
   "metadata": {},
   "outputs": [
    {
     "name": "stdout",
     "output_type": "stream",
     "text": [
      "Train Score:  0.9725333333333334\n",
      "Test Score:  0.964\n"
     ]
    }
   ],
   "source": [
    "print(\"Train Score: \", logreg.score(X_train_sc, y_train))\n",
    "print(\"Test Score: \", logreg.score(X_test_sc, y_test))"
   ]
  },
  {
   "cell_type": "code",
   "execution_count": 73,
   "metadata": {},
   "outputs": [
    {
     "name": "stdout",
     "output_type": "stream",
     "text": [
      "          Pred_0  Pred_1\n",
      "Actual_0     144       7\n",
      "Actual_1     199    7150\n"
     ]
    },
    {
     "data": {
      "text/plain": [
       "5490"
      ]
     },
     "execution_count": 73,
     "metadata": {},
     "output_type": "execute_result"
    }
   ],
   "source": [
    "train_preds = logreg.predict(X_train_sc)\n",
    "custom_score_aps(y_train, train_preds, pct= False)\n"
   ]
  },
  {
   "cell_type": "code",
   "execution_count": 78,
   "metadata": {},
   "outputs": [
    {
     "name": "stdout",
     "output_type": "stream",
     "text": [
      "          Pred_0  Pred_1\n",
      "Actual_0      41       3\n",
      "Actual_1      87    2369\n"
     ]
    },
    {
     "data": {
      "text/plain": [
       "2370"
      ]
     },
     "execution_count": 78,
     "metadata": {},
     "output_type": "execute_result"
    }
   ],
   "source": [
    "# Logisitic Regression \n",
    "test_preds = logreg.predict(X_test_sc)\n",
    "custom_score_aps(y_test, test_preds, pct=False)\n"
   ]
  },
  {
   "cell_type": "code",
   "execution_count": 77,
   "metadata": {},
   "outputs": [
    {
     "name": "stdout",
     "output_type": "stream",
     "text": [
      "          Pred_0  Pred_1\n",
      "Actual_0      40       4\n",
      "Actual_1     105    2351\n"
     ]
    },
    {
     "data": {
      "text/plain": [
       "3050"
      ]
     },
     "execution_count": 77,
     "metadata": {},
     "output_type": "execute_result"
    }
   ],
   "source": [
    "# Random Forest Numbers \n",
    "custom_score_aps(y_test, preds_test, pct=False)"
   ]
  },
  {
   "cell_type": "code",
   "execution_count": 86,
   "metadata": {},
   "outputs": [],
   "source": [
    "log_train_prob_preds = logreg.predict_proba(X_train_sc)\n",
    "log_train_prob_preds = [x[0] for x in log_train_prob_preds]"
   ]
  },
  {
   "cell_type": "code",
   "execution_count": 89,
   "metadata": {},
   "outputs": [
    {
     "data": {
      "image/png": "[encoded data removed]",
      "text/plain": [
       "<Figure size 432x288 with 1 Axes>"
      ]
     },
     "metadata": {},
     "output_type": "display_data"
    }
   ],
   "source": [
    "plt.hist(log_train_prob_preds)\n",
    "plt.show()"
   ]
  },
  {
   "cell_type": "code",
   "execution_count": 93,
   "metadata": {
    "scrolled": true
   },
   "outputs": [
    {
     "name": "stdout",
     "output_type": "stream",
     "text": [
      "Estimator does not have n_feature as attribute\n",
      "Quantiles:\n",
      "        scores\n",
      "0.0  0.000117\n",
      "0.1  0.017922\n",
      "0.2  0.018639\n",
      "0.3  0.020493\n",
      "0.4  0.027216\n",
      "0.5  0.034980\n",
      "0.6  0.042755\n",
      "0.7  0.053431\n",
      "0.8  0.074078\n",
      "0.9  0.155007\n",
      "1.0  1.000000\n",
      "Final Shape:  (7500, 45)\n"
     ]
    }
   ],
   "source": [
    "log_data_preds = add_quantile_to_data(X_train_sc, logreg)"
   ]
  },
  {
   "cell_type": "markdown",
   "metadata": {},
   "source": [
    "### Begin LIME Stuff v2 "
   ]
  },
  {
   "cell_type": "code",
   "execution_count": 99,
   "metadata": {},
   "outputs": [],
   "source": [
    "log_explainer = lime.lime_tabular.LimeTabularExplainer(X_train_sc, \\\n",
    "                                                      feature_names = X_train2.columns,\\\n",
    "                                                      discretize_continuous = False)"
   ]
  },
  {
   "cell_type": "code",
   "execution_count": 106,
   "metadata": {},
   "outputs": [],
   "source": [
    "log_low_data = log_data_preds[log_data_preds.quantiles == 2].drop([\"scores\", \"quantiles\"], axis = 1).values\n",
    "log_high_data = log_data_preds[log_data_preds.quantiles == 9].drop([\"scores\", \"quantiles\"], axis = 1).values"
   ]
  },
  {
   "cell_type": "code",
   "execution_count": 107,
   "metadata": {},
   "outputs": [
    {
     "name": "stdout",
     "output_type": "stream",
     "text": [
      "High data shape: (750, 43)\n",
      "Low data shape: (750, 43)\n"
     ]
    }
   ],
   "source": [
    "print(\"High data shape:\", log_high_data.shape)\n",
    "print(\"Low data shape:\", log_low_data.shape)"
   ]
  },
  {
   "cell_type": "code",
   "execution_count": 113,
   "metadata": {},
   "outputs": [
    {
     "data": {
      "image/png": "[encoded data removed]",
      "text/plain": [
       "<Figure size 432x288 with 1 Axes>"
      ]
     },
     "execution_count": 113,
     "metadata": {},
     "output_type": "execute_result"
    }
   ],
   "source": [
    "log_exp_l = log_explainer.explain_instance(log_low_data[0], logreg.predict_proba, num_features = 10, num_samples = 2000)\n",
    "log_exp_l.as_pyplot_figure()"
   ]
  },
  {
   "cell_type": "code",
   "execution_count": 114,
   "metadata": {},
   "outputs": [
    {
     "data": {
      "image/png": "[encoded data removed]",
      "text/plain": [
       "<Figure size 432x288 with 1 Axes>"
      ]
     },
     "execution_count": 114,
     "metadata": {},
     "output_type": "execute_result"
    }
   ],
   "source": [
    "log_exp_h = log_explainer.explain_instance(log_high_data[0], logreg.predict_proba, num_features = 10, num_samples = 2000)\n",
    "log_exp_h.as_pyplot_figure()"
   ]
  },
  {
   "cell_type": "code",
   "execution_count": 115,
   "metadata": {},
   "outputs": [
    {
     "name": "stdout",
     "output_type": "stream",
     "text": [
      "Total size is:  14\n",
      "Number of matched vars:  6\n",
      "Vars with only one match:  8\n"
     ]
    }
   ],
   "source": [
    "log_comp_exp = compare_explainations(log_exp_l, log_exp_h)"
   ]
  },
  {
   "cell_type": "code",
   "execution_count": 116,
   "metadata": {},
   "outputs": [
    {
     "data": {
      "text/html": [
       "<div>\n",
       "<style scoped>\n",
       "    .dataframe tbody tr th:only-of-type {\n",
       "        vertical-align: middle;\n",
       "    }\n",
       "\n",
       "    .dataframe tbody tr th {\n",
       "        vertical-align: top;\n",
       "    }\n",
       "\n",
       "    .dataframe thead th {\n",
       "        text-align: right;\n",
       "    }\n",
       "</style>\n",
       "<table border=\"1\" class=\"dataframe\">\n",
       "  <thead>\n",
       "    <tr style=\"text-align: right;\">\n",
       "      <th></th>\n",
       "      <th>coef_1</th>\n",
       "      <th>coef_2</th>\n",
       "      <th>diff</th>\n",
       "      <th>diff_o_avg</th>\n",
       "    </tr>\n",
       "    <tr>\n",
       "      <th>0</th>\n",
       "      <th></th>\n",
       "      <th></th>\n",
       "      <th></th>\n",
       "      <th></th>\n",
       "    </tr>\n",
       "  </thead>\n",
       "  <tbody>\n",
       "    <tr>\n",
       "      <th>aa_000</th>\n",
       "      <td>-0.085382</td>\n",
       "      <td>-0.092773</td>\n",
       "      <td>0.007390</td>\n",
       "      <td>-0.421405</td>\n",
       "    </tr>\n",
       "    <tr>\n",
       "      <th>aq_000</th>\n",
       "      <td>-0.047681</td>\n",
       "      <td>-0.059805</td>\n",
       "      <td>0.012125</td>\n",
       "      <td>-0.691379</td>\n",
       "    </tr>\n",
       "    <tr>\n",
       "      <th>bh_000</th>\n",
       "      <td>0.042175</td>\n",
       "      <td>0.051196</td>\n",
       "      <td>-0.009021</td>\n",
       "      <td>0.514388</td>\n",
       "    </tr>\n",
       "    <tr>\n",
       "      <th>bs_000</th>\n",
       "      <td>-0.025303</td>\n",
       "      <td>-0.037632</td>\n",
       "      <td>0.012329</td>\n",
       "      <td>-0.703043</td>\n",
       "    </tr>\n",
       "    <tr>\n",
       "      <th>bt_000</th>\n",
       "      <td>0.049180</td>\n",
       "      <td>0.029338</td>\n",
       "      <td>0.019842</td>\n",
       "      <td>-1.131432</td>\n",
       "    </tr>\n",
       "    <tr>\n",
       "      <th>ci_000</th>\n",
       "      <td>-0.033853</td>\n",
       "      <td>-0.049044</td>\n",
       "      <td>0.015191</td>\n",
       "      <td>-0.866223</td>\n",
       "    </tr>\n",
       "  </tbody>\n",
       "</table>\n",
       "</div>"
      ],
      "text/plain": [
       "          coef_1    coef_2      diff  diff_o_avg\n",
       "0                                               \n",
       "aa_000 -0.085382 -0.092773  0.007390   -0.421405\n",
       "aq_000 -0.047681 -0.059805  0.012125   -0.691379\n",
       "bh_000  0.042175  0.051196 -0.009021    0.514388\n",
       "bs_000 -0.025303 -0.037632  0.012329   -0.703043\n",
       "bt_000  0.049180  0.029338  0.019842   -1.131432\n",
       "ci_000 -0.033853 -0.049044  0.015191   -0.866223"
      ]
     },
     "execution_count": 116,
     "metadata": {},
     "output_type": "execute_result"
    }
   ],
   "source": [
    "log_comp_exp.dropna(axis=0)"
   ]
  },
  {
   "cell_type": "code",
   "execution_count": 118,
   "metadata": {},
   "outputs": [
    {
     "data": {
      "text/html": [
       "<div>\n",
       "<style scoped>\n",
       "    .dataframe tbody tr th:only-of-type {\n",
       "        vertical-align: middle;\n",
       "    }\n",
       "\n",
       "    .dataframe tbody tr th {\n",
       "        vertical-align: top;\n",
       "    }\n",
       "\n",
       "    .dataframe thead th {\n",
       "        text-align: right;\n",
       "    }\n",
       "</style>\n",
       "<table border=\"1\" class=\"dataframe\">\n",
       "  <thead>\n",
       "    <tr style=\"text-align: right;\">\n",
       "      <th></th>\n",
       "      <th>coef_1</th>\n",
       "      <th>coef_2</th>\n",
       "      <th>diff</th>\n",
       "      <th>diff_o_avg</th>\n",
       "    </tr>\n",
       "    <tr>\n",
       "      <th>0</th>\n",
       "      <th></th>\n",
       "      <th></th>\n",
       "      <th></th>\n",
       "      <th></th>\n",
       "    </tr>\n",
       "  </thead>\n",
       "  <tbody>\n",
       "    <tr>\n",
       "      <th>aa_000</th>\n",
       "      <td>-0.017034</td>\n",
       "      <td>-0.016645</td>\n",
       "      <td>-0.000389</td>\n",
       "      <td>0.027867</td>\n",
       "    </tr>\n",
       "    <tr>\n",
       "      <th>cc_000</th>\n",
       "      <td>-0.012183</td>\n",
       "      <td>-0.015374</td>\n",
       "      <td>0.003191</td>\n",
       "      <td>-0.228598</td>\n",
       "    </tr>\n",
       "    <tr>\n",
       "      <th>ci_000</th>\n",
       "      <td>-0.016256</td>\n",
       "      <td>-0.017011</td>\n",
       "      <td>0.000755</td>\n",
       "      <td>-0.054050</td>\n",
       "    </tr>\n",
       "    <tr>\n",
       "      <th>ck_000</th>\n",
       "      <td>-0.027436</td>\n",
       "      <td>-0.026808</td>\n",
       "      <td>-0.000628</td>\n",
       "      <td>0.044971</td>\n",
       "    </tr>\n",
       "    <tr>\n",
       "      <th>dt_000</th>\n",
       "      <td>-0.011123</td>\n",
       "      <td>-0.009862</td>\n",
       "      <td>-0.001261</td>\n",
       "      <td>0.090321</td>\n",
       "    </tr>\n",
       "  </tbody>\n",
       "</table>\n",
       "</div>"
      ],
      "text/plain": [
       "          coef_1    coef_2      diff  diff_o_avg\n",
       "0                                               \n",
       "aa_000 -0.017034 -0.016645 -0.000389    0.027867\n",
       "cc_000 -0.012183 -0.015374  0.003191   -0.228598\n",
       "ci_000 -0.016256 -0.017011  0.000755   -0.054050\n",
       "ck_000 -0.027436 -0.026808 -0.000628    0.044971\n",
       "dt_000 -0.011123 -0.009862 -0.001261    0.090321"
      ]
     },
     "execution_count": 118,
     "metadata": {},
     "output_type": "execute_result"
    }
   ],
   "source": [
    "# Random Forest \n",
    "# Note we are note comparing the same observations in log reg and Random Forest \n",
    "comp_exps.dropna(axis=0)"
   ]
  },
  {
   "cell_type": "markdown",
   "metadata": {},
   "source": [
    "## Logistic Feature aggregation"
   ]
  },
  {
   "cell_type": "code",
   "execution_count": null,
   "metadata": {},
   "outputs": [],
   "source": []
  },
  {
   "cell_type": "code",
   "execution_count": 121,
   "metadata": {},
   "outputs": [
    {
     "name": "stdout",
     "output_type": "stream",
     "text": [
      "Df full shape:  (250, 2)\n",
      "         abs_mean  count      mean mean_sign\n",
      "Feature                                     \n",
      "aa_000   0.073142     50 -0.073142       neg\n",
      "dt_000   0.072955     49 -0.072955       neg\n",
      "ag_003   0.048873     41 -0.048873       neg\n",
      "cp_000   0.048468     36  0.048468       pos\n",
      "ba_002   0.036336     20  0.036336       pos\n"
     ]
    }
   ],
   "source": [
    "n_obs = 50\n",
    "log_high_score_feats = [get_top_feats(x, logreg, log_explainer) for x in log_high_data[:n_obs]]\n",
    "log_h_feat_gb = get_feature_gb(log_high_score_feats)"
   ]
  },
  {
   "cell_type": "code",
   "execution_count": 122,
   "metadata": {},
   "outputs": [
    {
     "name": "stdout",
     "output_type": "stream",
     "text": [
      "Df full shape:  (250, 2)\n",
      "         abs_mean  count      mean mean_sign\n",
      "Feature                                     \n",
      "aa_000   0.086243     50 -0.086243       neg\n",
      "dt_000   0.084175     50 -0.084175       neg\n",
      "ag_003   0.056995     48 -0.056995       neg\n",
      "cp_000   0.054898     37  0.054898       pos\n",
      "bh_000   0.052188     21  0.052188       pos\n"
     ]
    }
   ],
   "source": [
    "n_obs = 50\n",
    "log_low_score_feats = [get_top_feats(x, logreg, log_explainer) for x in log_low_data[:n_obs]]\n",
    "log_l_feat_gb = get_feature_gb(log_low_score_feats)"
   ]
  },
  {
   "cell_type": "code",
   "execution_count": null,
   "metadata": {},
   "outputs": [],
   "source": []
  }
 ],
 "metadata": {
  "kernelspec": {
   "display_name": "Python 3",
   "language": "python",
   "name": "python3"
  },
  "language_info": {
   "codemirror_mode": {
    "name": "ipython",
    "version": 3
   },
   "file_extension": ".py",
   "mimetype": "text/x-python",
   "name": "python",
   "nbconvert_exporter": "python",
   "pygments_lexer": "ipython3",
   "version": "3.6.4"
  }
 },
 "nbformat": 4,
 "nbformat_minor": 2
}
