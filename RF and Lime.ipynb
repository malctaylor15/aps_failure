{
 "cells": [
  {
   "cell_type": "code",
   "execution_count": 1,
   "metadata": {},
   "outputs": [],
   "source": [
    "import pandas as pd\n",
    "import numpy as np\n",
    "import seaborn as sns\n",
    "import os\n",
    "import matplotlib.pyplot as plt\n",
    "%matplotlib inline\n",
    "\n",
    "from importlib import reload\n",
    "\n",
    "import tree_utils\n",
    "reload(tree_utils)\n",
    "from tree_utils import *\n"
   ]
  },
  {
   "cell_type": "code",
   "execution_count": 2,
   "metadata": {},
   "outputs": [
    {
     "name": "stderr",
     "output_type": "stream",
     "text": [
      "/home/malcolm/Documents/aps_failure/clean_data1.py:9: SettingWithCopyWarning: \n",
      "A value is trying to be set on a copy of a slice from a DataFrame\n",
      "\n",
      "See the caveats in the documentation: http://pandas.pydata.org/pandas-docs/stable/indexing.html#indexing-view-versus-copy\n",
      "  data_raw.drop(large_pct_na, axis = 1, inplace= True)\n"
     ]
    },
    {
     "name": "stdout",
     "output_type": "stream",
     "text": [
      "Beginning to drop na's and nan's... this may take a while \n",
      "Finished replacing....\n",
      "Shape before: (10000, 143)\n",
      "Shape after: (10000, 142)\n"
     ]
    },
    {
     "data": {
      "text/plain": [
       "0    1\n",
       "1    1\n",
       "2    1\n",
       "3    1\n",
       "4    1\n",
       "Name: class, dtype: int64"
      ]
     },
     "execution_count": 2,
     "metadata": {},
     "output_type": "execute_result"
    }
   ],
   "source": [
    "data_raw = pd.read_csv(\"aps_failure_training_set.csv\", skiprows = 20)\n",
    "\n",
    "# Try to understand data\n",
    "data_raw.shape\n",
    "data_raw.head()\n",
    "\n",
    "data_raw_small  = data_raw.iloc[0:10000,:]\n",
    "\n",
    "#data_raw_small.apply(pd.value_counts)[\"na\"]\n",
    "\n",
    "from clean_data1 import clean_data\n",
    "X, Y = clean_data(data_raw_small)\n",
    "\n",
    "Y.value_counts(normalize=True)\n",
    "\n",
    "# Y = Y.apply(lambda x: 1 if x ==\"neg\" else 0)\n",
    "Y.head()\n"
   ]
  },
  {
   "cell_type": "code",
   "execution_count": 3,
   "metadata": {},
   "outputs": [
    {
     "data": {
      "text/html": [
       "<div>\n",
       "<style scoped>\n",
       "    .dataframe tbody tr th:only-of-type {\n",
       "        vertical-align: middle;\n",
       "    }\n",
       "\n",
       "    .dataframe tbody tr th {\n",
       "        vertical-align: top;\n",
       "    }\n",
       "\n",
       "    .dataframe thead th {\n",
       "        text-align: right;\n",
       "    }\n",
       "</style>\n",
       "<table border=\"1\" class=\"dataframe\">\n",
       "  <thead>\n",
       "    <tr style=\"text-align: right;\">\n",
       "      <th></th>\n",
       "      <th>Full</th>\n",
       "      <th>Test</th>\n",
       "      <th>Train</th>\n",
       "    </tr>\n",
       "  </thead>\n",
       "  <tbody>\n",
       "    <tr>\n",
       "      <th>1</th>\n",
       "      <td>0.9805</td>\n",
       "      <td>0.9824</td>\n",
       "      <td>0.979867</td>\n",
       "    </tr>\n",
       "    <tr>\n",
       "      <th>0</th>\n",
       "      <td>0.0195</td>\n",
       "      <td>0.0176</td>\n",
       "      <td>0.020133</td>\n",
       "    </tr>\n",
       "  </tbody>\n",
       "</table>\n",
       "</div>"
      ],
      "text/plain": [
       "     Full    Test     Train\n",
       "1  0.9805  0.9824  0.979867\n",
       "0  0.0195  0.0176  0.020133"
      ]
     },
     "execution_count": 3,
     "metadata": {},
     "output_type": "execute_result"
    }
   ],
   "source": [
    "from sklearn.model_selection import train_test_split\n",
    "X_train, X_test, y_train, y_test = train_test_split(X,Y, test_size = 0.25, random_state = 1)\n",
    "\n",
    "compare_samples = pd.DataFrame({\"Train\":y_train.value_counts(normalize=True),\n",
    "\"Test\": y_test.value_counts(normalize=True),\n",
    "\"Full\":Y.value_counts(normalize=True)})\n",
    "\n",
    "compare_samples"
   ]
  },
  {
   "cell_type": "markdown",
   "metadata": {},
   "source": [
    "### Begin Random Forest Analysis "
   ]
  },
  {
   "cell_type": "code",
   "execution_count": 4,
   "metadata": {},
   "outputs": [],
   "source": [
    "from sklearn.ensemble import RandomForestClassifier"
   ]
  },
  {
   "cell_type": "code",
   "execution_count": 5,
   "metadata": {},
   "outputs": [
    {
     "name": "stdout",
     "output_type": "stream",
     "text": [
      "          Pred_0  Pred_1\n",
      "Actual_0     148       3\n",
      "Actual_1     267    7082\n"
     ]
    },
    {
     "data": {
      "text/plain": [
       "0.556"
      ]
     },
     "execution_count": 5,
     "metadata": {},
     "output_type": "execute_result"
    }
   ],
   "source": [
    "rf_params = {\"n_estimators\" : 40, \"max_depth\":4, \"random_state\":4, \"class_weight\":{1:10, 0:500}}\n",
    "\n",
    "estimator = RandomForestClassifier(**rf_params)\n",
    "estimator.fit(X_train, y_train)\n",
    "\n",
    "estimator.score(X_train, y_train)\n",
    "preds1 = estimator.predict(X_train)\n",
    "\n",
    "custom_score_aps(y_train, preds1)"
   ]
  },
  {
   "cell_type": "code",
   "execution_count": 6,
   "metadata": {},
   "outputs": [
    {
     "name": "stdout",
     "output_type": "stream",
     "text": [
      "          Pred_0  Pred_1\n",
      "Actual_0      40       4\n",
      "Actual_1     105    2351\n"
     ]
    },
    {
     "data": {
      "image/png": "[encoded data removed]",
      "text/plain": [
       "<Figure size 432x288 with 1 Axes>"
      ]
     },
     "metadata": {},
     "output_type": "display_data"
    },
    {
     "name": "stdout",
     "output_type": "stream",
     "text": [
      "          Pred_0  Pred_1\n",
      "Actual_0      40       4\n",
      "Actual_1     105    2351\n"
     ]
    },
    {
     "data": {
      "text/plain": [
       "1.22"
      ]
     },
     "execution_count": 6,
     "metadata": {},
     "output_type": "execute_result"
    }
   ],
   "source": [
    "preds_test = estimator.predict(X_test)\n",
    "custom_score_aps(y_test, preds_test)\n",
    "\n",
    "len(estimator.feature_importances_)\n",
    "\n",
    "# Feature importance stuff\n",
    "feat_imp = pd.DataFrame(estimator.feature_importances_, index = X_train.columns, columns = [\"Feat_Importance\"])\n",
    "\n",
    "feat_imp2 = get_cum_feat_imp(feat_imp)\n",
    "plot_cum_feat_imp(feat_imp2)\n",
    "custom_score_aps(y_test, preds_test)\n"
   ]
  },
  {
   "cell_type": "code",
   "execution_count": 7,
   "metadata": {},
   "outputs": [
    {
     "name": "stdout",
     "output_type": "stream",
     "text": [
      "27\n",
      "43\n"
     ]
    },
    {
     "data": {
      "text/html": [
       "<div>\n",
       "<style scoped>\n",
       "    .dataframe tbody tr th:only-of-type {\n",
       "        vertical-align: middle;\n",
       "    }\n",
       "\n",
       "    .dataframe tbody tr th {\n",
       "        vertical-align: top;\n",
       "    }\n",
       "\n",
       "    .dataframe thead th {\n",
       "        text-align: right;\n",
       "    }\n",
       "</style>\n",
       "<table border=\"1\" class=\"dataframe\">\n",
       "  <thead>\n",
       "    <tr style=\"text-align: right;\">\n",
       "      <th></th>\n",
       "      <th>Feat_Importance</th>\n",
       "    </tr>\n",
       "  </thead>\n",
       "  <tbody>\n",
       "    <tr>\n",
       "      <th>aa_000</th>\n",
       "      <td>0.117367</td>\n",
       "    </tr>\n",
       "    <tr>\n",
       "      <th>ag_002</th>\n",
       "      <td>0.002832</td>\n",
       "    </tr>\n",
       "    <tr>\n",
       "      <th>ag_003</th>\n",
       "      <td>0.008399</td>\n",
       "    </tr>\n",
       "    <tr>\n",
       "      <th>ag_004</th>\n",
       "      <td>0.006861</td>\n",
       "    </tr>\n",
       "    <tr>\n",
       "      <th>ah_000</th>\n",
       "      <td>0.062258</td>\n",
       "    </tr>\n",
       "  </tbody>\n",
       "</table>\n",
       "</div>"
      ],
      "text/plain": [
       "        Feat_Importance\n",
       "aa_000         0.117367\n",
       "ag_002         0.002832\n",
       "ag_003         0.008399\n",
       "ag_004         0.006861\n",
       "ah_000         0.062258"
      ]
     },
     "execution_count": 7,
     "metadata": {},
     "output_type": "execute_result"
    }
   ],
   "source": [
    "cum_cutoff = 0.90\n",
    "indiv_cutoff = 0.002\n",
    "high_imp_feats1 = feat_imp2[feat_imp2[\"Cum_Imp\"] < cum_cutoff]\n",
    "print(len(high_imp_feats1))\n",
    "high_imp_feats2 = feat_imp[feat_imp[\"Feat_Importance\"] > indiv_cutoff]\n",
    "print(len(high_imp_feats2))\n",
    "high_imp_feats2.head()\n",
    "# high_imp_feats1.to_csv(\"High_Importance_27vars.csv\", index = False)\n",
    "# high_imp_feats2.to_csv(\"High_Importance_43vars.csv\", index = False)"
   ]
  },
  {
   "cell_type": "code",
   "execution_count": 148,
   "metadata": {},
   "outputs": [],
   "source": []
  },
  {
   "cell_type": "code",
   "execution_count": 150,
   "metadata": {},
   "outputs": [],
   "source": []
  },
  {
   "cell_type": "markdown",
   "metadata": {},
   "source": [
    "## Let's build a smaller Random Forest"
   ]
  },
  {
   "cell_type": "code",
   "execution_count": 8,
   "metadata": {},
   "outputs": [],
   "source": [
    "X_train_small = X_train[high_imp_feats2.index]\n",
    "X_test_small = X_test[high_imp_feats2.index]"
   ]
  },
  {
   "cell_type": "code",
   "execution_count": 9,
   "metadata": {},
   "outputs": [
    {
     "name": "stdout",
     "output_type": "stream",
     "text": [
      "          Pred_0  Pred_1\n",
      "Actual_0     148       3\n",
      "Actual_1     253    7096\n"
     ]
    },
    {
     "data": {
      "text/plain": [
       "0.5373333333333333"
      ]
     },
     "execution_count": 9,
     "metadata": {},
     "output_type": "execute_result"
    }
   ],
   "source": [
    "small_est = RandomForestClassifier(**rf_params)\n",
    "small_est.fit(X_train_small, y_train)\n",
    "\n",
    "small_est.score(X_train_small, y_train)\n",
    "preds2 = small_est.predict(X_train_small)\n",
    "\n",
    "custom_score_aps(y_train, preds2)\n"
   ]
  },
  {
   "cell_type": "code",
   "execution_count": null,
   "metadata": {},
   "outputs": [],
   "source": []
  },
  {
   "cell_type": "code",
   "execution_count": 10,
   "metadata": {},
   "outputs": [
    {
     "name": "stdout",
     "output_type": "stream",
     "text": [
      "          Pred_0  Pred_1\n",
      "Actual_0      40       4\n",
      "Actual_1     106    2350\n"
     ]
    },
    {
     "data": {
      "image/png": "[encoded data removed]",
      "text/plain": [
       "<Figure size 432x288 with 1 Axes>"
      ]
     },
     "metadata": {},
     "output_type": "display_data"
    },
    {
     "name": "stdout",
     "output_type": "stream",
     "text": [
      "          Pred_0  Pred_1\n",
      "Actual_0      40       4\n",
      "Actual_1     106    2350\n"
     ]
    },
    {
     "data": {
      "text/plain": [
       "1.224"
      ]
     },
     "execution_count": 10,
     "metadata": {},
     "output_type": "execute_result"
    }
   ],
   "source": [
    "preds_test2 = small_est.predict(X_test_small)\n",
    "custom_score_aps(y_test, preds_test2)\n",
    "\n",
    "len(estimator.feature_importances_)\n",
    "\n",
    "# Feature importance stuff\n",
    "feat_imp_small = pd.DataFrame(small_est.feature_importances_, index = X_train_small.columns, columns = [\"Feat_Importance\"])\n",
    "\n",
    "feat_imp_small2 = get_cum_feat_imp(feat_imp_small)\n",
    "plot_cum_feat_imp(feat_imp_small2)\n",
    "custom_score_aps(y_test, preds_test2)\n"
   ]
  },
  {
   "cell_type": "markdown",
   "metadata": {},
   "source": [
    "### Begin examining correlations "
   ]
  },
  {
   "cell_type": "code",
   "execution_count": 11,
   "metadata": {},
   "outputs": [],
   "source": [
    "corr_df_raw = pd.concat([X_train_small, y_train], axis = 1)"
   ]
  },
  {
   "cell_type": "code",
   "execution_count": 12,
   "metadata": {},
   "outputs": [
    {
     "data": {
      "text/plain": [
       "(7500, 44)"
      ]
     },
     "execution_count": 12,
     "metadata": {},
     "output_type": "execute_result"
    }
   ],
   "source": [
    "corr_df_raw.shape"
   ]
  },
  {
   "cell_type": "code",
   "execution_count": 13,
   "metadata": {},
   "outputs": [
    {
     "data": {
      "text/html": [
       "<div>\n",
       "<style scoped>\n",
       "    .dataframe tbody tr th:only-of-type {\n",
       "        vertical-align: middle;\n",
       "    }\n",
       "\n",
       "    .dataframe tbody tr th {\n",
       "        vertical-align: top;\n",
       "    }\n",
       "\n",
       "    .dataframe thead th {\n",
       "        text-align: right;\n",
       "    }\n",
       "</style>\n",
       "<table border=\"1\" class=\"dataframe\">\n",
       "  <thead>\n",
       "    <tr style=\"text-align: right;\">\n",
       "      <th></th>\n",
       "      <th>aa_000</th>\n",
       "      <th>ag_002</th>\n",
       "      <th>ag_003</th>\n",
       "      <th>ag_004</th>\n",
       "      <th>ah_000</th>\n",
       "      <th>al_000</th>\n",
       "      <th>am_0</th>\n",
       "      <th>ao_000</th>\n",
       "      <th>ap_000</th>\n",
       "      <th>aq_000</th>\n",
       "      <th>...</th>\n",
       "      <th>cs_002</th>\n",
       "      <th>cs_003</th>\n",
       "      <th>cs_004</th>\n",
       "      <th>cs_006</th>\n",
       "      <th>de_000</th>\n",
       "      <th>dn_000</th>\n",
       "      <th>dt_000</th>\n",
       "      <th>ee_000</th>\n",
       "      <th>ee_001</th>\n",
       "      <th>class</th>\n",
       "    </tr>\n",
       "  </thead>\n",
       "  <tbody>\n",
       "    <tr>\n",
       "      <th>651</th>\n",
       "      <td>10</td>\n",
       "      <td>0</td>\n",
       "      <td>0</td>\n",
       "      <td>96</td>\n",
       "      <td>1580</td>\n",
       "      <td>0</td>\n",
       "      <td>0</td>\n",
       "      <td>17758</td>\n",
       "      <td>12208</td>\n",
       "      <td>470</td>\n",
       "      <td>...</td>\n",
       "      <td>18</td>\n",
       "      <td>10</td>\n",
       "      <td>180</td>\n",
       "      <td>1240</td>\n",
       "      <td>100</td>\n",
       "      <td>166</td>\n",
       "      <td>16</td>\n",
       "      <td>2976</td>\n",
       "      <td>1356</td>\n",
       "      <td>1</td>\n",
       "    </tr>\n",
       "    <tr>\n",
       "      <th>6560</th>\n",
       "      <td>409078</td>\n",
       "      <td>0</td>\n",
       "      <td>0</td>\n",
       "      <td>49444</td>\n",
       "      <td>13926286</td>\n",
       "      <td>660374</td>\n",
       "      <td>1198326</td>\n",
       "      <td>17536714</td>\n",
       "      <td>9891218</td>\n",
       "      <td>5651258</td>\n",
       "      <td>...</td>\n",
       "      <td>898036</td>\n",
       "      <td>174704</td>\n",
       "      <td>1096546</td>\n",
       "      <td>402</td>\n",
       "      <td>78</td>\n",
       "      <td>369890</td>\n",
       "      <td>12116</td>\n",
       "      <td>951194</td>\n",
       "      <td>530612</td>\n",
       "      <td>0</td>\n",
       "    </tr>\n",
       "    <tr>\n",
       "      <th>8974</th>\n",
       "      <td>91842</td>\n",
       "      <td>0</td>\n",
       "      <td>26116</td>\n",
       "      <td>586288</td>\n",
       "      <td>2955026</td>\n",
       "      <td>9966</td>\n",
       "      <td>14856</td>\n",
       "      <td>4528178</td>\n",
       "      <td>815134</td>\n",
       "      <td>439354</td>\n",
       "      <td>...</td>\n",
       "      <td>263454</td>\n",
       "      <td>347792</td>\n",
       "      <td>229642</td>\n",
       "      <td>1534732</td>\n",
       "      <td>106</td>\n",
       "      <td>41594</td>\n",
       "      <td>44760</td>\n",
       "      <td>758946</td>\n",
       "      <td>793972</td>\n",
       "      <td>1</td>\n",
       "    </tr>\n",
       "    <tr>\n",
       "      <th>2348</th>\n",
       "      <td>39896</td>\n",
       "      <td>0</td>\n",
       "      <td>0</td>\n",
       "      <td>115690</td>\n",
       "      <td>1139312</td>\n",
       "      <td>258</td>\n",
       "      <td>512</td>\n",
       "      <td>2130364</td>\n",
       "      <td>595560</td>\n",
       "      <td>145176</td>\n",
       "      <td>...</td>\n",
       "      <td>153534</td>\n",
       "      <td>129636</td>\n",
       "      <td>235872</td>\n",
       "      <td>136718</td>\n",
       "      <td>376</td>\n",
       "      <td>12458</td>\n",
       "      <td>7032</td>\n",
       "      <td>488442</td>\n",
       "      <td>247256</td>\n",
       "      <td>1</td>\n",
       "    </tr>\n",
       "    <tr>\n",
       "      <th>5670</th>\n",
       "      <td>98196</td>\n",
       "      <td>0</td>\n",
       "      <td>2258</td>\n",
       "      <td>184106</td>\n",
       "      <td>3254412</td>\n",
       "      <td>5400</td>\n",
       "      <td>8126</td>\n",
       "      <td>5347704</td>\n",
       "      <td>933460</td>\n",
       "      <td>398896</td>\n",
       "      <td>...</td>\n",
       "      <td>304416</td>\n",
       "      <td>398720</td>\n",
       "      <td>393604</td>\n",
       "      <td>681178</td>\n",
       "      <td>102</td>\n",
       "      <td>41540</td>\n",
       "      <td>44460</td>\n",
       "      <td>694408</td>\n",
       "      <td>1298672</td>\n",
       "      <td>1</td>\n",
       "    </tr>\n",
       "  </tbody>\n",
       "</table>\n",
       "<p>5 rows × 44 columns</p>\n",
       "</div>"
      ],
      "text/plain": [
       "      aa_000 ag_002 ag_003  ag_004    ah_000  al_000     am_0    ao_000  \\\n",
       "651       10      0      0      96      1580       0        0     17758   \n",
       "6560  409078      0      0   49444  13926286  660374  1198326  17536714   \n",
       "8974   91842      0  26116  586288   2955026    9966    14856   4528178   \n",
       "2348   39896      0      0  115690   1139312     258      512   2130364   \n",
       "5670   98196      0   2258  184106   3254412    5400     8126   5347704   \n",
       "\n",
       "       ap_000   aq_000  ...   cs_002  cs_003   cs_004   cs_006 de_000  dn_000  \\\n",
       "651     12208      470  ...       18      10      180     1240    100     166   \n",
       "6560  9891218  5651258  ...   898036  174704  1096546      402     78  369890   \n",
       "8974   815134   439354  ...   263454  347792   229642  1534732    106   41594   \n",
       "2348   595560   145176  ...   153534  129636   235872   136718    376   12458   \n",
       "5670   933460   398896  ...   304416  398720   393604   681178    102   41540   \n",
       "\n",
       "     dt_000  ee_000   ee_001 class  \n",
       "651      16    2976     1356     1  \n",
       "6560  12116  951194   530612     0  \n",
       "8974  44760  758946   793972     1  \n",
       "2348   7032  488442   247256     1  \n",
       "5670  44460  694408  1298672     1  \n",
       "\n",
       "[5 rows x 44 columns]"
      ]
     },
     "execution_count": 13,
     "metadata": {},
     "output_type": "execute_result"
    }
   ],
   "source": [
    "corr_df_raw.head()"
   ]
  },
  {
   "cell_type": "code",
   "execution_count": 14,
   "metadata": {},
   "outputs": [],
   "source": [
    "corr = corr_df_raw.applymap(np.float64).corr()"
   ]
  },
  {
   "cell_type": "code",
   "execution_count": 15,
   "metadata": {},
   "outputs": [
    {
     "data": {
      "text/plain": [
       "<matplotlib.axes._subplots.AxesSubplot at 0x7973ce935438>"
      ]
     },
     "execution_count": 15,
     "metadata": {},
     "output_type": "execute_result"
    }
   ],
   "source": [
    "# Generate a mask for the upper triangle\n",
    "mask = np.zeros_like(corr, dtype=np.bool)\n",
    "mask[np.triu_indices_from(mask)] = True\n",
    "\n",
    "# Set up the matplotlib figure\n",
    "f, ax = plt.subplots(figsize=(11, 9))\n",
    "\n",
    "# Generate a custom diverging colormap\n",
    "cmap = sns.diverging_palette(220, 10, as_cmap=True)\n",
    "\n",
    "# Draw the heatmap with the mask and correct aspect ratio\n",
    "sns.heatmap(corr, mask=mask, cmap=cmap, vmax=.3, center=0,\n",
    "            square=True, linewidths=.5, cbar_kws={\"shrink\": .5})\n"
   ]
  },
  {
   "cell_type": "code",
   "execution_count": 16,
   "metadata": {
    "scrolled": true
   },
   "outputs": [
    {
     "data": {
      "image/png": "[encoded data removed]",
      "text/plain": [
       "<Figure size 792x648 with 2 Axes>"
      ]
     },
     "metadata": {},
     "output_type": "display_data"
    }
   ],
   "source": [
    "plt.show()"
   ]
  },
  {
   "cell_type": "code",
   "execution_count": 17,
   "metadata": {
    "scrolled": true
   },
   "outputs": [
    {
     "data": {
      "text/plain": [
       "aa_000   -0.597615\n",
       "ag_002   -0.308480\n",
       "ag_003   -0.432553\n",
       "ag_004   -0.381792\n",
       "ah_000   -0.561489\n",
       "al_000   -0.444962\n",
       "am_0     -0.429586\n",
       "ao_000   -0.552920\n",
       "ap_000   -0.545780\n",
       "aq_000   -0.570137\n",
       "au_000   -0.105877\n",
       "ax_000   -0.207901\n",
       "az_000   -0.177001\n",
       "ba_000   -0.447897\n",
       "ba_001   -0.438734\n",
       "ba_002   -0.426786\n",
       "bb_000   -0.573661\n",
       "be_000   -0.248461\n",
       "bg_000   -0.557961\n",
       "bh_000   -0.528486\n",
       "bj_000   -0.562229\n",
       "bs_000   -0.198826\n",
       "bt_000   -0.590391\n",
       "bu_000   -0.568838\n",
       "bv_000   -0.568838\n",
       "cc_000   -0.523180\n",
       "ci_000   -0.595626\n",
       "cj_000   -0.351247\n",
       "ck_000   -0.465113\n",
       "cn_001   -0.382298\n",
       "cn_002   -0.349071\n",
       "cn_007   -0.211151\n",
       "cp_000   -0.212898\n",
       "cq_000   -0.568838\n",
       "cs_002   -0.391677\n",
       "cs_003   -0.383735\n",
       "cs_004   -0.425193\n",
       "cs_006   -0.247903\n",
       "de_000   -0.227309\n",
       "dn_000   -0.518883\n",
       "dt_000   -0.425018\n",
       "ee_000   -0.427670\n",
       "ee_001   -0.365178\n",
       "class     1.000000\n",
       "Name: class, dtype: float64"
      ]
     },
     "execution_count": 17,
     "metadata": {},
     "output_type": "execute_result"
    }
   ],
   "source": [
    "corr[\"class\"]"
   ]
  },
  {
   "cell_type": "code",
   "execution_count": 18,
   "metadata": {},
   "outputs": [
    {
     "data": {
      "text/html": [
       "<div>\n",
       "<style scoped>\n",
       "    .dataframe tbody tr th:only-of-type {\n",
       "        vertical-align: middle;\n",
       "    }\n",
       "\n",
       "    .dataframe tbody tr th {\n",
       "        vertical-align: top;\n",
       "    }\n",
       "\n",
       "    .dataframe thead th {\n",
       "        text-align: right;\n",
       "    }\n",
       "</style>\n",
       "<table border=\"1\" class=\"dataframe\">\n",
       "  <thead>\n",
       "    <tr style=\"text-align: right;\">\n",
       "      <th></th>\n",
       "      <th>Feat_Importance</th>\n",
       "      <th>Cum_Imp</th>\n",
       "      <th>Diff_Feat_Imp</th>\n",
       "    </tr>\n",
       "  </thead>\n",
       "  <tbody>\n",
       "    <tr>\n",
       "      <th>ck_000</th>\n",
       "      <td>0.115872</td>\n",
       "      <td>0.115872</td>\n",
       "      <td>0.335787</td>\n",
       "    </tr>\n",
       "    <tr>\n",
       "      <th>ci_000</th>\n",
       "      <td>0.105243</td>\n",
       "      <td>0.221115</td>\n",
       "      <td>0.335787</td>\n",
       "    </tr>\n",
       "    <tr>\n",
       "      <th>bu_000</th>\n",
       "      <td>0.104472</td>\n",
       "      <td>0.325587</td>\n",
       "      <td>0.024198</td>\n",
       "    </tr>\n",
       "    <tr>\n",
       "      <th>dn_000</th>\n",
       "      <td>0.072832</td>\n",
       "      <td>0.398419</td>\n",
       "      <td>1.000000</td>\n",
       "    </tr>\n",
       "    <tr>\n",
       "      <th>bt_000</th>\n",
       "      <td>0.065317</td>\n",
       "      <td>0.463736</td>\n",
       "      <td>0.237381</td>\n",
       "    </tr>\n",
       "  </tbody>\n",
       "</table>\n",
       "</div>"
      ],
      "text/plain": [
       "        Feat_Importance   Cum_Imp  Diff_Feat_Imp\n",
       "ck_000         0.115872  0.115872       0.335787\n",
       "ci_000         0.105243  0.221115       0.335787\n",
       "bu_000         0.104472  0.325587       0.024198\n",
       "dn_000         0.072832  0.398419       1.000000\n",
       "bt_000         0.065317  0.463736       0.237381"
      ]
     },
     "execution_count": 18,
     "metadata": {},
     "output_type": "execute_result"
    }
   ],
   "source": [
    "feat_imp_small2.head()"
   ]
  },
  {
   "cell_type": "code",
   "execution_count": 19,
   "metadata": {},
   "outputs": [],
   "source": [
    "feats_corr = feat_imp_small2.join(corr[\"class\"])"
   ]
  },
  {
   "cell_type": "code",
   "execution_count": 20,
   "metadata": {},
   "outputs": [
    {
     "data": {
      "text/html": [
       "<div>\n",
       "<style scoped>\n",
       "    .dataframe tbody tr th:only-of-type {\n",
       "        vertical-align: middle;\n",
       "    }\n",
       "\n",
       "    .dataframe tbody tr th {\n",
       "        vertical-align: top;\n",
       "    }\n",
       "\n",
       "    .dataframe thead th {\n",
       "        text-align: right;\n",
       "    }\n",
       "</style>\n",
       "<table border=\"1\" class=\"dataframe\">\n",
       "  <thead>\n",
       "    <tr style=\"text-align: right;\">\n",
       "      <th></th>\n",
       "      <th>Feat_Importance</th>\n",
       "      <th>Cum_Imp</th>\n",
       "      <th>Diff_Feat_Imp</th>\n",
       "      <th>class</th>\n",
       "    </tr>\n",
       "  </thead>\n",
       "  <tbody>\n",
       "    <tr>\n",
       "      <th>aa_000</th>\n",
       "      <td>0.041254</td>\n",
       "      <td>0.671203</td>\n",
       "      <td>0.075613</td>\n",
       "      <td>-0.597615</td>\n",
       "    </tr>\n",
       "    <tr>\n",
       "      <th>ci_000</th>\n",
       "      <td>0.105243</td>\n",
       "      <td>0.221115</td>\n",
       "      <td>0.335787</td>\n",
       "      <td>-0.595626</td>\n",
       "    </tr>\n",
       "    <tr>\n",
       "      <th>bt_000</th>\n",
       "      <td>0.065317</td>\n",
       "      <td>0.463736</td>\n",
       "      <td>0.237381</td>\n",
       "      <td>-0.590391</td>\n",
       "    </tr>\n",
       "    <tr>\n",
       "      <th>bb_000</th>\n",
       "      <td>0.021806</td>\n",
       "      <td>0.869180</td>\n",
       "      <td>0.054858</td>\n",
       "      <td>-0.573661</td>\n",
       "    </tr>\n",
       "    <tr>\n",
       "      <th>aq_000</th>\n",
       "      <td>0.002253</td>\n",
       "      <td>0.986552</td>\n",
       "      <td>0.011830</td>\n",
       "      <td>-0.570137</td>\n",
       "    </tr>\n",
       "    <tr>\n",
       "      <th>bv_000</th>\n",
       "      <td>0.025653</td>\n",
       "      <td>0.799102</td>\n",
       "      <td>0.037016</td>\n",
       "      <td>-0.568838</td>\n",
       "    </tr>\n",
       "    <tr>\n",
       "      <th>bu_000</th>\n",
       "      <td>0.104472</td>\n",
       "      <td>0.325587</td>\n",
       "      <td>0.024198</td>\n",
       "      <td>-0.568838</td>\n",
       "    </tr>\n",
       "  </tbody>\n",
       "</table>\n",
       "</div>"
      ],
      "text/plain": [
       "        Feat_Importance   Cum_Imp  Diff_Feat_Imp     class\n",
       "aa_000         0.041254  0.671203       0.075613 -0.597615\n",
       "ci_000         0.105243  0.221115       0.335787 -0.595626\n",
       "bt_000         0.065317  0.463736       0.237381 -0.590391\n",
       "bb_000         0.021806  0.869180       0.054858 -0.573661\n",
       "aq_000         0.002253  0.986552       0.011830 -0.570137\n",
       "bv_000         0.025653  0.799102       0.037016 -0.568838\n",
       "bu_000         0.104472  0.325587       0.024198 -0.568838"
      ]
     },
     "execution_count": 20,
     "metadata": {},
     "output_type": "execute_result"
    }
   ],
   "source": [
    "feats_corr.sort_values(by=\"class\").head(7)"
   ]
  },
  {
   "cell_type": "code",
   "execution_count": 21,
   "metadata": {},
   "outputs": [
    {
     "data": {
      "text/html": [
       "<div>\n",
       "<style scoped>\n",
       "    .dataframe tbody tr th:only-of-type {\n",
       "        vertical-align: middle;\n",
       "    }\n",
       "\n",
       "    .dataframe tbody tr th {\n",
       "        vertical-align: top;\n",
       "    }\n",
       "\n",
       "    .dataframe thead th {\n",
       "        text-align: right;\n",
       "    }\n",
       "</style>\n",
       "<table border=\"1\" class=\"dataframe\">\n",
       "  <thead>\n",
       "    <tr style=\"text-align: right;\">\n",
       "      <th></th>\n",
       "      <th>Feat_Importance</th>\n",
       "      <th>Cum_Imp</th>\n",
       "      <th>Diff_Feat_Imp</th>\n",
       "      <th>class</th>\n",
       "    </tr>\n",
       "  </thead>\n",
       "  <tbody>\n",
       "    <tr>\n",
       "      <th>de_000</th>\n",
       "      <td>0.006924</td>\n",
       "      <td>0.944182</td>\n",
       "      <td>0.004792</td>\n",
       "      <td>-0.227309</td>\n",
       "    </tr>\n",
       "    <tr>\n",
       "      <th>cp_000</th>\n",
       "      <td>0.006441</td>\n",
       "      <td>0.950623</td>\n",
       "      <td>0.015072</td>\n",
       "      <td>-0.212898</td>\n",
       "    </tr>\n",
       "    <tr>\n",
       "      <th>cn_007</th>\n",
       "      <td>0.002971</td>\n",
       "      <td>0.975823</td>\n",
       "      <td>0.003073</td>\n",
       "      <td>-0.211151</td>\n",
       "    </tr>\n",
       "    <tr>\n",
       "      <th>ax_000</th>\n",
       "      <td>0.002025</td>\n",
       "      <td>0.990767</td>\n",
       "      <td>0.005015</td>\n",
       "      <td>-0.207901</td>\n",
       "    </tr>\n",
       "    <tr>\n",
       "      <th>bs_000</th>\n",
       "      <td>0.000858</td>\n",
       "      <td>0.999262</td>\n",
       "      <td>0.009205</td>\n",
       "      <td>-0.198826</td>\n",
       "    </tr>\n",
       "    <tr>\n",
       "      <th>az_000</th>\n",
       "      <td>0.002634</td>\n",
       "      <td>0.984299</td>\n",
       "      <td>0.008496</td>\n",
       "      <td>-0.177001</td>\n",
       "    </tr>\n",
       "    <tr>\n",
       "      <th>au_000</th>\n",
       "      <td>0.001809</td>\n",
       "      <td>0.994558</td>\n",
       "      <td>0.005286</td>\n",
       "      <td>-0.105877</td>\n",
       "    </tr>\n",
       "  </tbody>\n",
       "</table>\n",
       "</div>"
      ],
      "text/plain": [
       "        Feat_Importance   Cum_Imp  Diff_Feat_Imp     class\n",
       "de_000         0.006924  0.944182       0.004792 -0.227309\n",
       "cp_000         0.006441  0.950623       0.015072 -0.212898\n",
       "cn_007         0.002971  0.975823       0.003073 -0.211151\n",
       "ax_000         0.002025  0.990767       0.005015 -0.207901\n",
       "bs_000         0.000858  0.999262       0.009205 -0.198826\n",
       "az_000         0.002634  0.984299       0.008496 -0.177001\n",
       "au_000         0.001809  0.994558       0.005286 -0.105877"
      ]
     },
     "execution_count": 21,
     "metadata": {},
     "output_type": "execute_result"
    }
   ],
   "source": [
    "feats_corr.sort_values(by=\"class\").tail(7)"
   ]
  },
  {
   "cell_type": "code",
   "execution_count": 22,
   "metadata": {},
   "outputs": [
    {
     "data": {
      "text/html": [
       "<div>\n",
       "<style scoped>\n",
       "    .dataframe tbody tr th:only-of-type {\n",
       "        vertical-align: middle;\n",
       "    }\n",
       "\n",
       "    .dataframe tbody tr th {\n",
       "        vertical-align: top;\n",
       "    }\n",
       "\n",
       "    .dataframe thead th {\n",
       "        text-align: right;\n",
       "    }\n",
       "</style>\n",
       "<table border=\"1\" class=\"dataframe\">\n",
       "  <thead>\n",
       "    <tr style=\"text-align: right;\">\n",
       "      <th></th>\n",
       "      <th>Feat_Importance</th>\n",
       "      <th>Cum_Imp</th>\n",
       "      <th>Diff_Feat_Imp</th>\n",
       "      <th>class</th>\n",
       "    </tr>\n",
       "  </thead>\n",
       "  <tbody>\n",
       "    <tr>\n",
       "      <th>ee_001</th>\n",
       "      <td>0.000738</td>\n",
       "      <td>1.000000</td>\n",
       "      <td>0.003607</td>\n",
       "      <td>-0.365178</td>\n",
       "    </tr>\n",
       "    <tr>\n",
       "      <th>bs_000</th>\n",
       "      <td>0.000858</td>\n",
       "      <td>0.999262</td>\n",
       "      <td>0.009205</td>\n",
       "      <td>-0.198826</td>\n",
       "    </tr>\n",
       "    <tr>\n",
       "      <th>be_000</th>\n",
       "      <td>0.001156</td>\n",
       "      <td>0.998403</td>\n",
       "      <td>0.003861</td>\n",
       "      <td>-0.248461</td>\n",
       "    </tr>\n",
       "    <tr>\n",
       "      <th>ba_002</th>\n",
       "      <td>0.001284</td>\n",
       "      <td>0.997247</td>\n",
       "      <td>0.003623</td>\n",
       "      <td>-0.426786</td>\n",
       "    </tr>\n",
       "    <tr>\n",
       "      <th>cs_006</th>\n",
       "      <td>0.001405</td>\n",
       "      <td>0.995963</td>\n",
       "      <td>0.012549</td>\n",
       "      <td>-0.247903</td>\n",
       "    </tr>\n",
       "    <tr>\n",
       "      <th>au_000</th>\n",
       "      <td>0.001809</td>\n",
       "      <td>0.994558</td>\n",
       "      <td>0.005286</td>\n",
       "      <td>-0.105877</td>\n",
       "    </tr>\n",
       "    <tr>\n",
       "      <th>cj_000</th>\n",
       "      <td>0.001982</td>\n",
       "      <td>0.992749</td>\n",
       "      <td>0.001161</td>\n",
       "      <td>-0.351247</td>\n",
       "    </tr>\n",
       "  </tbody>\n",
       "</table>\n",
       "</div>"
      ],
      "text/plain": [
       "        Feat_Importance   Cum_Imp  Diff_Feat_Imp     class\n",
       "ee_001         0.000738  1.000000       0.003607 -0.365178\n",
       "bs_000         0.000858  0.999262       0.009205 -0.198826\n",
       "be_000         0.001156  0.998403       0.003861 -0.248461\n",
       "ba_002         0.001284  0.997247       0.003623 -0.426786\n",
       "cs_006         0.001405  0.995963       0.012549 -0.247903\n",
       "au_000         0.001809  0.994558       0.005286 -0.105877\n",
       "cj_000         0.001982  0.992749       0.001161 -0.351247"
      ]
     },
     "execution_count": 22,
     "metadata": {},
     "output_type": "execute_result"
    }
   ],
   "source": [
    "feats_corr.sort_values(by=\"Feat_Importance\").head(7)"
   ]
  },
  {
   "cell_type": "code",
   "execution_count": null,
   "metadata": {},
   "outputs": [],
   "source": []
  },
  {
   "cell_type": "markdown",
   "metadata": {},
   "source": [
    "### Begin exploring Predictions before LIME"
   ]
  },
  {
   "cell_type": "code",
   "execution_count": 23,
   "metadata": {},
   "outputs": [],
   "source": [
    "preds_prob_test_raw = small_est.predict_proba(X_test_small)\n",
    "preds_prob_test = [x[0] for x in preds_prob_test_raw]"
   ]
  },
  {
   "cell_type": "code",
   "execution_count": 24,
   "metadata": {},
   "outputs": [
    {
     "data": {
      "image/png": "[encoded data removed]",
      "text/plain": [
       "<Figure size 432x288 with 1 Axes>"
      ]
     },
     "metadata": {},
     "output_type": "display_data"
    }
   ],
   "source": [
    "plt.hist(preds_prob_test)\n",
    "plt.show()"
   ]
  },
  {
   "cell_type": "code",
   "execution_count": 25,
   "metadata": {},
   "outputs": [],
   "source": [
    "X_train2 = X_train_small.applymap(float)\n"
   ]
  },
  {
   "cell_type": "code",
   "execution_count": 30,
   "metadata": {},
   "outputs": [
    {
     "data": {
      "text/plain": [
       "0.01    0.002022\n",
       "0.11    0.002022\n",
       "0.21    0.002022\n",
       "0.31    0.002022\n",
       "0.41    0.002022\n",
       "0.51    0.002798\n",
       "0.61    0.007186\n",
       "0.71    0.010763\n",
       "0.81    0.032614\n",
       "0.91    0.210931\n",
       "dtype: float64"
      ]
     },
     "execution_count": 30,
     "metadata": {},
     "output_type": "execute_result"
    }
   ],
   "source": [
    "pred_quantiles = pd.Series(preds_prob_test).quantile(np.arange(0.01, 0.99, 0.1))\n",
    "pred_quantiles"
   ]
  },
  {
   "cell_type": "markdown",
   "metadata": {},
   "source": [
    "We see that around 50% of the scores have a score around 0.002 or 0.2%  \n",
    "The highest tile of scores are at 0.21"
   ]
  },
  {
   "cell_type": "code",
   "execution_count": null,
   "metadata": {},
   "outputs": [],
   "source": []
  },
  {
   "cell_type": "code",
   "execution_count": 31,
   "metadata": {},
   "outputs": [],
   "source": [
    "def segment_score_vals(h_cutoff, l_cutoff):\n",
    "    segment = [(score, indep_vars) for score, indep_vars in zip(preds_prob_test, X_train2.values) if score > l_cutoff and score < h_cutoff]\n",
    "    print(\"List has number of elements: \", len(segment))\n",
    "    return(segment)\n"
   ]
  },
  {
   "cell_type": "code",
   "execution_count": 32,
   "metadata": {},
   "outputs": [],
   "source": [
    "def segment_score(h_cutoff, l_cutoff):\n",
    "    segment = [(score, indep_vars) for score, indep_vars in zip(preds_prob_test, X_train2.iterrows()) if score > l_cutoff and score < h_cutoff]\n",
    "    print(\"List has number of elements: \", len(segment))\n",
    "    return(segment)\n"
   ]
  },
  {
   "cell_type": "code",
   "execution_count": 33,
   "metadata": {},
   "outputs": [
    {
     "name": "stdout",
     "output_type": "stream",
     "text": [
      "List has number of elements:  492\n",
      "List has number of elements:  1190\n"
     ]
    }
   ],
   "source": [
    "high_score = segment_score_vals(1, 0.03)\n",
    "low_score = segment_score_vals(0.0023, 0.0)"
   ]
  },
  {
   "cell_type": "code",
   "execution_count": 34,
   "metadata": {
    "scrolled": true
   },
   "outputs": [
    {
     "data": {
      "text/plain": [
       "array([2.44000000e+04, 0.00000000e+00, 0.00000000e+00, 3.68200000e+03,\n",
       "       9.05016000e+05, 0.00000000e+00, 0.00000000e+00, 1.52328400e+06,\n",
       "       3.25622000e+05, 1.28146000e+05, 0.00000000e+00, 0.00000000e+00,\n",
       "       1.57600000e+03, 8.11662000e+05, 4.32456000e+05, 1.69754000e+05,\n",
       "       2.03077800e+06, 6.04000000e+02, 9.05016000e+05, 2.52220000e+04,\n",
       "       1.55540000e+05, 1.23040000e+05, 2.44003500e+04, 2.03077800e+06,\n",
       "       2.03077800e+06, 1.86428000e+06, 1.57623744e+06, 0.00000000e+00,\n",
       "       2.84745600e+05, 0.00000000e+00, 0.00000000e+00, 1.18680000e+04,\n",
       "       0.00000000e+00, 2.03077800e+06, 2.53200000e+03, 2.07750000e+05,\n",
       "       1.57542000e+05, 5.48556000e+05, 1.66000000e+02, 1.26180000e+04,\n",
       "       1.06720000e+04, 3.08408000e+05, 4.92498000e+05])"
      ]
     },
     "execution_count": 34,
     "metadata": {},
     "output_type": "execute_result"
    }
   ],
   "source": [
    "low_score[1][1]"
   ]
  },
  {
   "cell_type": "code",
   "execution_count": null,
   "metadata": {},
   "outputs": [],
   "source": []
  },
  {
   "cell_type": "code",
   "execution_count": null,
   "metadata": {},
   "outputs": [],
   "source": []
  },
  {
   "cell_type": "markdown",
   "metadata": {},
   "source": [
    "### Begin Using LIME "
   ]
  },
  {
   "cell_type": "code",
   "execution_count": 35,
   "metadata": {},
   "outputs": [],
   "source": [
    "import lime\n",
    "import lime.lime_tabular"
   ]
  },
  {
   "cell_type": "code",
   "execution_count": 36,
   "metadata": {},
   "outputs": [],
   "source": [
    "high_data = np.array([x[1] for x in high_score])\n",
    "low_data = np.array([x[1] for x in low_score])\n"
   ]
  },
  {
   "cell_type": "code",
   "execution_count": null,
   "metadata": {},
   "outputs": [],
   "source": []
  },
  {
   "cell_type": "code",
   "execution_count": 162,
   "metadata": {},
   "outputs": [],
   "source": [
    "# Remember that lime explainer needs values as float \n",
    "explainer_low = lime.lime_tabular.LimeTabularExplainer(high_data, feature_names = X_train2.columns, \\\n",
    "                                                      discretize_continuous= False)\n",
    "explainer = lime.lime_tabular.LimeTabularExplainer(X_train2.values, \\\n",
    "                                                   feature_names = X_train2.columns,\\\n",
    "                                                   class_names = y_train.unique(), discretize_continuous= False)\n"
   ]
  },
  {
   "cell_type": "code",
   "execution_count": 161,
   "metadata": {},
   "outputs": [],
   "source": [
    "exp2 = explainer_low.explain_instance(high_data[0], small_est.predict_proba, num_features=5, num_samples=1000)\n",
    "exp3 = explainer_low.explain_instance(low_data[0], small_est.predict_proba, num_features = 5, num_samples = 1000)\n"
   ]
  },
  {
   "cell_type": "code",
   "execution_count": 49,
   "metadata": {},
   "outputs": [
    {
     "data": {
      "text/plain": [
       "[('av_000', -0.033990685156725244),\n",
       " ('ac_000', -0.023314414215452234),\n",
       " ('aa_000', -0.015267862610420147),\n",
       " ('as_000', -0.01436716571857826),\n",
       " ('az_000', -0.014026109901449535)]"
      ]
     },
     "execution_count": 49,
     "metadata": {},
     "output_type": "execute_result"
    }
   ],
   "source": [
    "exp2.as_list()\n"
   ]
  },
  {
   "cell_type": "code",
   "execution_count": 50,
   "metadata": {},
   "outputs": [
    {
     "data": {
      "text/plain": [
       "[('av_000', -0.03116878568882668),\n",
       " ('aa_000', -0.023696629212385405),\n",
       " ('as_000', -0.0204131827312171),\n",
       " ('at_000', -0.020151890741195926),\n",
       " ('ac_000', -0.016723367585050344)]"
      ]
     },
     "execution_count": 50,
     "metadata": {},
     "output_type": "execute_result"
    }
   ],
   "source": [
    "exp3.as_list()\n"
   ]
  },
  {
   "cell_type": "code",
   "execution_count": 51,
   "metadata": {
    "scrolled": true
   },
   "outputs": [
    {
     "data": {
      "image/png": "[encoded data removed]",
      "text/plain": [
       "<Figure size 432x288 with 1 Axes>"
      ]
     },
     "execution_count": 51,
     "metadata": {},
     "output_type": "execute_result"
    }
   ],
   "source": [
    "exp = explainer.explain_instance(low_data[0], small_est.predict_proba, num_features=10, num_samples = 2000)\n",
    "exp.as_pyplot_figure()"
   ]
  },
  {
   "cell_type": "code",
   "execution_count": 52,
   "metadata": {},
   "outputs": [
    {
     "data": {
      "image/png": "[encoded data removed]",
      "text/plain": [
       "<Figure size 432x288 with 1 Axes>"
      ]
     },
     "execution_count": 52,
     "metadata": {},
     "output_type": "execute_result"
    }
   ],
   "source": [
    "exp = explainer.explain_instance(high_data[0], small_est.predict_proba, num_features=10, num_samples = 2000)\n",
    "exp.as_pyplot_figure()"
   ]
  },
  {
   "cell_type": "code",
   "execution_count": null,
   "metadata": {},
   "outputs": [],
   "source": []
  },
  {
   "cell_type": "code",
   "execution_count": 163,
   "metadata": {},
   "outputs": [],
   "source": [
    "# Get explainations for an instance \n",
    "\n",
    "def get_top_feats(row): \n",
    "    \"\"\"\n",
    "    Returns feature name and normalized coefficient from explainer \"explain instance\" \n",
    "    Note this function assumes that there are parameters already defined \n",
    "        small_est = estimator that can predict probabilities \n",
    "        explainer = lime estimator \n",
    "    \"\"\"\n",
    "    exp1 = explainer.explain_instance(row, small_est.predict_proba, num_features=5, num_samples=500)\n",
    "    feat_list = exp1.as_list()\n",
    "    get_name = lambda y: y[0].split()[0]\n",
    "    feats = [(get_name(x), x[1]) for x in feat_list]\n",
    "    \n",
    "    return(feats)\n"
   ]
  },
  {
   "cell_type": "code",
   "execution_count": 164,
   "metadata": {},
   "outputs": [
    {
     "name": "stdout",
     "output_type": "stream",
     "text": [
      "Number of low scores:  1190\n",
      "Number of high scores:  492\n"
     ]
    }
   ],
   "source": [
    "print(\"Number of low scores: \", len(low_score))\n",
    "print(\"Number of high scores: \", len(high_score))"
   ]
  },
  {
   "cell_type": "code",
   "execution_count": null,
   "metadata": {},
   "outputs": [],
   "source": []
  },
  {
   "cell_type": "code",
   "execution_count": 165,
   "metadata": {
    "scrolled": true
   },
   "outputs": [
    {
     "name": "stdout",
     "output_type": "stream",
     "text": [
      "Finished low scores\n"
     ]
    }
   ],
   "source": [
    "n_obs = 50\n",
    "# Loop through h and l scores and get the top explainer features \n",
    "low_score_feats = [get_top_feats(x[1]) for x in low_score[:n_obs]]\n",
    "print(\"Finished low scores\")\n",
    "high_score_feats = [get_top_feats(x[1]) for x in high_score[:n_obs]]"
   ]
  },
  {
   "cell_type": "code",
   "execution_count": null,
   "metadata": {},
   "outputs": [],
   "source": []
  },
  {
   "cell_type": "code",
   "execution_count": 166,
   "metadata": {},
   "outputs": [
    {
     "name": "stdout",
     "output_type": "stream",
     "text": [
      "Master df low shape:  (250, 2)\n"
     ]
    }
   ],
   "source": [
    "# Concatenate each explaination score into one dataframe \n",
    "master_df_low = pd.DataFrame()\n",
    "for exp in low_score_feats:\n",
    "    temp_df = pd.DataFrame(exp)\n",
    "    master_df_low = pd.concat([master_df_low, temp_df], axis = 0)\n",
    "master_df_low.columns = [\"Feature\",  \"Coefficient\"]\n",
    "print(\"Master df low shape: \", master_df_low.shape)"
   ]
  },
  {
   "cell_type": "code",
   "execution_count": 167,
   "metadata": {},
   "outputs": [
    {
     "name": "stdout",
     "output_type": "stream",
     "text": [
      "Master df high shape:  (250, 2)\n"
     ]
    }
   ],
   "source": [
    "master_df_high = pd.DataFrame()\n",
    "for exp in high_score_feats:\n",
    "    temp_df = pd.DataFrame(exp)\n",
    "    master_df_high = pd.concat([master_df_high, temp_df], axis = 0)\n",
    "master_df_high.columns = [\"Feature\",  \"Coefficient\"]\n",
    "print(\"Master df high shape: \", master_df_high.shape)"
   ]
  },
  {
   "cell_type": "code",
   "execution_count": null,
   "metadata": {},
   "outputs": [],
   "source": []
  },
  {
   "cell_type": "code",
   "execution_count": 168,
   "metadata": {
    "scrolled": true
   },
   "outputs": [
    {
     "data": {
      "text/html": [
       "<div>\n",
       "<style scoped>\n",
       "    .dataframe tbody tr th:only-of-type {\n",
       "        vertical-align: middle;\n",
       "    }\n",
       "\n",
       "    .dataframe tbody tr th {\n",
       "        vertical-align: top;\n",
       "    }\n",
       "\n",
       "    .dataframe thead tr th {\n",
       "        text-align: left;\n",
       "    }\n",
       "\n",
       "    .dataframe thead tr:last-of-type th {\n",
       "        text-align: right;\n",
       "    }\n",
       "</style>\n",
       "<table border=\"1\" class=\"dataframe\">\n",
       "  <thead>\n",
       "    <tr>\n",
       "      <th></th>\n",
       "      <th colspan=\"8\" halign=\"left\">Coefficient</th>\n",
       "    </tr>\n",
       "    <tr>\n",
       "      <th></th>\n",
       "      <th>count</th>\n",
       "      <th>mean</th>\n",
       "      <th>std</th>\n",
       "      <th>min</th>\n",
       "      <th>25%</th>\n",
       "      <th>50%</th>\n",
       "      <th>75%</th>\n",
       "      <th>max</th>\n",
       "    </tr>\n",
       "    <tr>\n",
       "      <th>Feature</th>\n",
       "      <th></th>\n",
       "      <th></th>\n",
       "      <th></th>\n",
       "      <th></th>\n",
       "      <th></th>\n",
       "      <th></th>\n",
       "      <th></th>\n",
       "      <th></th>\n",
       "    </tr>\n",
       "  </thead>\n",
       "  <tbody>\n",
       "    <tr>\n",
       "      <th>aa_000</th>\n",
       "      <td>38.0</td>\n",
       "      <td>-1.756645e-02</td>\n",
       "      <td>0.002417</td>\n",
       "      <td>-2.458508e-02</td>\n",
       "      <td>-1.843870e-02</td>\n",
       "      <td>-1.721696e-02</td>\n",
       "      <td>-1.601576e-02</td>\n",
       "      <td>-1.348290e-02</td>\n",
       "    </tr>\n",
       "    <tr>\n",
       "      <th>ag_002</th>\n",
       "      <td>16.0</td>\n",
       "      <td>-1.575354e-02</td>\n",
       "      <td>0.001772</td>\n",
       "      <td>-1.933282e-02</td>\n",
       "      <td>-1.699251e-02</td>\n",
       "      <td>-1.554948e-02</td>\n",
       "      <td>-1.438358e-02</td>\n",
       "      <td>-1.282784e-02</td>\n",
       "    </tr>\n",
       "    <tr>\n",
       "      <th>am_0</th>\n",
       "      <td>4.0</td>\n",
       "      <td>-1.435154e-02</td>\n",
       "      <td>0.001558</td>\n",
       "      <td>-1.609280e-02</td>\n",
       "      <td>-1.509804e-02</td>\n",
       "      <td>-1.448767e-02</td>\n",
       "      <td>-1.374117e-02</td>\n",
       "      <td>-1.233800e-02</td>\n",
       "    </tr>\n",
       "    <tr>\n",
       "      <th>ao_000</th>\n",
       "      <td>1.0</td>\n",
       "      <td>-1.038629e-02</td>\n",
       "      <td>NaN</td>\n",
       "      <td>-1.038629e-02</td>\n",
       "      <td>-1.038629e-02</td>\n",
       "      <td>-1.038629e-02</td>\n",
       "      <td>-1.038629e-02</td>\n",
       "      <td>-1.038629e-02</td>\n",
       "    </tr>\n",
       "    <tr>\n",
       "      <th>ap_000</th>\n",
       "      <td>4.0</td>\n",
       "      <td>-1.485756e-02</td>\n",
       "      <td>0.001451</td>\n",
       "      <td>-1.676350e-02</td>\n",
       "      <td>-1.559007e-02</td>\n",
       "      <td>-1.453608e-02</td>\n",
       "      <td>-1.380357e-02</td>\n",
       "      <td>-1.359457e-02</td>\n",
       "    </tr>\n",
       "    <tr>\n",
       "      <th>aq_000</th>\n",
       "      <td>2.0</td>\n",
       "      <td>-1.582088e-02</td>\n",
       "      <td>0.001612</td>\n",
       "      <td>-1.696053e-02</td>\n",
       "      <td>-1.639071e-02</td>\n",
       "      <td>-1.582088e-02</td>\n",
       "      <td>-1.525105e-02</td>\n",
       "      <td>-1.468122e-02</td>\n",
       "    </tr>\n",
       "    <tr>\n",
       "      <th>ax_000</th>\n",
       "      <td>1.0</td>\n",
       "      <td>-1.237077e-02</td>\n",
       "      <td>NaN</td>\n",
       "      <td>-1.237077e-02</td>\n",
       "      <td>-1.237077e-02</td>\n",
       "      <td>-1.237077e-02</td>\n",
       "      <td>-1.237077e-02</td>\n",
       "      <td>-1.237077e-02</td>\n",
       "    </tr>\n",
       "    <tr>\n",
       "      <th>ba_001</th>\n",
       "      <td>1.0</td>\n",
       "      <td>-1.397267e-02</td>\n",
       "      <td>NaN</td>\n",
       "      <td>-1.397267e-02</td>\n",
       "      <td>-1.397267e-02</td>\n",
       "      <td>-1.397267e-02</td>\n",
       "      <td>-1.397267e-02</td>\n",
       "      <td>-1.397267e-02</td>\n",
       "    </tr>\n",
       "    <tr>\n",
       "      <th>bb_000</th>\n",
       "      <td>1.0</td>\n",
       "      <td>-1.846038e-06</td>\n",
       "      <td>NaN</td>\n",
       "      <td>-1.846038e-06</td>\n",
       "      <td>-1.846038e-06</td>\n",
       "      <td>-1.846038e-06</td>\n",
       "      <td>-1.846038e-06</td>\n",
       "      <td>-1.846038e-06</td>\n",
       "    </tr>\n",
       "    <tr>\n",
       "      <th>bj_000</th>\n",
       "      <td>9.0</td>\n",
       "      <td>-1.515518e-02</td>\n",
       "      <td>0.003112</td>\n",
       "      <td>-2.026014e-02</td>\n",
       "      <td>-1.705800e-02</td>\n",
       "      <td>-1.447146e-02</td>\n",
       "      <td>-1.218914e-02</td>\n",
       "      <td>-1.186049e-02</td>\n",
       "    </tr>\n",
       "    <tr>\n",
       "      <th>bt_000</th>\n",
       "      <td>2.0</td>\n",
       "      <td>-1.552795e-02</td>\n",
       "      <td>0.001182</td>\n",
       "      <td>-1.636368e-02</td>\n",
       "      <td>-1.594581e-02</td>\n",
       "      <td>-1.552795e-02</td>\n",
       "      <td>-1.511009e-02</td>\n",
       "      <td>-1.469222e-02</td>\n",
       "    </tr>\n",
       "    <tr>\n",
       "      <th>bu_000</th>\n",
       "      <td>1.0</td>\n",
       "      <td>-1.310291e-02</td>\n",
       "      <td>NaN</td>\n",
       "      <td>-1.310291e-02</td>\n",
       "      <td>-1.310291e-02</td>\n",
       "      <td>-1.310291e-02</td>\n",
       "      <td>-1.310291e-02</td>\n",
       "      <td>-1.310291e-02</td>\n",
       "    </tr>\n",
       "    <tr>\n",
       "      <th>cc_000</th>\n",
       "      <td>26.0</td>\n",
       "      <td>-1.649019e-02</td>\n",
       "      <td>0.002585</td>\n",
       "      <td>-2.156793e-02</td>\n",
       "      <td>-1.813900e-02</td>\n",
       "      <td>-1.683820e-02</td>\n",
       "      <td>-1.489511e-02</td>\n",
       "      <td>-1.200844e-02</td>\n",
       "    </tr>\n",
       "    <tr>\n",
       "      <th>ci_000</th>\n",
       "      <td>30.0</td>\n",
       "      <td>-1.730122e-02</td>\n",
       "      <td>0.003072</td>\n",
       "      <td>-2.621606e-02</td>\n",
       "      <td>-1.909439e-02</td>\n",
       "      <td>-1.702972e-02</td>\n",
       "      <td>-1.497791e-02</td>\n",
       "      <td>-1.191644e-02</td>\n",
       "    </tr>\n",
       "    <tr>\n",
       "      <th>cj_000</th>\n",
       "      <td>1.0</td>\n",
       "      <td>-1.246809e-02</td>\n",
       "      <td>NaN</td>\n",
       "      <td>-1.246809e-02</td>\n",
       "      <td>-1.246809e-02</td>\n",
       "      <td>-1.246809e-02</td>\n",
       "      <td>-1.246809e-02</td>\n",
       "      <td>-1.246809e-02</td>\n",
       "    </tr>\n",
       "    <tr>\n",
       "      <th>ck_000</th>\n",
       "      <td>50.0</td>\n",
       "      <td>-2.828031e-02</td>\n",
       "      <td>0.005194</td>\n",
       "      <td>-3.678749e-02</td>\n",
       "      <td>-3.115327e-02</td>\n",
       "      <td>-2.883564e-02</td>\n",
       "      <td>-2.668747e-02</td>\n",
       "      <td>-1.993805e-06</td>\n",
       "    </tr>\n",
       "    <tr>\n",
       "      <th>cn_001</th>\n",
       "      <td>1.0</td>\n",
       "      <td>-1.142208e-07</td>\n",
       "      <td>NaN</td>\n",
       "      <td>-1.142208e-07</td>\n",
       "      <td>-1.142208e-07</td>\n",
       "      <td>-1.142208e-07</td>\n",
       "      <td>-1.142208e-07</td>\n",
       "      <td>-1.142208e-07</td>\n",
       "    </tr>\n",
       "    <tr>\n",
       "      <th>cs_002</th>\n",
       "      <td>2.0</td>\n",
       "      <td>-1.456357e-02</td>\n",
       "      <td>0.001790</td>\n",
       "      <td>-1.582900e-02</td>\n",
       "      <td>-1.519628e-02</td>\n",
       "      <td>-1.456357e-02</td>\n",
       "      <td>-1.393085e-02</td>\n",
       "      <td>-1.329813e-02</td>\n",
       "    </tr>\n",
       "    <tr>\n",
       "      <th>cs_004</th>\n",
       "      <td>20.0</td>\n",
       "      <td>-1.423740e-02</td>\n",
       "      <td>0.003975</td>\n",
       "      <td>-1.963071e-02</td>\n",
       "      <td>-1.580647e-02</td>\n",
       "      <td>-1.424032e-02</td>\n",
       "      <td>-1.322552e-02</td>\n",
       "      <td>-9.513921e-09</td>\n",
       "    </tr>\n",
       "    <tr>\n",
       "      <th>de_000</th>\n",
       "      <td>20.0</td>\n",
       "      <td>-1.553811e-02</td>\n",
       "      <td>0.001761</td>\n",
       "      <td>-1.996371e-02</td>\n",
       "      <td>-1.651941e-02</td>\n",
       "      <td>-1.556371e-02</td>\n",
       "      <td>-1.413555e-02</td>\n",
       "      <td>-1.260576e-02</td>\n",
       "    </tr>\n",
       "    <tr>\n",
       "      <th>dn_000</th>\n",
       "      <td>14.0</td>\n",
       "      <td>-1.401155e-02</td>\n",
       "      <td>0.004128</td>\n",
       "      <td>-1.657271e-02</td>\n",
       "      <td>-1.564929e-02</td>\n",
       "      <td>-1.502856e-02</td>\n",
       "      <td>-1.467563e-02</td>\n",
       "      <td>-2.231516e-06</td>\n",
       "    </tr>\n",
       "    <tr>\n",
       "      <th>dt_000</th>\n",
       "      <td>4.0</td>\n",
       "      <td>-1.628457e-02</td>\n",
       "      <td>0.005158</td>\n",
       "      <td>-2.379230e-02</td>\n",
       "      <td>-1.724550e-02</td>\n",
       "      <td>-1.462799e-02</td>\n",
       "      <td>-1.366706e-02</td>\n",
       "      <td>-1.209000e-02</td>\n",
       "    </tr>\n",
       "    <tr>\n",
       "      <th>ee_000</th>\n",
       "      <td>2.0</td>\n",
       "      <td>-1.404632e-02</td>\n",
       "      <td>0.000804</td>\n",
       "      <td>-1.461489e-02</td>\n",
       "      <td>-1.433060e-02</td>\n",
       "      <td>-1.404632e-02</td>\n",
       "      <td>-1.376203e-02</td>\n",
       "      <td>-1.347775e-02</td>\n",
       "    </tr>\n",
       "  </tbody>\n",
       "</table>\n",
       "</div>"
      ],
      "text/plain": [
       "        Coefficient                                                      \\\n",
       "              count          mean       std           min           25%   \n",
       "Feature                                                                   \n",
       "aa_000         38.0 -1.756645e-02  0.002417 -2.458508e-02 -1.843870e-02   \n",
       "ag_002         16.0 -1.575354e-02  0.001772 -1.933282e-02 -1.699251e-02   \n",
       "am_0            4.0 -1.435154e-02  0.001558 -1.609280e-02 -1.509804e-02   \n",
       "ao_000          1.0 -1.038629e-02       NaN -1.038629e-02 -1.038629e-02   \n",
       "ap_000          4.0 -1.485756e-02  0.001451 -1.676350e-02 -1.559007e-02   \n",
       "aq_000          2.0 -1.582088e-02  0.001612 -1.696053e-02 -1.639071e-02   \n",
       "ax_000          1.0 -1.237077e-02       NaN -1.237077e-02 -1.237077e-02   \n",
       "ba_001          1.0 -1.397267e-02       NaN -1.397267e-02 -1.397267e-02   \n",
       "bb_000          1.0 -1.846038e-06       NaN -1.846038e-06 -1.846038e-06   \n",
       "bj_000          9.0 -1.515518e-02  0.003112 -2.026014e-02 -1.705800e-02   \n",
       "bt_000          2.0 -1.552795e-02  0.001182 -1.636368e-02 -1.594581e-02   \n",
       "bu_000          1.0 -1.310291e-02       NaN -1.310291e-02 -1.310291e-02   \n",
       "cc_000         26.0 -1.649019e-02  0.002585 -2.156793e-02 -1.813900e-02   \n",
       "ci_000         30.0 -1.730122e-02  0.003072 -2.621606e-02 -1.909439e-02   \n",
       "cj_000          1.0 -1.246809e-02       NaN -1.246809e-02 -1.246809e-02   \n",
       "ck_000         50.0 -2.828031e-02  0.005194 -3.678749e-02 -3.115327e-02   \n",
       "cn_001          1.0 -1.142208e-07       NaN -1.142208e-07 -1.142208e-07   \n",
       "cs_002          2.0 -1.456357e-02  0.001790 -1.582900e-02 -1.519628e-02   \n",
       "cs_004         20.0 -1.423740e-02  0.003975 -1.963071e-02 -1.580647e-02   \n",
       "de_000         20.0 -1.553811e-02  0.001761 -1.996371e-02 -1.651941e-02   \n",
       "dn_000         14.0 -1.401155e-02  0.004128 -1.657271e-02 -1.564929e-02   \n",
       "dt_000          4.0 -1.628457e-02  0.005158 -2.379230e-02 -1.724550e-02   \n",
       "ee_000          2.0 -1.404632e-02  0.000804 -1.461489e-02 -1.433060e-02   \n",
       "\n",
       "                                                   \n",
       "                  50%           75%           max  \n",
       "Feature                                            \n",
       "aa_000  -1.721696e-02 -1.601576e-02 -1.348290e-02  \n",
       "ag_002  -1.554948e-02 -1.438358e-02 -1.282784e-02  \n",
       "am_0    -1.448767e-02 -1.374117e-02 -1.233800e-02  \n",
       "ao_000  -1.038629e-02 -1.038629e-02 -1.038629e-02  \n",
       "ap_000  -1.453608e-02 -1.380357e-02 -1.359457e-02  \n",
       "aq_000  -1.582088e-02 -1.525105e-02 -1.468122e-02  \n",
       "ax_000  -1.237077e-02 -1.237077e-02 -1.237077e-02  \n",
       "ba_001  -1.397267e-02 -1.397267e-02 -1.397267e-02  \n",
       "bb_000  -1.846038e-06 -1.846038e-06 -1.846038e-06  \n",
       "bj_000  -1.447146e-02 -1.218914e-02 -1.186049e-02  \n",
       "bt_000  -1.552795e-02 -1.511009e-02 -1.469222e-02  \n",
       "bu_000  -1.310291e-02 -1.310291e-02 -1.310291e-02  \n",
       "cc_000  -1.683820e-02 -1.489511e-02 -1.200844e-02  \n",
       "ci_000  -1.702972e-02 -1.497791e-02 -1.191644e-02  \n",
       "cj_000  -1.246809e-02 -1.246809e-02 -1.246809e-02  \n",
       "ck_000  -2.883564e-02 -2.668747e-02 -1.993805e-06  \n",
       "cn_001  -1.142208e-07 -1.142208e-07 -1.142208e-07  \n",
       "cs_002  -1.456357e-02 -1.393085e-02 -1.329813e-02  \n",
       "cs_004  -1.424032e-02 -1.322552e-02 -9.513921e-09  \n",
       "de_000  -1.556371e-02 -1.413555e-02 -1.260576e-02  \n",
       "dn_000  -1.502856e-02 -1.467563e-02 -2.231516e-06  \n",
       "dt_000  -1.462799e-02 -1.366706e-02 -1.209000e-02  \n",
       "ee_000  -1.404632e-02 -1.376203e-02 -1.347775e-02  "
      ]
     },
     "execution_count": 168,
     "metadata": {},
     "output_type": "execute_result"
    }
   ],
   "source": [
    "low_feat_coef_gb = master_df_low.groupby(\"Feature\")\n",
    "cnt_mean_low = low_feat_coef_gb.apply(lambda x: (np.mean(x)[0], len(x)))\n",
    "low_feat_coef_gb.describe()\n"
   ]
  },
  {
   "cell_type": "code",
   "execution_count": 169,
   "metadata": {},
   "outputs": [],
   "source": [
    "# Gather metrics from each \n",
    "cnt_mean_low = master_df_low.groupby(\"Feature\").apply(lambda x: pd.Series({\"mean\": np.mean(x)[0],\n",
    "                                                                       \"count\":len(x), \n",
    "                                                                       \"abs_mean\":abs(np.mean(x)[0]), \n",
    "                                                                       \"mean_sign\":\"pos\" if np.mean(x)[0] > 0 else \"neg\" }))\n"
   ]
  },
  {
   "cell_type": "code",
   "execution_count": 170,
   "metadata": {},
   "outputs": [
    {
     "data": {
      "text/html": [
       "<div>\n",
       "<style scoped>\n",
       "    .dataframe tbody tr th:only-of-type {\n",
       "        vertical-align: middle;\n",
       "    }\n",
       "\n",
       "    .dataframe tbody tr th {\n",
       "        vertical-align: top;\n",
       "    }\n",
       "\n",
       "    .dataframe thead th {\n",
       "        text-align: right;\n",
       "    }\n",
       "</style>\n",
       "<table border=\"1\" class=\"dataframe\">\n",
       "  <thead>\n",
       "    <tr style=\"text-align: right;\">\n",
       "      <th></th>\n",
       "      <th>abs_mean</th>\n",
       "      <th>count</th>\n",
       "      <th>mean</th>\n",
       "      <th>mean_sign</th>\n",
       "    </tr>\n",
       "    <tr>\n",
       "      <th>Feature</th>\n",
       "      <th></th>\n",
       "      <th></th>\n",
       "      <th></th>\n",
       "      <th></th>\n",
       "    </tr>\n",
       "  </thead>\n",
       "  <tbody>\n",
       "    <tr>\n",
       "      <th>ck_000</th>\n",
       "      <td>0.028280</td>\n",
       "      <td>50</td>\n",
       "      <td>-0.028280</td>\n",
       "      <td>neg</td>\n",
       "    </tr>\n",
       "    <tr>\n",
       "      <th>aa_000</th>\n",
       "      <td>0.017566</td>\n",
       "      <td>38</td>\n",
       "      <td>-0.017566</td>\n",
       "      <td>neg</td>\n",
       "    </tr>\n",
       "    <tr>\n",
       "      <th>ci_000</th>\n",
       "      <td>0.017301</td>\n",
       "      <td>30</td>\n",
       "      <td>-0.017301</td>\n",
       "      <td>neg</td>\n",
       "    </tr>\n",
       "    <tr>\n",
       "      <th>cc_000</th>\n",
       "      <td>0.016490</td>\n",
       "      <td>26</td>\n",
       "      <td>-0.016490</td>\n",
       "      <td>neg</td>\n",
       "    </tr>\n",
       "    <tr>\n",
       "      <th>de_000</th>\n",
       "      <td>0.015538</td>\n",
       "      <td>20</td>\n",
       "      <td>-0.015538</td>\n",
       "      <td>neg</td>\n",
       "    </tr>\n",
       "  </tbody>\n",
       "</table>\n",
       "</div>"
      ],
      "text/plain": [
       "         abs_mean  count      mean mean_sign\n",
       "Feature                                     \n",
       "ck_000   0.028280     50 -0.028280       neg\n",
       "aa_000   0.017566     38 -0.017566       neg\n",
       "ci_000   0.017301     30 -0.017301       neg\n",
       "cc_000   0.016490     26 -0.016490       neg\n",
       "de_000   0.015538     20 -0.015538       neg"
      ]
     },
     "execution_count": 170,
     "metadata": {},
     "output_type": "execute_result"
    }
   ],
   "source": [
    "cnt_mean_low.sort_values(\"count\", ascending = False).head()\n"
   ]
  },
  {
   "cell_type": "code",
   "execution_count": 171,
   "metadata": {},
   "outputs": [
    {
     "data": {
      "text/html": [
       "<div>\n",
       "<style scoped>\n",
       "    .dataframe tbody tr th:only-of-type {\n",
       "        vertical-align: middle;\n",
       "    }\n",
       "\n",
       "    .dataframe tbody tr th {\n",
       "        vertical-align: top;\n",
       "    }\n",
       "\n",
       "    .dataframe thead th {\n",
       "        text-align: right;\n",
       "    }\n",
       "</style>\n",
       "<table border=\"1\" class=\"dataframe\">\n",
       "  <thead>\n",
       "    <tr style=\"text-align: right;\">\n",
       "      <th></th>\n",
       "      <th>abs_mean</th>\n",
       "      <th>count</th>\n",
       "      <th>mean</th>\n",
       "      <th>mean_sign</th>\n",
       "    </tr>\n",
       "    <tr>\n",
       "      <th>Feature</th>\n",
       "      <th></th>\n",
       "      <th></th>\n",
       "      <th></th>\n",
       "      <th></th>\n",
       "    </tr>\n",
       "  </thead>\n",
       "  <tbody>\n",
       "    <tr>\n",
       "      <th>ck_000</th>\n",
       "      <td>0.028280</td>\n",
       "      <td>50</td>\n",
       "      <td>-0.028280</td>\n",
       "      <td>neg</td>\n",
       "    </tr>\n",
       "    <tr>\n",
       "      <th>aa_000</th>\n",
       "      <td>0.017566</td>\n",
       "      <td>38</td>\n",
       "      <td>-0.017566</td>\n",
       "      <td>neg</td>\n",
       "    </tr>\n",
       "    <tr>\n",
       "      <th>ci_000</th>\n",
       "      <td>0.017301</td>\n",
       "      <td>30</td>\n",
       "      <td>-0.017301</td>\n",
       "      <td>neg</td>\n",
       "    </tr>\n",
       "    <tr>\n",
       "      <th>cc_000</th>\n",
       "      <td>0.016490</td>\n",
       "      <td>26</td>\n",
       "      <td>-0.016490</td>\n",
       "      <td>neg</td>\n",
       "    </tr>\n",
       "    <tr>\n",
       "      <th>dt_000</th>\n",
       "      <td>0.016285</td>\n",
       "      <td>4</td>\n",
       "      <td>-0.016285</td>\n",
       "      <td>neg</td>\n",
       "    </tr>\n",
       "  </tbody>\n",
       "</table>\n",
       "</div>"
      ],
      "text/plain": [
       "         abs_mean  count      mean mean_sign\n",
       "Feature                                     \n",
       "ck_000   0.028280     50 -0.028280       neg\n",
       "aa_000   0.017566     38 -0.017566       neg\n",
       "ci_000   0.017301     30 -0.017301       neg\n",
       "cc_000   0.016490     26 -0.016490       neg\n",
       "dt_000   0.016285      4 -0.016285       neg"
      ]
     },
     "execution_count": 171,
     "metadata": {},
     "output_type": "execute_result"
    }
   ],
   "source": [
    "cnt_mean_low.sort_values(\"abs_mean\", ascending = False).head()"
   ]
  },
  {
   "cell_type": "code",
   "execution_count": null,
   "metadata": {},
   "outputs": [],
   "source": []
  },
  {
   "cell_type": "code",
   "execution_count": 172,
   "metadata": {},
   "outputs": [],
   "source": [
    "high_feat_coef_gb = master_df_high.groupby(\"Feature\")\n",
    "cnt_mean_high = high_feat_coef_gb.apply(lambda x: (np.mean(x)[0], len(x)))\n",
    "high_feat_coef_gb.describe()\n",
    "# Gather metrics from each feature group by \n",
    "cnt_mean_high = master_df_high.groupby(\"Feature\").apply(lambda x: pd.Series({\"mean\": np.mean(x)[0],\n",
    "                                                                       \"count\":len(x), \n",
    "                                                                       \"abs_mean\":abs(np.mean(x)[0]), \n",
    "                                                                       \"mean_sign\":\"pos\" if np.mean(x)[0] > 0 else \"neg\" }))\n",
    "\n"
   ]
  },
  {
   "cell_type": "code",
   "execution_count": 173,
   "metadata": {},
   "outputs": [
    {
     "data": {
      "text/html": [
       "<div>\n",
       "<style scoped>\n",
       "    .dataframe tbody tr th:only-of-type {\n",
       "        vertical-align: middle;\n",
       "    }\n",
       "\n",
       "    .dataframe tbody tr th {\n",
       "        vertical-align: top;\n",
       "    }\n",
       "\n",
       "    .dataframe thead th {\n",
       "        text-align: right;\n",
       "    }\n",
       "</style>\n",
       "<table border=\"1\" class=\"dataframe\">\n",
       "  <thead>\n",
       "    <tr style=\"text-align: right;\">\n",
       "      <th></th>\n",
       "      <th>abs_mean</th>\n",
       "      <th>count</th>\n",
       "      <th>mean</th>\n",
       "      <th>mean_sign</th>\n",
       "    </tr>\n",
       "    <tr>\n",
       "      <th>Feature</th>\n",
       "      <th></th>\n",
       "      <th></th>\n",
       "      <th></th>\n",
       "      <th></th>\n",
       "    </tr>\n",
       "  </thead>\n",
       "  <tbody>\n",
       "    <tr>\n",
       "      <th>ck_000</th>\n",
       "      <td>0.028443</td>\n",
       "      <td>50</td>\n",
       "      <td>-0.028443</td>\n",
       "      <td>neg</td>\n",
       "    </tr>\n",
       "    <tr>\n",
       "      <th>aa_000</th>\n",
       "      <td>0.017670</td>\n",
       "      <td>40</td>\n",
       "      <td>-0.017670</td>\n",
       "      <td>neg</td>\n",
       "    </tr>\n",
       "    <tr>\n",
       "      <th>ci_000</th>\n",
       "      <td>0.016071</td>\n",
       "      <td>31</td>\n",
       "      <td>-0.016071</td>\n",
       "      <td>neg</td>\n",
       "    </tr>\n",
       "    <tr>\n",
       "      <th>ag_002</th>\n",
       "      <td>0.015529</td>\n",
       "      <td>25</td>\n",
       "      <td>-0.015529</td>\n",
       "      <td>neg</td>\n",
       "    </tr>\n",
       "    <tr>\n",
       "      <th>cs_004</th>\n",
       "      <td>0.015538</td>\n",
       "      <td>25</td>\n",
       "      <td>-0.015538</td>\n",
       "      <td>neg</td>\n",
       "    </tr>\n",
       "  </tbody>\n",
       "</table>\n",
       "</div>"
      ],
      "text/plain": [
       "         abs_mean  count      mean mean_sign\n",
       "Feature                                     \n",
       "ck_000   0.028443     50 -0.028443       neg\n",
       "aa_000   0.017670     40 -0.017670       neg\n",
       "ci_000   0.016071     31 -0.016071       neg\n",
       "ag_002   0.015529     25 -0.015529       neg\n",
       "cs_004   0.015538     25 -0.015538       neg"
      ]
     },
     "execution_count": 173,
     "metadata": {},
     "output_type": "execute_result"
    }
   ],
   "source": [
    "cnt_mean_high.sort_values(\"count\", ascending = False).head()\n"
   ]
  },
  {
   "cell_type": "code",
   "execution_count": 174,
   "metadata": {},
   "outputs": [
    {
     "data": {
      "text/html": [
       "<div>\n",
       "<style scoped>\n",
       "    .dataframe tbody tr th:only-of-type {\n",
       "        vertical-align: middle;\n",
       "    }\n",
       "\n",
       "    .dataframe tbody tr th {\n",
       "        vertical-align: top;\n",
       "    }\n",
       "\n",
       "    .dataframe thead th {\n",
       "        text-align: right;\n",
       "    }\n",
       "</style>\n",
       "<table border=\"1\" class=\"dataframe\">\n",
       "  <thead>\n",
       "    <tr style=\"text-align: right;\">\n",
       "      <th></th>\n",
       "      <th>abs_mean</th>\n",
       "      <th>count</th>\n",
       "      <th>mean</th>\n",
       "      <th>mean_sign</th>\n",
       "    </tr>\n",
       "    <tr>\n",
       "      <th>Feature</th>\n",
       "      <th></th>\n",
       "      <th></th>\n",
       "      <th></th>\n",
       "      <th></th>\n",
       "    </tr>\n",
       "  </thead>\n",
       "  <tbody>\n",
       "    <tr>\n",
       "      <th>ck_000</th>\n",
       "      <td>0.028443</td>\n",
       "      <td>50</td>\n",
       "      <td>-0.028443</td>\n",
       "      <td>neg</td>\n",
       "    </tr>\n",
       "    <tr>\n",
       "      <th>ax_000</th>\n",
       "      <td>0.019607</td>\n",
       "      <td>1</td>\n",
       "      <td>-0.019607</td>\n",
       "      <td>neg</td>\n",
       "    </tr>\n",
       "    <tr>\n",
       "      <th>aa_000</th>\n",
       "      <td>0.017670</td>\n",
       "      <td>40</td>\n",
       "      <td>-0.017670</td>\n",
       "      <td>neg</td>\n",
       "    </tr>\n",
       "    <tr>\n",
       "      <th>ba_001</th>\n",
       "      <td>0.016589</td>\n",
       "      <td>1</td>\n",
       "      <td>-0.016589</td>\n",
       "      <td>neg</td>\n",
       "    </tr>\n",
       "    <tr>\n",
       "      <th>ci_000</th>\n",
       "      <td>0.016071</td>\n",
       "      <td>31</td>\n",
       "      <td>-0.016071</td>\n",
       "      <td>neg</td>\n",
       "    </tr>\n",
       "  </tbody>\n",
       "</table>\n",
       "</div>"
      ],
      "text/plain": [
       "         abs_mean  count      mean mean_sign\n",
       "Feature                                     \n",
       "ck_000   0.028443     50 -0.028443       neg\n",
       "ax_000   0.019607      1 -0.019607       neg\n",
       "aa_000   0.017670     40 -0.017670       neg\n",
       "ba_001   0.016589      1 -0.016589       neg\n",
       "ci_000   0.016071     31 -0.016071       neg"
      ]
     },
     "execution_count": 174,
     "metadata": {},
     "output_type": "execute_result"
    }
   ],
   "source": [
    "cnt_mean_high.sort_values(\"abs_mean\", ascending = False).head()"
   ]
  },
  {
   "cell_type": "code",
   "execution_count": 178,
   "metadata": {
    "scrolled": true
   },
   "outputs": [],
   "source": [
    "high_low_mean_cnt = cnt_mean_high.join(cnt_mean_low, how=\"outer\", lsuffix=\"_high\", rsuffix=\"_low\")"
   ]
  },
  {
   "cell_type": "code",
   "execution_count": 181,
   "metadata": {},
   "outputs": [],
   "source": [
    "high_low_mean_cnt[\"cnt_diff\"] = high_low_mean_cnt[\"count_high\"] - high_low_mean_cnt[\"count_low\"]\n",
    "high_low_mean_cnt[\"mean_diff\"] = high_low_mean_cnt[\"mean_high\"] - high_low_mean_cnt[\"mean_low\"]"
   ]
  },
  {
   "cell_type": "code",
   "execution_count": 182,
   "metadata": {},
   "outputs": [
    {
     "data": {
      "text/html": [
       "<div>\n",
       "<style scoped>\n",
       "    .dataframe tbody tr th:only-of-type {\n",
       "        vertical-align: middle;\n",
       "    }\n",
       "\n",
       "    .dataframe tbody tr th {\n",
       "        vertical-align: top;\n",
       "    }\n",
       "\n",
       "    .dataframe thead th {\n",
       "        text-align: right;\n",
       "    }\n",
       "</style>\n",
       "<table border=\"1\" class=\"dataframe\">\n",
       "  <thead>\n",
       "    <tr style=\"text-align: right;\">\n",
       "      <th></th>\n",
       "      <th>abs_mean_high</th>\n",
       "      <th>count_high</th>\n",
       "      <th>mean_high</th>\n",
       "      <th>mean_sign_high</th>\n",
       "      <th>abs_mean_low</th>\n",
       "      <th>count_low</th>\n",
       "      <th>mean_low</th>\n",
       "      <th>mean_sign_low</th>\n",
       "      <th>cnt_diff</th>\n",
       "      <th>mean_diff</th>\n",
       "    </tr>\n",
       "    <tr>\n",
       "      <th>Feature</th>\n",
       "      <th></th>\n",
       "      <th></th>\n",
       "      <th></th>\n",
       "      <th></th>\n",
       "      <th></th>\n",
       "      <th></th>\n",
       "      <th></th>\n",
       "      <th></th>\n",
       "      <th></th>\n",
       "      <th></th>\n",
       "    </tr>\n",
       "  </thead>\n",
       "  <tbody>\n",
       "    <tr>\n",
       "      <th>aa_000</th>\n",
       "      <td>1.766998e-02</td>\n",
       "      <td>40.0</td>\n",
       "      <td>-1.766998e-02</td>\n",
       "      <td>neg</td>\n",
       "      <td>0.017566</td>\n",
       "      <td>38.0</td>\n",
       "      <td>-0.017566</td>\n",
       "      <td>neg</td>\n",
       "      <td>2.0</td>\n",
       "      <td>-0.000104</td>\n",
       "    </tr>\n",
       "    <tr>\n",
       "      <th>ag_002</th>\n",
       "      <td>1.552917e-02</td>\n",
       "      <td>25.0</td>\n",
       "      <td>-1.552917e-02</td>\n",
       "      <td>neg</td>\n",
       "      <td>0.015754</td>\n",
       "      <td>16.0</td>\n",
       "      <td>-0.015754</td>\n",
       "      <td>neg</td>\n",
       "      <td>9.0</td>\n",
       "      <td>0.000224</td>\n",
       "    </tr>\n",
       "    <tr>\n",
       "      <th>al_000</th>\n",
       "      <td>4.091028e-09</td>\n",
       "      <td>1.0</td>\n",
       "      <td>-4.091028e-09</td>\n",
       "      <td>neg</td>\n",
       "      <td>NaN</td>\n",
       "      <td>NaN</td>\n",
       "      <td>NaN</td>\n",
       "      <td>NaN</td>\n",
       "      <td>NaN</td>\n",
       "      <td>NaN</td>\n",
       "    </tr>\n",
       "    <tr>\n",
       "      <th>am_0</th>\n",
       "      <td>1.326783e-02</td>\n",
       "      <td>1.0</td>\n",
       "      <td>-1.326783e-02</td>\n",
       "      <td>neg</td>\n",
       "      <td>0.014352</td>\n",
       "      <td>4.0</td>\n",
       "      <td>-0.014352</td>\n",
       "      <td>neg</td>\n",
       "      <td>-3.0</td>\n",
       "      <td>0.001084</td>\n",
       "    </tr>\n",
       "    <tr>\n",
       "      <th>ao_000</th>\n",
       "      <td>NaN</td>\n",
       "      <td>NaN</td>\n",
       "      <td>NaN</td>\n",
       "      <td>NaN</td>\n",
       "      <td>0.010386</td>\n",
       "      <td>1.0</td>\n",
       "      <td>-0.010386</td>\n",
       "      <td>neg</td>\n",
       "      <td>NaN</td>\n",
       "      <td>NaN</td>\n",
       "    </tr>\n",
       "  </tbody>\n",
       "</table>\n",
       "</div>"
      ],
      "text/plain": [
       "         abs_mean_high  count_high     mean_high mean_sign_high  abs_mean_low  \\\n",
       "Feature                                                                         \n",
       "aa_000    1.766998e-02        40.0 -1.766998e-02            neg      0.017566   \n",
       "ag_002    1.552917e-02        25.0 -1.552917e-02            neg      0.015754   \n",
       "al_000    4.091028e-09         1.0 -4.091028e-09            neg           NaN   \n",
       "am_0      1.326783e-02         1.0 -1.326783e-02            neg      0.014352   \n",
       "ao_000             NaN         NaN           NaN            NaN      0.010386   \n",
       "\n",
       "         count_low  mean_low mean_sign_low  cnt_diff  mean_diff  \n",
       "Feature                                                          \n",
       "aa_000        38.0 -0.017566           neg       2.0  -0.000104  \n",
       "ag_002        16.0 -0.015754           neg       9.0   0.000224  \n",
       "al_000         NaN       NaN           NaN       NaN        NaN  \n",
       "am_0           4.0 -0.014352           neg      -3.0   0.001084  \n",
       "ao_000         1.0 -0.010386           neg       NaN        NaN  "
      ]
     },
     "execution_count": 182,
     "metadata": {},
     "output_type": "execute_result"
    }
   ],
   "source": [
    "high_low_mean_cnt.head()"
   ]
  },
  {
   "cell_type": "code",
   "execution_count": 185,
   "metadata": {},
   "outputs": [
    {
     "data": {
      "text/plain": [
       "Feature\n",
       "aa_000    2.0\n",
       "ag_002    9.0\n",
       "al_000    NaN\n",
       "am_0     -3.0\n",
       "ao_000    NaN\n",
       "ap_000   -1.0\n",
       "aq_000    0.0\n",
       "au_000    NaN\n",
       "ax_000    0.0\n",
       "ba_001    0.0\n",
       "bb_000    NaN\n",
       "be_000    NaN\n",
       "bj_000   -7.0\n",
       "bt_000    NaN\n",
       "bu_000    NaN\n",
       "cc_000   -7.0\n",
       "ci_000    1.0\n",
       "cj_000    NaN\n",
       "ck_000    0.0\n",
       "cn_001    NaN\n",
       "cn_002    NaN\n",
       "cn_007    NaN\n",
       "cs_002    0.0\n",
       "cs_003    NaN\n",
       "cs_004    5.0\n",
       "de_000    2.0\n",
       "dn_000    3.0\n",
       "dt_000   -3.0\n",
       "ee_000    0.0\n",
       "Name: cnt_diff, dtype: float64"
      ]
     },
     "execution_count": 185,
     "metadata": {},
     "output_type": "execute_result"
    }
   ],
   "source": [
    "high_low_mean_cnt[\"cnt_diff\"]"
   ]
  },
  {
   "cell_type": "code",
   "execution_count": 186,
   "metadata": {},
   "outputs": [
    {
     "data": {
      "text/plain": [
       "Feature\n",
       "aa_000   -0.000104\n",
       "ag_002    0.000224\n",
       "al_000         NaN\n",
       "am_0      0.001084\n",
       "ao_000         NaN\n",
       "ap_000    0.005397\n",
       "aq_000    0.004080\n",
       "au_000         NaN\n",
       "ax_000   -0.007237\n",
       "ba_001   -0.002617\n",
       "bb_000         NaN\n",
       "be_000         NaN\n",
       "bj_000   -0.000814\n",
       "bt_000         NaN\n",
       "bu_000         NaN\n",
       "cc_000    0.000496\n",
       "ci_000    0.001230\n",
       "cj_000         NaN\n",
       "ck_000   -0.000163\n",
       "cn_001         NaN\n",
       "cn_002         NaN\n",
       "cn_007         NaN\n",
       "cs_002   -0.000195\n",
       "cs_003         NaN\n",
       "cs_004   -0.001301\n",
       "de_000    0.000150\n",
       "dn_000   -0.000379\n",
       "dt_000    0.001415\n",
       "ee_000    0.001426\n",
       "Name: mean_diff, dtype: float64"
      ]
     },
     "execution_count": 186,
     "metadata": {},
     "output_type": "execute_result"
    }
   ],
   "source": [
    "high_low_mean_cnt[\"mean_diff\"]"
   ]
  },
  {
   "cell_type": "code",
   "execution_count": null,
   "metadata": {},
   "outputs": [],
   "source": []
  }
 ],
 "metadata": {
  "kernelspec": {
   "display_name": "Python 3",
   "language": "python",
   "name": "python3"
  },
  "language_info": {
   "codemirror_mode": {
    "name": "ipython",
    "version": 3
   },
   "file_extension": ".py",
   "mimetype": "text/x-python",
   "name": "python",
   "nbconvert_exporter": "python",
   "pygments_lexer": "ipython3",
   "version": "3.6.4"
  }
 },
 "nbformat": 4,
 "nbformat_minor": 2
}
