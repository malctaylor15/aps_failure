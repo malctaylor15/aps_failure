{
 "cells": [
  {
   "cell_type": "code",
   "execution_count": 1,
   "metadata": {},
   "outputs": [],
   "source": [
    "import pandas as pd\n",
    "import numpy as np\n",
    "import seaborn as sns\n",
    "import os\n",
    "import matplotlib.pyplot as plt\n",
    "%matplotlib inline\n",
    "\n",
    "from importlib import reload\n",
    "\n",
    "import tree_utils\n",
    "reload(tree_utils)\n",
    "from tree_utils import *\n"
   ]
  },
  {
   "cell_type": "code",
   "execution_count": 2,
   "metadata": {},
   "outputs": [
    {
     "name": "stderr",
     "output_type": "stream",
     "text": [
      "/home/malcolm/Documents/aps_failure/clean_data1.py:9: SettingWithCopyWarning: \n",
      "A value is trying to be set on a copy of a slice from a DataFrame\n",
      "\n",
      "See the caveats in the documentation: http://pandas.pydata.org/pandas-docs/stable/indexing.html#indexing-view-versus-copy\n",
      "  data_raw.drop(large_pct_na, axis = 1, inplace= True)\n"
     ]
    },
    {
     "name": "stdout",
     "output_type": "stream",
     "text": [
      "Beginning to drop na's and nan's... this may take a while \n",
      "Finished replacing....\n",
      "Shape before: (10000, 143)\n",
      "Shape after: (10000, 142)\n"
     ]
    },
    {
     "data": {
      "text/plain": [
       "0    1\n",
       "1    1\n",
       "2    1\n",
       "3    1\n",
       "4    1\n",
       "Name: class, dtype: int64"
      ]
     },
     "execution_count": 2,
     "metadata": {},
     "output_type": "execute_result"
    }
   ],
   "source": [
    "data_raw = pd.read_csv(\"aps_failure_training_set.csv\", skiprows = 20)\n",
    "\n",
    "# Try to understand data\n",
    "data_raw.shape\n",
    "data_raw.head()\n",
    "\n",
    "data_raw_small  = data_raw.iloc[0:10000,:]\n",
    "\n",
    "#data_raw_small.apply(pd.value_counts)[\"na\"]\n",
    "\n",
    "from clean_data1 import clean_data\n",
    "X, Y = clean_data(data_raw_small)\n",
    "\n",
    "Y.value_counts(normalize=True)\n",
    "\n",
    "# Y = Y.apply(lambda x: 1 if x ==\"neg\" else 0)\n",
    "Y.head()\n"
   ]
  },
  {
   "cell_type": "code",
   "execution_count": 3,
   "metadata": {},
   "outputs": [
    {
     "data": {
      "text/html": [
       "<div>\n",
       "<style scoped>\n",
       "    .dataframe tbody tr th:only-of-type {\n",
       "        vertical-align: middle;\n",
       "    }\n",
       "\n",
       "    .dataframe tbody tr th {\n",
       "        vertical-align: top;\n",
       "    }\n",
       "\n",
       "    .dataframe thead th {\n",
       "        text-align: right;\n",
       "    }\n",
       "</style>\n",
       "<table border=\"1\" class=\"dataframe\">\n",
       "  <thead>\n",
       "    <tr style=\"text-align: right;\">\n",
       "      <th></th>\n",
       "      <th>Full</th>\n",
       "      <th>Test</th>\n",
       "      <th>Train</th>\n",
       "    </tr>\n",
       "  </thead>\n",
       "  <tbody>\n",
       "    <tr>\n",
       "      <th>1</th>\n",
       "      <td>0.9805</td>\n",
       "      <td>0.9824</td>\n",
       "      <td>0.979867</td>\n",
       "    </tr>\n",
       "    <tr>\n",
       "      <th>0</th>\n",
       "      <td>0.0195</td>\n",
       "      <td>0.0176</td>\n",
       "      <td>0.020133</td>\n",
       "    </tr>\n",
       "  </tbody>\n",
       "</table>\n",
       "</div>"
      ],
      "text/plain": [
       "     Full    Test     Train\n",
       "1  0.9805  0.9824  0.979867\n",
       "0  0.0195  0.0176  0.020133"
      ]
     },
     "execution_count": 3,
     "metadata": {},
     "output_type": "execute_result"
    }
   ],
   "source": [
    "from sklearn.model_selection import train_test_split\n",
    "X_train, X_test, y_train, y_test = train_test_split(X,Y, test_size = 0.25, random_state = 1)\n",
    "\n",
    "compare_samples = pd.DataFrame({\"Train\":y_train.value_counts(normalize=True),\n",
    "\"Test\": y_test.value_counts(normalize=True),\n",
    "\"Full\":Y.value_counts(normalize=True)})\n",
    "\n",
    "compare_samples"
   ]
  },
  {
   "cell_type": "markdown",
   "metadata": {},
   "source": [
    "### Begin Random Forest Analysis "
   ]
  },
  {
   "cell_type": "code",
   "execution_count": 4,
   "metadata": {},
   "outputs": [],
   "source": [
    "from sklearn.ensemble import RandomForestClassifier"
   ]
  },
  {
   "cell_type": "code",
   "execution_count": 44,
   "metadata": {},
   "outputs": [
    {
     "name": "stdout",
     "output_type": "stream",
     "text": [
      "          Pred_0  Pred_1\n",
      "Actual_0     148       3\n",
      "Actual_1     267    7082\n"
     ]
    },
    {
     "data": {
      "text/plain": [
       "0.556"
      ]
     },
     "execution_count": 44,
     "metadata": {},
     "output_type": "execute_result"
    }
   ],
   "source": [
    "rf_params = {\"n_estimators\" : 40, \"max_depth\":4, \"random_state\":4, \"class_weight\":{1:10, 0:500}}\n",
    "\n",
    "estimator = RandomForestClassifier(**rf_params)\n",
    "estimator.fit(X_train, y_train)\n",
    "\n",
    "estimator.score(X_train, y_train)\n",
    "preds1 = estimator.predict(X_train)\n",
    "\n",
    "custom_score_aps(y_train, preds1)"
   ]
  },
  {
   "cell_type": "code",
   "execution_count": 6,
   "metadata": {},
   "outputs": [
    {
     "name": "stdout",
     "output_type": "stream",
     "text": [
      "          Pred_0  Pred_1\n",
      "Actual_0      40       4\n",
      "Actual_1     105    2351\n"
     ]
    },
    {
     "data": {
      "image/png": "[encoded data removed]",
      "text/plain": [
       "<Figure size 432x288 with 1 Axes>"
      ]
     },
     "metadata": {},
     "output_type": "display_data"
    },
    {
     "name": "stdout",
     "output_type": "stream",
     "text": [
      "          Pred_0  Pred_1\n",
      "Actual_0      40       4\n",
      "Actual_1     105    2351\n"
     ]
    },
    {
     "data": {
      "text/plain": [
       "1.22"
      ]
     },
     "execution_count": 6,
     "metadata": {},
     "output_type": "execute_result"
    }
   ],
   "source": [
    "preds_test = estimator.predict(X_test)\n",
    "custom_score_aps(y_test, preds_test)\n",
    "\n",
    "len(estimator.feature_importances_)\n",
    "\n",
    "# Feature importance stuff\n",
    "feat_imp = pd.DataFrame(estimator.feature_importances_, index = X_train.columns, columns = [\"Feat_Importance\"])\n",
    "\n",
    "feat_imp2 = get_cum_feat_imp(feat_imp)\n",
    "plot_cum_feat_imp(feat_imp2)\n",
    "custom_score_aps(y_test, preds_test)\n"
   ]
  },
  {
   "cell_type": "code",
   "execution_count": 7,
   "metadata": {},
   "outputs": [
    {
     "name": "stdout",
     "output_type": "stream",
     "text": [
      "27\n",
      "43\n"
     ]
    },
    {
     "data": {
      "text/html": [
       "<div>\n",
       "<style scoped>\n",
       "    .dataframe tbody tr th:only-of-type {\n",
       "        vertical-align: middle;\n",
       "    }\n",
       "\n",
       "    .dataframe tbody tr th {\n",
       "        vertical-align: top;\n",
       "    }\n",
       "\n",
       "    .dataframe thead th {\n",
       "        text-align: right;\n",
       "    }\n",
       "</style>\n",
       "<table border=\"1\" class=\"dataframe\">\n",
       "  <thead>\n",
       "    <tr style=\"text-align: right;\">\n",
       "      <th></th>\n",
       "      <th>Feat_Importance</th>\n",
       "    </tr>\n",
       "  </thead>\n",
       "  <tbody>\n",
       "    <tr>\n",
       "      <th>aa_000</th>\n",
       "      <td>0.117367</td>\n",
       "    </tr>\n",
       "    <tr>\n",
       "      <th>ag_002</th>\n",
       "      <td>0.002832</td>\n",
       "    </tr>\n",
       "    <tr>\n",
       "      <th>ag_003</th>\n",
       "      <td>0.008399</td>\n",
       "    </tr>\n",
       "    <tr>\n",
       "      <th>ag_004</th>\n",
       "      <td>0.006861</td>\n",
       "    </tr>\n",
       "    <tr>\n",
       "      <th>ah_000</th>\n",
       "      <td>0.062258</td>\n",
       "    </tr>\n",
       "  </tbody>\n",
       "</table>\n",
       "</div>"
      ],
      "text/plain": [
       "        Feat_Importance\n",
       "aa_000         0.117367\n",
       "ag_002         0.002832\n",
       "ag_003         0.008399\n",
       "ag_004         0.006861\n",
       "ah_000         0.062258"
      ]
     },
     "execution_count": 7,
     "metadata": {},
     "output_type": "execute_result"
    }
   ],
   "source": [
    "cum_cutoff = 0.90\n",
    "indiv_cutoff = 0.002\n",
    "high_imp_feats1 = feat_imp2[feat_imp2[\"Cum_Imp\"] < cum_cutoff]\n",
    "print(len(high_imp_feats1))\n",
    "high_imp_feats2 = feat_imp[feat_imp[\"Feat_Importance\"] > indiv_cutoff]\n",
    "print(len(high_imp_feats2))\n",
    "high_imp_feats2.head()"
   ]
  },
  {
   "cell_type": "markdown",
   "metadata": {},
   "source": [
    "## Let's build a smaller Random Forest"
   ]
  },
  {
   "cell_type": "code",
   "execution_count": 47,
   "metadata": {},
   "outputs": [],
   "source": [
    "X_train_small = X_train[high_imp_feats2.index]\n",
    "X_test_small = X_test[high_imp_feats2.index]"
   ]
  },
  {
   "cell_type": "code",
   "execution_count": 48,
   "metadata": {},
   "outputs": [
    {
     "name": "stdout",
     "output_type": "stream",
     "text": [
      "          Pred_0  Pred_1\n",
      "Actual_0     148       3\n",
      "Actual_1     253    7096\n"
     ]
    },
    {
     "data": {
      "text/plain": [
       "0.5373333333333333"
      ]
     },
     "execution_count": 48,
     "metadata": {},
     "output_type": "execute_result"
    }
   ],
   "source": [
    "small_est = RandomForestClassifier(**rf_params)\n",
    "small_est.fit(X_train_small, y_train)\n",
    "\n",
    "small_est.score(X_train_small, y_train)\n",
    "preds2 = small_est.predict(X_train_small)\n",
    "\n",
    "custom_score_aps(y_train, preds2)\n"
   ]
  },
  {
   "cell_type": "code",
   "execution_count": null,
   "metadata": {},
   "outputs": [],
   "source": []
  },
  {
   "cell_type": "code",
   "execution_count": 49,
   "metadata": {},
   "outputs": [
    {
     "name": "stdout",
     "output_type": "stream",
     "text": [
      "          Pred_0  Pred_1\n",
      "Actual_0      40       4\n",
      "Actual_1     106    2350\n"
     ]
    },
    {
     "data": {
      "image/png": "[encoded data removed]",
      "text/plain": [
       "<Figure size 432x288 with 1 Axes>"
      ]
     },
     "metadata": {},
     "output_type": "display_data"
    },
    {
     "name": "stdout",
     "output_type": "stream",
     "text": [
      "          Pred_0  Pred_1\n",
      "Actual_0      40       4\n",
      "Actual_1     106    2350\n"
     ]
    },
    {
     "data": {
      "text/plain": [
       "1.224"
      ]
     },
     "execution_count": 49,
     "metadata": {},
     "output_type": "execute_result"
    }
   ],
   "source": [
    "preds_test2 = small_est.predict(X_test_small)\n",
    "custom_score_aps(y_test, preds_test2)\n",
    "\n",
    "len(estimator.feature_importances_)\n",
    "\n",
    "# Feature importance stuff\n",
    "feat_imp_small = pd.DataFrame(small_est.feature_importances_, index = X_train_small.columns, columns = [\"Feat_Importance\"])\n",
    "\n",
    "feat_imp_small2 = get_cum_feat_imp(feat_imp_small)\n",
    "plot_cum_feat_imp(feat_imp_small2)\n",
    "custom_score_aps(y_test, preds_test2)\n"
   ]
  },
  {
   "cell_type": "markdown",
   "metadata": {},
   "source": [
    "### Begin examining correlations "
   ]
  },
  {
   "cell_type": "code",
   "execution_count": 50,
   "metadata": {},
   "outputs": [],
   "source": [
    "corr_df_raw = pd.concat([X_train_small, y_train], axis = 1)"
   ]
  },
  {
   "cell_type": "code",
   "execution_count": 51,
   "metadata": {},
   "outputs": [
    {
     "data": {
      "text/plain": [
       "(7500, 44)"
      ]
     },
     "execution_count": 51,
     "metadata": {},
     "output_type": "execute_result"
    }
   ],
   "source": [
    "corr_df_raw.shape"
   ]
  },
  {
   "cell_type": "code",
   "execution_count": 52,
   "metadata": {},
   "outputs": [
    {
     "data": {
      "text/html": [
       "<div>\n",
       "<style scoped>\n",
       "    .dataframe tbody tr th:only-of-type {\n",
       "        vertical-align: middle;\n",
       "    }\n",
       "\n",
       "    .dataframe tbody tr th {\n",
       "        vertical-align: top;\n",
       "    }\n",
       "\n",
       "    .dataframe thead th {\n",
       "        text-align: right;\n",
       "    }\n",
       "</style>\n",
       "<table border=\"1\" class=\"dataframe\">\n",
       "  <thead>\n",
       "    <tr style=\"text-align: right;\">\n",
       "      <th></th>\n",
       "      <th>aa_000</th>\n",
       "      <th>ag_002</th>\n",
       "      <th>ag_003</th>\n",
       "      <th>ag_004</th>\n",
       "      <th>ah_000</th>\n",
       "      <th>al_000</th>\n",
       "      <th>am_0</th>\n",
       "      <th>ao_000</th>\n",
       "      <th>ap_000</th>\n",
       "      <th>aq_000</th>\n",
       "      <th>...</th>\n",
       "      <th>cs_002</th>\n",
       "      <th>cs_003</th>\n",
       "      <th>cs_004</th>\n",
       "      <th>cs_006</th>\n",
       "      <th>de_000</th>\n",
       "      <th>dn_000</th>\n",
       "      <th>dt_000</th>\n",
       "      <th>ee_000</th>\n",
       "      <th>ee_001</th>\n",
       "      <th>class</th>\n",
       "    </tr>\n",
       "  </thead>\n",
       "  <tbody>\n",
       "    <tr>\n",
       "      <th>651</th>\n",
       "      <td>10</td>\n",
       "      <td>0</td>\n",
       "      <td>0</td>\n",
       "      <td>96</td>\n",
       "      <td>1580</td>\n",
       "      <td>0</td>\n",
       "      <td>0</td>\n",
       "      <td>17758</td>\n",
       "      <td>12208</td>\n",
       "      <td>470</td>\n",
       "      <td>...</td>\n",
       "      <td>18</td>\n",
       "      <td>10</td>\n",
       "      <td>180</td>\n",
       "      <td>1240</td>\n",
       "      <td>100</td>\n",
       "      <td>166</td>\n",
       "      <td>16</td>\n",
       "      <td>2976</td>\n",
       "      <td>1356</td>\n",
       "      <td>1</td>\n",
       "    </tr>\n",
       "    <tr>\n",
       "      <th>6560</th>\n",
       "      <td>409078</td>\n",
       "      <td>0</td>\n",
       "      <td>0</td>\n",
       "      <td>49444</td>\n",
       "      <td>13926286</td>\n",
       "      <td>660374</td>\n",
       "      <td>1198326</td>\n",
       "      <td>17536714</td>\n",
       "      <td>9891218</td>\n",
       "      <td>5651258</td>\n",
       "      <td>...</td>\n",
       "      <td>898036</td>\n",
       "      <td>174704</td>\n",
       "      <td>1096546</td>\n",
       "      <td>402</td>\n",
       "      <td>78</td>\n",
       "      <td>369890</td>\n",
       "      <td>12116</td>\n",
       "      <td>951194</td>\n",
       "      <td>530612</td>\n",
       "      <td>0</td>\n",
       "    </tr>\n",
       "    <tr>\n",
       "      <th>8974</th>\n",
       "      <td>91842</td>\n",
       "      <td>0</td>\n",
       "      <td>26116</td>\n",
       "      <td>586288</td>\n",
       "      <td>2955026</td>\n",
       "      <td>9966</td>\n",
       "      <td>14856</td>\n",
       "      <td>4528178</td>\n",
       "      <td>815134</td>\n",
       "      <td>439354</td>\n",
       "      <td>...</td>\n",
       "      <td>263454</td>\n",
       "      <td>347792</td>\n",
       "      <td>229642</td>\n",
       "      <td>1534732</td>\n",
       "      <td>106</td>\n",
       "      <td>41594</td>\n",
       "      <td>44760</td>\n",
       "      <td>758946</td>\n",
       "      <td>793972</td>\n",
       "      <td>1</td>\n",
       "    </tr>\n",
       "    <tr>\n",
       "      <th>2348</th>\n",
       "      <td>39896</td>\n",
       "      <td>0</td>\n",
       "      <td>0</td>\n",
       "      <td>115690</td>\n",
       "      <td>1139312</td>\n",
       "      <td>258</td>\n",
       "      <td>512</td>\n",
       "      <td>2130364</td>\n",
       "      <td>595560</td>\n",
       "      <td>145176</td>\n",
       "      <td>...</td>\n",
       "      <td>153534</td>\n",
       "      <td>129636</td>\n",
       "      <td>235872</td>\n",
       "      <td>136718</td>\n",
       "      <td>376</td>\n",
       "      <td>12458</td>\n",
       "      <td>7032</td>\n",
       "      <td>488442</td>\n",
       "      <td>247256</td>\n",
       "      <td>1</td>\n",
       "    </tr>\n",
       "    <tr>\n",
       "      <th>5670</th>\n",
       "      <td>98196</td>\n",
       "      <td>0</td>\n",
       "      <td>2258</td>\n",
       "      <td>184106</td>\n",
       "      <td>3254412</td>\n",
       "      <td>5400</td>\n",
       "      <td>8126</td>\n",
       "      <td>5347704</td>\n",
       "      <td>933460</td>\n",
       "      <td>398896</td>\n",
       "      <td>...</td>\n",
       "      <td>304416</td>\n",
       "      <td>398720</td>\n",
       "      <td>393604</td>\n",
       "      <td>681178</td>\n",
       "      <td>102</td>\n",
       "      <td>41540</td>\n",
       "      <td>44460</td>\n",
       "      <td>694408</td>\n",
       "      <td>1298672</td>\n",
       "      <td>1</td>\n",
       "    </tr>\n",
       "  </tbody>\n",
       "</table>\n",
       "<p>5 rows × 44 columns</p>\n",
       "</div>"
      ],
      "text/plain": [
       "      aa_000 ag_002 ag_003  ag_004    ah_000  al_000     am_0    ao_000  \\\n",
       "651       10      0      0      96      1580       0        0     17758   \n",
       "6560  409078      0      0   49444  13926286  660374  1198326  17536714   \n",
       "8974   91842      0  26116  586288   2955026    9966    14856   4528178   \n",
       "2348   39896      0      0  115690   1139312     258      512   2130364   \n",
       "5670   98196      0   2258  184106   3254412    5400     8126   5347704   \n",
       "\n",
       "       ap_000   aq_000  ...   cs_002  cs_003   cs_004   cs_006 de_000  dn_000  \\\n",
       "651     12208      470  ...       18      10      180     1240    100     166   \n",
       "6560  9891218  5651258  ...   898036  174704  1096546      402     78  369890   \n",
       "8974   815134   439354  ...   263454  347792   229642  1534732    106   41594   \n",
       "2348   595560   145176  ...   153534  129636   235872   136718    376   12458   \n",
       "5670   933460   398896  ...   304416  398720   393604   681178    102   41540   \n",
       "\n",
       "     dt_000  ee_000   ee_001 class  \n",
       "651      16    2976     1356     1  \n",
       "6560  12116  951194   530612     0  \n",
       "8974  44760  758946   793972     1  \n",
       "2348   7032  488442   247256     1  \n",
       "5670  44460  694408  1298672     1  \n",
       "\n",
       "[5 rows x 44 columns]"
      ]
     },
     "execution_count": 52,
     "metadata": {},
     "output_type": "execute_result"
    }
   ],
   "source": [
    "corr_df_raw.head()"
   ]
  },
  {
   "cell_type": "code",
   "execution_count": 53,
   "metadata": {},
   "outputs": [],
   "source": [
    "corr = corr_df_raw.applymap(np.float64).corr()"
   ]
  },
  {
   "cell_type": "code",
   "execution_count": 54,
   "metadata": {},
   "outputs": [
    {
     "data": {
      "text/plain": [
       "<matplotlib.axes._subplots.AxesSubplot at 0x7ad9a35f0828>"
      ]
     },
     "execution_count": 54,
     "metadata": {},
     "output_type": "execute_result"
    }
   ],
   "source": [
    "# Generate a mask for the upper triangle\n",
    "mask = np.zeros_like(corr, dtype=np.bool)\n",
    "mask[np.triu_indices_from(mask)] = True\n",
    "\n",
    "# Set up the matplotlib figure\n",
    "f, ax = plt.subplots(figsize=(11, 9))\n",
    "\n",
    "# Generate a custom diverging colormap\n",
    "cmap = sns.diverging_palette(220, 10, as_cmap=True)\n",
    "\n",
    "# Draw the heatmap with the mask and correct aspect ratio\n",
    "sns.heatmap(corr, mask=mask, cmap=cmap, vmax=.3, center=0,\n",
    "            square=True, linewidths=.5, cbar_kws={\"shrink\": .5})\n"
   ]
  },
  {
   "cell_type": "code",
   "execution_count": 55,
   "metadata": {
    "scrolled": true
   },
   "outputs": [
    {
     "data": {
      "image/png": "[encoded data removed]",
      "text/plain": [
       "<Figure size 792x648 with 2 Axes>"
      ]
     },
     "metadata": {},
     "output_type": "display_data"
    }
   ],
   "source": [
    "plt.show()"
   ]
  },
  {
   "cell_type": "code",
   "execution_count": 56,
   "metadata": {
    "scrolled": true
   },
   "outputs": [
    {
     "data": {
      "text/plain": [
       "aa_000   -0.597615\n",
       "ag_002   -0.308480\n",
       "ag_003   -0.432553\n",
       "ag_004   -0.381792\n",
       "ah_000   -0.561489\n",
       "al_000   -0.444962\n",
       "am_0     -0.429586\n",
       "ao_000   -0.552920\n",
       "ap_000   -0.545780\n",
       "aq_000   -0.570137\n",
       "au_000   -0.105877\n",
       "ax_000   -0.207901\n",
       "az_000   -0.177001\n",
       "ba_000   -0.447897\n",
       "ba_001   -0.438734\n",
       "ba_002   -0.426786\n",
       "bb_000   -0.573661\n",
       "be_000   -0.248461\n",
       "bg_000   -0.557961\n",
       "bh_000   -0.528486\n",
       "bj_000   -0.562229\n",
       "bs_000   -0.198826\n",
       "bt_000   -0.590391\n",
       "bu_000   -0.568838\n",
       "bv_000   -0.568838\n",
       "cc_000   -0.523180\n",
       "ci_000   -0.595626\n",
       "cj_000   -0.351247\n",
       "ck_000   -0.465113\n",
       "cn_001   -0.382298\n",
       "cn_002   -0.349071\n",
       "cn_007   -0.211151\n",
       "cp_000   -0.212898\n",
       "cq_000   -0.568838\n",
       "cs_002   -0.391677\n",
       "cs_003   -0.383735\n",
       "cs_004   -0.425193\n",
       "cs_006   -0.247903\n",
       "de_000   -0.227309\n",
       "dn_000   -0.518883\n",
       "dt_000   -0.425018\n",
       "ee_000   -0.427670\n",
       "ee_001   -0.365178\n",
       "class     1.000000\n",
       "Name: class, dtype: float64"
      ]
     },
     "execution_count": 56,
     "metadata": {},
     "output_type": "execute_result"
    }
   ],
   "source": [
    "corr[\"class\"]"
   ]
  },
  {
   "cell_type": "code",
   "execution_count": 59,
   "metadata": {},
   "outputs": [
    {
     "data": {
      "text/html": [
       "<div>\n",
       "<style scoped>\n",
       "    .dataframe tbody tr th:only-of-type {\n",
       "        vertical-align: middle;\n",
       "    }\n",
       "\n",
       "    .dataframe tbody tr th {\n",
       "        vertical-align: top;\n",
       "    }\n",
       "\n",
       "    .dataframe thead th {\n",
       "        text-align: right;\n",
       "    }\n",
       "</style>\n",
       "<table border=\"1\" class=\"dataframe\">\n",
       "  <thead>\n",
       "    <tr style=\"text-align: right;\">\n",
       "      <th></th>\n",
       "      <th>Feat_Importance</th>\n",
       "      <th>Cum_Imp</th>\n",
       "      <th>Diff_Feat_Imp</th>\n",
       "    </tr>\n",
       "  </thead>\n",
       "  <tbody>\n",
       "    <tr>\n",
       "      <th>ck_000</th>\n",
       "      <td>0.115872</td>\n",
       "      <td>0.115872</td>\n",
       "      <td>0.335787</td>\n",
       "    </tr>\n",
       "    <tr>\n",
       "      <th>ci_000</th>\n",
       "      <td>0.105243</td>\n",
       "      <td>0.221115</td>\n",
       "      <td>0.335787</td>\n",
       "    </tr>\n",
       "    <tr>\n",
       "      <th>bu_000</th>\n",
       "      <td>0.104472</td>\n",
       "      <td>0.325587</td>\n",
       "      <td>0.024198</td>\n",
       "    </tr>\n",
       "    <tr>\n",
       "      <th>dn_000</th>\n",
       "      <td>0.072832</td>\n",
       "      <td>0.398419</td>\n",
       "      <td>1.000000</td>\n",
       "    </tr>\n",
       "    <tr>\n",
       "      <th>bt_000</th>\n",
       "      <td>0.065317</td>\n",
       "      <td>0.463736</td>\n",
       "      <td>0.237381</td>\n",
       "    </tr>\n",
       "  </tbody>\n",
       "</table>\n",
       "</div>"
      ],
      "text/plain": [
       "        Feat_Importance   Cum_Imp  Diff_Feat_Imp\n",
       "ck_000         0.115872  0.115872       0.335787\n",
       "ci_000         0.105243  0.221115       0.335787\n",
       "bu_000         0.104472  0.325587       0.024198\n",
       "dn_000         0.072832  0.398419       1.000000\n",
       "bt_000         0.065317  0.463736       0.237381"
      ]
     },
     "execution_count": 59,
     "metadata": {},
     "output_type": "execute_result"
    }
   ],
   "source": [
    "feat_imp_small2.head()"
   ]
  },
  {
   "cell_type": "code",
   "execution_count": 60,
   "metadata": {},
   "outputs": [],
   "source": [
    "feats_corr = feat_imp_small2.join(corr[\"class\"])"
   ]
  },
  {
   "cell_type": "code",
   "execution_count": 61,
   "metadata": {},
   "outputs": [
    {
     "data": {
      "text/html": [
       "<div>\n",
       "<style scoped>\n",
       "    .dataframe tbody tr th:only-of-type {\n",
       "        vertical-align: middle;\n",
       "    }\n",
       "\n",
       "    .dataframe tbody tr th {\n",
       "        vertical-align: top;\n",
       "    }\n",
       "\n",
       "    .dataframe thead th {\n",
       "        text-align: right;\n",
       "    }\n",
       "</style>\n",
       "<table border=\"1\" class=\"dataframe\">\n",
       "  <thead>\n",
       "    <tr style=\"text-align: right;\">\n",
       "      <th></th>\n",
       "      <th>Feat_Importance</th>\n",
       "      <th>Cum_Imp</th>\n",
       "      <th>Diff_Feat_Imp</th>\n",
       "      <th>class</th>\n",
       "    </tr>\n",
       "  </thead>\n",
       "  <tbody>\n",
       "    <tr>\n",
       "      <th>aa_000</th>\n",
       "      <td>0.041254</td>\n",
       "      <td>0.671203</td>\n",
       "      <td>0.075613</td>\n",
       "      <td>-0.597615</td>\n",
       "    </tr>\n",
       "    <tr>\n",
       "      <th>ci_000</th>\n",
       "      <td>0.105243</td>\n",
       "      <td>0.221115</td>\n",
       "      <td>0.335787</td>\n",
       "      <td>-0.595626</td>\n",
       "    </tr>\n",
       "    <tr>\n",
       "      <th>bt_000</th>\n",
       "      <td>0.065317</td>\n",
       "      <td>0.463736</td>\n",
       "      <td>0.237381</td>\n",
       "      <td>-0.590391</td>\n",
       "    </tr>\n",
       "    <tr>\n",
       "      <th>bb_000</th>\n",
       "      <td>0.021806</td>\n",
       "      <td>0.869180</td>\n",
       "      <td>0.054858</td>\n",
       "      <td>-0.573661</td>\n",
       "    </tr>\n",
       "    <tr>\n",
       "      <th>aq_000</th>\n",
       "      <td>0.002253</td>\n",
       "      <td>0.986552</td>\n",
       "      <td>0.011830</td>\n",
       "      <td>-0.570137</td>\n",
       "    </tr>\n",
       "    <tr>\n",
       "      <th>bv_000</th>\n",
       "      <td>0.025653</td>\n",
       "      <td>0.799102</td>\n",
       "      <td>0.037016</td>\n",
       "      <td>-0.568838</td>\n",
       "    </tr>\n",
       "    <tr>\n",
       "      <th>bu_000</th>\n",
       "      <td>0.104472</td>\n",
       "      <td>0.325587</td>\n",
       "      <td>0.024198</td>\n",
       "      <td>-0.568838</td>\n",
       "    </tr>\n",
       "  </tbody>\n",
       "</table>\n",
       "</div>"
      ],
      "text/plain": [
       "        Feat_Importance   Cum_Imp  Diff_Feat_Imp     class\n",
       "aa_000         0.041254  0.671203       0.075613 -0.597615\n",
       "ci_000         0.105243  0.221115       0.335787 -0.595626\n",
       "bt_000         0.065317  0.463736       0.237381 -0.590391\n",
       "bb_000         0.021806  0.869180       0.054858 -0.573661\n",
       "aq_000         0.002253  0.986552       0.011830 -0.570137\n",
       "bv_000         0.025653  0.799102       0.037016 -0.568838\n",
       "bu_000         0.104472  0.325587       0.024198 -0.568838"
      ]
     },
     "execution_count": 61,
     "metadata": {},
     "output_type": "execute_result"
    }
   ],
   "source": [
    "feats_corr.sort_values(by=\"class\").head(7)"
   ]
  },
  {
   "cell_type": "code",
   "execution_count": 62,
   "metadata": {},
   "outputs": [
    {
     "data": {
      "text/html": [
       "<div>\n",
       "<style scoped>\n",
       "    .dataframe tbody tr th:only-of-type {\n",
       "        vertical-align: middle;\n",
       "    }\n",
       "\n",
       "    .dataframe tbody tr th {\n",
       "        vertical-align: top;\n",
       "    }\n",
       "\n",
       "    .dataframe thead th {\n",
       "        text-align: right;\n",
       "    }\n",
       "</style>\n",
       "<table border=\"1\" class=\"dataframe\">\n",
       "  <thead>\n",
       "    <tr style=\"text-align: right;\">\n",
       "      <th></th>\n",
       "      <th>Feat_Importance</th>\n",
       "      <th>Cum_Imp</th>\n",
       "      <th>Diff_Feat_Imp</th>\n",
       "      <th>class</th>\n",
       "    </tr>\n",
       "  </thead>\n",
       "  <tbody>\n",
       "    <tr>\n",
       "      <th>de_000</th>\n",
       "      <td>0.006924</td>\n",
       "      <td>0.944182</td>\n",
       "      <td>0.004792</td>\n",
       "      <td>-0.227309</td>\n",
       "    </tr>\n",
       "    <tr>\n",
       "      <th>cp_000</th>\n",
       "      <td>0.006441</td>\n",
       "      <td>0.950623</td>\n",
       "      <td>0.015072</td>\n",
       "      <td>-0.212898</td>\n",
       "    </tr>\n",
       "    <tr>\n",
       "      <th>cn_007</th>\n",
       "      <td>0.002971</td>\n",
       "      <td>0.975823</td>\n",
       "      <td>0.003073</td>\n",
       "      <td>-0.211151</td>\n",
       "    </tr>\n",
       "    <tr>\n",
       "      <th>ax_000</th>\n",
       "      <td>0.002025</td>\n",
       "      <td>0.990767</td>\n",
       "      <td>0.005015</td>\n",
       "      <td>-0.207901</td>\n",
       "    </tr>\n",
       "    <tr>\n",
       "      <th>bs_000</th>\n",
       "      <td>0.000858</td>\n",
       "      <td>0.999262</td>\n",
       "      <td>0.009205</td>\n",
       "      <td>-0.198826</td>\n",
       "    </tr>\n",
       "    <tr>\n",
       "      <th>az_000</th>\n",
       "      <td>0.002634</td>\n",
       "      <td>0.984299</td>\n",
       "      <td>0.008496</td>\n",
       "      <td>-0.177001</td>\n",
       "    </tr>\n",
       "    <tr>\n",
       "      <th>au_000</th>\n",
       "      <td>0.001809</td>\n",
       "      <td>0.994558</td>\n",
       "      <td>0.005286</td>\n",
       "      <td>-0.105877</td>\n",
       "    </tr>\n",
       "  </tbody>\n",
       "</table>\n",
       "</div>"
      ],
      "text/plain": [
       "        Feat_Importance   Cum_Imp  Diff_Feat_Imp     class\n",
       "de_000         0.006924  0.944182       0.004792 -0.227309\n",
       "cp_000         0.006441  0.950623       0.015072 -0.212898\n",
       "cn_007         0.002971  0.975823       0.003073 -0.211151\n",
       "ax_000         0.002025  0.990767       0.005015 -0.207901\n",
       "bs_000         0.000858  0.999262       0.009205 -0.198826\n",
       "az_000         0.002634  0.984299       0.008496 -0.177001\n",
       "au_000         0.001809  0.994558       0.005286 -0.105877"
      ]
     },
     "execution_count": 62,
     "metadata": {},
     "output_type": "execute_result"
    }
   ],
   "source": [
    "feats_corr.sort_values(by=\"class\").tail(7)"
   ]
  },
  {
   "cell_type": "code",
   "execution_count": 63,
   "metadata": {},
   "outputs": [
    {
     "data": {
      "text/html": [
       "<div>\n",
       "<style scoped>\n",
       "    .dataframe tbody tr th:only-of-type {\n",
       "        vertical-align: middle;\n",
       "    }\n",
       "\n",
       "    .dataframe tbody tr th {\n",
       "        vertical-align: top;\n",
       "    }\n",
       "\n",
       "    .dataframe thead th {\n",
       "        text-align: right;\n",
       "    }\n",
       "</style>\n",
       "<table border=\"1\" class=\"dataframe\">\n",
       "  <thead>\n",
       "    <tr style=\"text-align: right;\">\n",
       "      <th></th>\n",
       "      <th>Feat_Importance</th>\n",
       "      <th>Cum_Imp</th>\n",
       "      <th>Diff_Feat_Imp</th>\n",
       "      <th>class</th>\n",
       "    </tr>\n",
       "  </thead>\n",
       "  <tbody>\n",
       "    <tr>\n",
       "      <th>ee_001</th>\n",
       "      <td>0.000738</td>\n",
       "      <td>1.000000</td>\n",
       "      <td>0.003607</td>\n",
       "      <td>-0.365178</td>\n",
       "    </tr>\n",
       "    <tr>\n",
       "      <th>bs_000</th>\n",
       "      <td>0.000858</td>\n",
       "      <td>0.999262</td>\n",
       "      <td>0.009205</td>\n",
       "      <td>-0.198826</td>\n",
       "    </tr>\n",
       "    <tr>\n",
       "      <th>be_000</th>\n",
       "      <td>0.001156</td>\n",
       "      <td>0.998403</td>\n",
       "      <td>0.003861</td>\n",
       "      <td>-0.248461</td>\n",
       "    </tr>\n",
       "    <tr>\n",
       "      <th>ba_002</th>\n",
       "      <td>0.001284</td>\n",
       "      <td>0.997247</td>\n",
       "      <td>0.003623</td>\n",
       "      <td>-0.426786</td>\n",
       "    </tr>\n",
       "    <tr>\n",
       "      <th>cs_006</th>\n",
       "      <td>0.001405</td>\n",
       "      <td>0.995963</td>\n",
       "      <td>0.012549</td>\n",
       "      <td>-0.247903</td>\n",
       "    </tr>\n",
       "    <tr>\n",
       "      <th>au_000</th>\n",
       "      <td>0.001809</td>\n",
       "      <td>0.994558</td>\n",
       "      <td>0.005286</td>\n",
       "      <td>-0.105877</td>\n",
       "    </tr>\n",
       "    <tr>\n",
       "      <th>cj_000</th>\n",
       "      <td>0.001982</td>\n",
       "      <td>0.992749</td>\n",
       "      <td>0.001161</td>\n",
       "      <td>-0.351247</td>\n",
       "    </tr>\n",
       "  </tbody>\n",
       "</table>\n",
       "</div>"
      ],
      "text/plain": [
       "        Feat_Importance   Cum_Imp  Diff_Feat_Imp     class\n",
       "ee_001         0.000738  1.000000       0.003607 -0.365178\n",
       "bs_000         0.000858  0.999262       0.009205 -0.198826\n",
       "be_000         0.001156  0.998403       0.003861 -0.248461\n",
       "ba_002         0.001284  0.997247       0.003623 -0.426786\n",
       "cs_006         0.001405  0.995963       0.012549 -0.247903\n",
       "au_000         0.001809  0.994558       0.005286 -0.105877\n",
       "cj_000         0.001982  0.992749       0.001161 -0.351247"
      ]
     },
     "execution_count": 63,
     "metadata": {},
     "output_type": "execute_result"
    }
   ],
   "source": [
    "feats_corr.sort_values(by=\"Feat_Importance\").head(7)"
   ]
  },
  {
   "cell_type": "code",
   "execution_count": null,
   "metadata": {},
   "outputs": [],
   "source": []
  },
  {
   "cell_type": "markdown",
   "metadata": {},
   "source": [
    "### Begin exploring Predictions before LIME"
   ]
  },
  {
   "cell_type": "code",
   "execution_count": 75,
   "metadata": {},
   "outputs": [],
   "source": [
    "preds_prob_test_raw = small_est.predict_proba(X_test_small)\n",
    "preds_prob_test = [x[0] for x in preds_prob_test_raw]"
   ]
  },
  {
   "cell_type": "code",
   "execution_count": 76,
   "metadata": {},
   "outputs": [
    {
     "data": {
      "image/png": "[encoded data removed]",
      "text/plain": [
       "<Figure size 432x288 with 1 Axes>"
      ]
     },
     "metadata": {},
     "output_type": "display_data"
    }
   ],
   "source": [
    "plt.hist(preds_prob_test)\n",
    "plt.show()"
   ]
  },
  {
   "cell_type": "code",
   "execution_count": null,
   "metadata": {},
   "outputs": [],
   "source": [
    "X_train2 = X_train_small.applymap(float)\n"
   ]
  },
  {
   "cell_type": "code",
   "execution_count": 234,
   "metadata": {},
   "outputs": [
    {
     "data": {
      "text/plain": [
       "<bound method DataFrame.quantile of Empty DataFrame\n",
       "Columns: []\n",
       "Index: []>"
      ]
     },
     "execution_count": 234,
     "metadata": {},
     "output_type": "execute_result"
    }
   ],
   "source": [
    "pd.DataFrame().quantile"
   ]
  },
  {
   "cell_type": "code",
   "execution_count": 244,
   "metadata": {},
   "outputs": [
    {
     "data": {
      "text/plain": [
       "[0.01,\n",
       " 0.11,\n",
       " 0.21000000000000002,\n",
       " 0.31000000000000005,\n",
       " 0.41000000000000003,\n",
       " 0.51,\n",
       " 0.6100000000000001,\n",
       " 0.7100000000000001,\n",
       " 0.81,\n",
       " 0.91]"
      ]
     },
     "execution_count": 244,
     "metadata": {},
     "output_type": "execute_result"
    }
   ],
   "source": [
    "[x for x in np.arange(0.01, 0.99, 0.1)]"
   ]
  },
  {
   "cell_type": "code",
   "execution_count": 245,
   "metadata": {},
   "outputs": [
    {
     "data": {
      "text/plain": [
       "0.01    0.002022\n",
       "0.11    0.002022\n",
       "0.21    0.002022\n",
       "0.31    0.002022\n",
       "0.41    0.002022\n",
       "0.51    0.002798\n",
       "0.61    0.007186\n",
       "0.71    0.010763\n",
       "0.81    0.032614\n",
       "0.91    0.210931\n",
       "dtype: float64"
      ]
     },
     "execution_count": 245,
     "metadata": {},
     "output_type": "execute_result"
    }
   ],
   "source": [
    "pd.Series(preds_prob_test).quantile(np.arange(0.01, 0.99, 0.1))"
   ]
  },
  {
   "cell_type": "code",
   "execution_count": 68,
   "metadata": {},
   "outputs": [],
   "source": [
    "def segment_score_vals(h_cutoff, l_cutoff):\n",
    "    segment = [(score, indep_vars) for score, indep_vars in zip(preds_prob_test, X_train2.values) if score > l_cutoff and score < h_cutoff]\n",
    "    print(\"List has number of elements: \", len(segment))\n",
    "    return(segment)\n"
   ]
  },
  {
   "cell_type": "code",
   "execution_count": 69,
   "metadata": {},
   "outputs": [],
   "source": [
    "def segment_score(h_cutoff, l_cutoff):\n",
    "    segment = [(score, indep_vars) for score, indep_vars in zip(preds_prob_test, X_train2.iterrows()) if score > l_cutoff and score < h_cutoff]\n",
    "    print(\"List has number of elements: \", len(segment))\n",
    "    return(segment)\n"
   ]
  },
  {
   "cell_type": "code",
   "execution_count": 246,
   "metadata": {},
   "outputs": [
    {
     "name": "stdout",
     "output_type": "stream",
     "text": [
      "List has number of elements:  492\n",
      "List has number of elements:  1190\n"
     ]
    }
   ],
   "source": [
    "high_score = segment_score_vals(1, 0.03)\n",
    "low_score = segment_score_vals(0.0023, 0.0)"
   ]
  },
  {
   "cell_type": "code",
   "execution_count": 247,
   "metadata": {
    "scrolled": true
   },
   "outputs": [
    {
     "data": {
      "text/plain": [
       "array([2.44000000e+04, 0.00000000e+00, 0.00000000e+00, 3.68200000e+03,\n",
       "       9.05016000e+05, 0.00000000e+00, 0.00000000e+00, 1.52328400e+06,\n",
       "       3.25622000e+05, 1.28146000e+05, 0.00000000e+00, 0.00000000e+00,\n",
       "       1.57600000e+03, 8.11662000e+05, 4.32456000e+05, 1.69754000e+05,\n",
       "       2.03077800e+06, 6.04000000e+02, 9.05016000e+05, 2.52220000e+04,\n",
       "       1.55540000e+05, 1.23040000e+05, 2.44003500e+04, 2.03077800e+06,\n",
       "       2.03077800e+06, 1.86428000e+06, 1.57623744e+06, 0.00000000e+00,\n",
       "       2.84745600e+05, 0.00000000e+00, 0.00000000e+00, 1.18680000e+04,\n",
       "       0.00000000e+00, 2.03077800e+06, 2.53200000e+03, 2.07750000e+05,\n",
       "       1.57542000e+05, 5.48556000e+05, 1.66000000e+02, 1.26180000e+04,\n",
       "       1.06720000e+04, 3.08408000e+05, 4.92498000e+05])"
      ]
     },
     "execution_count": 247,
     "metadata": {},
     "output_type": "execute_result"
    }
   ],
   "source": [
    "low_score[1][1]"
   ]
  },
  {
   "cell_type": "code",
   "execution_count": null,
   "metadata": {},
   "outputs": [],
   "source": []
  },
  {
   "cell_type": "code",
   "execution_count": null,
   "metadata": {},
   "outputs": [],
   "source": []
  },
  {
   "cell_type": "markdown",
   "metadata": {},
   "source": [
    "### Begin Using LIME "
   ]
  },
  {
   "cell_type": "code",
   "execution_count": 248,
   "metadata": {},
   "outputs": [],
   "source": [
    "import lime\n",
    "import lime.lime_tabular"
   ]
  },
  {
   "cell_type": "code",
   "execution_count": 249,
   "metadata": {},
   "outputs": [],
   "source": [
    "high_data = np.array([x[1] for x in high_score])\n",
    "low_data = np.array([x[1] for x in low_score])\n"
   ]
  },
  {
   "cell_type": "code",
   "execution_count": null,
   "metadata": {},
   "outputs": [],
   "source": []
  },
  {
   "cell_type": "code",
   "execution_count": 250,
   "metadata": {},
   "outputs": [],
   "source": [
    "explainer_low = lime.lime_tabular.LimeTabularExplainer(high_data, feature_names = X_train.columns, \\\n",
    "                                                      discretize_continuous= False)"
   ]
  },
  {
   "cell_type": "code",
   "execution_count": 251,
   "metadata": {},
   "outputs": [],
   "source": [
    "exp2 = explainer_low.explain_instance(high_data[0], small_est.predict_proba, num_features=5, num_samples=1000)\n",
    "exp3 = explainer_low.explain_instance(low_data[0], small_est.predict_proba, num_features = 5, num_samples = 1000)"
   ]
  },
  {
   "cell_type": "code",
   "execution_count": 252,
   "metadata": {},
   "outputs": [
    {
     "data": {
      "text/plain": [
       "[('av_000', -0.02897515798343967),\n",
       " ('aa_000', -0.021963673545345303),\n",
       " ('as_000', -0.015717477132313327),\n",
       " ('at_000', -0.013643643246905927),\n",
       " ('ac_000', -0.013431380046753793)]"
      ]
     },
     "execution_count": 252,
     "metadata": {},
     "output_type": "execute_result"
    }
   ],
   "source": [
    "exp2.as_list()"
   ]
  },
  {
   "cell_type": "code",
   "execution_count": 253,
   "metadata": {},
   "outputs": [
    {
     "data": {
      "text/plain": [
       "[('av_000', -0.030460876665097888),\n",
       " ('as_000', -0.021687962895752123),\n",
       " ('at_000', -0.02005959793937486),\n",
       " ('aa_000', -0.01935883170236129),\n",
       " ('az_000', -0.01708360014518214)]"
      ]
     },
     "execution_count": 253,
     "metadata": {},
     "output_type": "execute_result"
    }
   ],
   "source": [
    "exp3.as_list()"
   ]
  },
  {
   "cell_type": "code",
   "execution_count": 254,
   "metadata": {},
   "outputs": [],
   "source": [
    "# X_train2 = X_train_small.applymap(float)\n",
    "\n",
    "explainer = lime.lime_tabular.LimeTabularExplainer(X_train2.values, \\\n",
    "                                                   feature_names = X_train.columns,\\\n",
    "                                                   class_names = y_train.unique(), discretize_continuous= False)\n"
   ]
  },
  {
   "cell_type": "code",
   "execution_count": 255,
   "metadata": {
    "scrolled": true
   },
   "outputs": [
    {
     "data": {
      "text/plain": [
       "['_LimeTabularExplainer__data_inverse',\n",
       " '__class__',\n",
       " '__delattr__',\n",
       " '__dict__',\n",
       " '__dir__',\n",
       " '__doc__',\n",
       " '__eq__',\n",
       " '__format__',\n",
       " '__ge__',\n",
       " '__getattribute__',\n",
       " '__gt__',\n",
       " '__hash__',\n",
       " '__init__',\n",
       " '__init_subclass__',\n",
       " '__le__',\n",
       " '__lt__',\n",
       " '__module__',\n",
       " '__ne__',\n",
       " '__new__',\n",
       " '__reduce__',\n",
       " '__reduce_ex__',\n",
       " '__repr__',\n",
       " '__setattr__',\n",
       " '__sizeof__',\n",
       " '__str__',\n",
       " '__subclasshook__',\n",
       " '__weakref__',\n",
       " 'base',\n",
       " 'categorical_features',\n",
       " 'categorical_names',\n",
       " 'class_names',\n",
       " 'convert_and_round',\n",
       " 'discretizer',\n",
       " 'explain_instance',\n",
       " 'feature_frequencies',\n",
       " 'feature_names',\n",
       " 'feature_selection',\n",
       " 'feature_values',\n",
       " 'mode',\n",
       " 'random_state',\n",
       " 'sample_around_instance',\n",
       " 'scaler']"
      ]
     },
     "execution_count": 255,
     "metadata": {},
     "output_type": "execute_result"
    }
   ],
   "source": [
    "dir(explainer)"
   ]
  },
  {
   "cell_type": "code",
   "execution_count": 256,
   "metadata": {
    "scrolled": true
   },
   "outputs": [
    {
     "data": {
      "image/png": "[encoded data removed]",
      "text/plain": [
       "<Figure size 432x288 with 1 Axes>"
      ]
     },
     "execution_count": 256,
     "metadata": {},
     "output_type": "execute_result"
    }
   ],
   "source": [
    "exp = explainer.explain_instance(low_data[0], small_est.predict_proba, num_features=10, num_samples = 2000)\n",
    "exp.as_pyplot_figure()"
   ]
  },
  {
   "cell_type": "code",
   "execution_count": 257,
   "metadata": {},
   "outputs": [
    {
     "data": {
      "image/png": "[encoded data removed]",
      "text/plain": [
       "<Figure size 432x288 with 1 Axes>"
      ]
     },
     "execution_count": 257,
     "metadata": {},
     "output_type": "execute_result"
    }
   ],
   "source": [
    "exp = explainer.explain_instance(high_data[0], small_est.predict_proba, num_features=10, num_samples = 2000)\n",
    "exp.as_pyplot_figure()"
   ]
  },
  {
   "cell_type": "code",
   "execution_count": null,
   "metadata": {},
   "outputs": [],
   "source": []
  },
  {
   "cell_type": "code",
   "execution_count": 258,
   "metadata": {},
   "outputs": [],
   "source": [
    "# Get explainations for an instance \n",
    "\n",
    "def get_top_feats(row): \n",
    "    exp1 = explainer.explain_instance(row, small_est.predict_proba, num_features=5, num_samples=1000)\n",
    "    feat_list = exp1.as_list()\n",
    "    get_name = lambda y: y[0].split()[0]\n",
    "    feats = [(get_name(x), x[1]) for x in expxx]\n",
    "    \n",
    "    return(feats)\n"
   ]
  },
  {
   "cell_type": "code",
   "execution_count": 259,
   "metadata": {},
   "outputs": [
    {
     "name": "stdout",
     "output_type": "stream",
     "text": [
      "Number of low scores:  1190\n",
      "Number of high scores:  492\n"
     ]
    }
   ],
   "source": [
    "print(\"Number of low scores: \", len(low_score))\n",
    "print(\"Number of high scores: \", len(high_score))"
   ]
  },
  {
   "cell_type": "code",
   "execution_count": null,
   "metadata": {},
   "outputs": [],
   "source": [
    "demo1 = [get_top_feats(x[1]) for x in low_score[:50]]\n",
    "demo2 = [get_top_feats(x[1]) for x in high_score[:50]]"
   ]
  },
  {
   "cell_type": "code",
   "execution_count": null,
   "metadata": {},
   "outputs": [],
   "source": [
    "master_df = pd.DataFrame()\n",
    "for exp in demo1:\n",
    "    temp_df = pd.DataFrame(exp)\n",
    "    master_df = pd.concat([master_df, temp_df], axis = 0)\n",
    "master_df.columns = [\"Feature\",  \"Coefficient\"]\n",
    "print(\"Master df shape: \", master_df.shape)"
   ]
  },
  {
   "cell_type": "code",
   "execution_count": null,
   "metadata": {},
   "outputs": [],
   "source": [
    "master_df2 = pd.DataFrame()\n",
    "for exp in demo2:\n",
    "    temp_df = pd.DataFrame(exp)\n",
    "    master_df2 = pd.concat([master_df2, temp_df], axis = 0)\n",
    "master_df2.columns = [\"Feature\",  \"Coefficient\"]\n",
    "print(\"Master df shape: \", master_df2.shape)"
   ]
  },
  {
   "cell_type": "code",
   "execution_count": null,
   "metadata": {},
   "outputs": [],
   "source": [
    "master_df.shape"
   ]
  },
  {
   "cell_type": "code",
   "execution_count": null,
   "metadata": {},
   "outputs": [],
   "source": [
    "master_df2.groupby(\"Feature\").apply(lambda x: np.mean(x))"
   ]
  },
  {
   "cell_type": "code",
   "execution_count": null,
   "metadata": {},
   "outputs": [],
   "source": [
    "master_df.groupby(\"Feature\").apply(lambda x: np.mean(x))"
   ]
  },
  {
   "cell_type": "code",
   "execution_count": null,
   "metadata": {},
   "outputs": [],
   "source": []
  },
  {
   "cell_type": "code",
   "execution_count": null,
   "metadata": {},
   "outputs": [],
   "source": []
  }
 ],
 "metadata": {
  "kernelspec": {
   "display_name": "Python 3",
   "language": "python",
   "name": "python3"
  },
  "language_info": {
   "codemirror_mode": {
    "name": "ipython",
    "version": 3
   },
   "file_extension": ".py",
   "mimetype": "text/x-python",
   "name": "python",
   "nbconvert_exporter": "python",
   "pygments_lexer": "ipython3",
   "version": "3.6.4"
  }
 },
 "nbformat": 4,
 "nbformat_minor": 2
}
